{
 "cells": [
  {
   "cell_type": "markdown",
   "metadata": {},
   "source": [
    "# Project | Natural Language Processing\n",
    "### News Headline: Real or Fake News"
   ]
  },
  {
   "cell_type": "markdown",
   "metadata": {},
   "source": [
    "### Prepare the environment"
   ]
  },
  {
   "cell_type": "code",
   "execution_count": null,
   "metadata": {},
   "outputs": [],
   "source": [
    "import pandas as pd\n",
    "import matplotlib.pyplot as plt\n",
    "from sklearn.feature_extraction.text import TfidfVectorizer\n",
    "# pip install pandas scikit-learn\n",
    "from sklearn.model_selection import train_test_split\n",
    "from sklearn.linear_model import LogisticRegression\n",
    "from sklearn.metrics import accuracy_score\n",
    "import os\n",
    "from sklearn.metrics import f1_score, confusion_matrix, classification_report"
   ]
  },
  {
   "cell_type": "markdown",
   "metadata": {},
   "source": [
    "- Read Data\n",
    "- Reduce the training set to speead up development. "
   ]
  },
  {
   "cell_type": "code",
   "execution_count": 14,
   "metadata": {},
   "outputs": [],
   "source": [
    "OUTPUT_PATH = 'dataset/predicted_validation_data.csv'"
   ]
  },
  {
   "cell_type": "code",
   "execution_count": 5,
   "metadata": {},
   "outputs": [
    {
     "name": "stdout",
     "output_type": "stream",
     "text": [
      "(39942, 5)\n"
     ]
    },
    {
     "name": "stderr",
     "output_type": "stream",
     "text": [
      "C:\\Users\\happy\\AppData\\Local\\Temp\\ipykernel_133024\\3074120916.py:7: SettingWithCopyWarning: \n",
      "A value is trying to be set on a copy of a slice from a DataFrame\n",
      "\n",
      "See the caveats in the documentation: https://pandas.pydata.org/pandas-docs/stable/user_guide/indexing.html#returning-a-view-versus-a-copy\n",
      "  data_1000.fillna(\"\",inplace=True)\n"
     ]
    },
    {
     "data": {
      "application/vnd.microsoft.datawrangler.viewer.v0+json": {
       "columns": [
        {
         "name": "index",
         "rawType": "int64",
         "type": "integer"
        },
        {
         "name": "label",
         "rawType": "int64",
         "type": "integer"
        },
        {
         "name": "title",
         "rawType": "object",
         "type": "string"
        },
        {
         "name": "text",
         "rawType": "object",
         "type": "string"
        },
        {
         "name": "subject",
         "rawType": "object",
         "type": "string"
        },
        {
         "name": "date",
         "rawType": "object",
         "type": "string"
        }
       ],
       "conversionMethod": "pd.DataFrame",
       "ref": "f2e0c393-6fca-478f-8038-8ba392a875ce",
       "rows": [
        [
         "0",
         "1",
         "As U.S. budget fight looms, Republicans flip their fiscal script",
         "WASHINGTON (Reuters) - The head of a conservative Republican faction in the U.S. Congress, who voted this month for a huge expansion of the national debt to pay for tax cuts, called himself a “fiscal conservative” on Sunday and urged budget restraint in 2018. In keeping with a sharp pivot under way among Republicans, U.S. Representative Mark Meadows, speaking on CBS’ “Face the Nation,” drew a hard line on federal spending, which lawmakers are bracing to do battle over in January. When they return from the holidays on Wednesday, lawmakers will begin trying to pass a federal budget in a fight likely to be linked to other issues, such as immigration policy, even as the November congressional election campaigns approach in which Republicans will seek to keep control of Congress. President Donald Trump and his Republicans want a big budget increase in military spending, while Democrats also want proportional increases for non-defense “discretionary” spending on programs that support education, scientific research, infrastructure, public health and environmental protection. “The (Trump) administration has already been willing to say: ‘We’re going to increase non-defense discretionary spending ... by about 7 percent,’” Meadows, chairman of the small but influential House Freedom Caucus, said on the program. “Now, Democrats are saying that’s not enough, we need to give the government a pay raise of 10 to 11 percent. For a fiscal conservative, I don’t see where the rationale is. ... Eventually you run out of other people’s money,” he said. Meadows was among Republicans who voted in late December for their party’s debt-financed tax overhaul, which is expected to balloon the federal budget deficit and add about $1.5 trillion over 10 years to the $20 trillion national debt. “It’s interesting to hear Mark talk about fiscal responsibility,” Democratic U.S. Representative Joseph Crowley said on CBS. Crowley said the Republican tax bill would require the  United States to borrow $1.5 trillion, to be paid off by future generations, to finance tax cuts for corporations and the rich. “This is one of the least ... fiscally responsible bills we’ve ever seen passed in the history of the House of Representatives. I think we’re going to be paying for this for many, many years to come,” Crowley said. Republicans insist the tax package, the biggest U.S. tax overhaul in more than 30 years,  will boost the economy and job growth. House Speaker Paul Ryan, who also supported the tax bill, recently went further than Meadows, making clear in a radio interview that welfare or “entitlement reform,” as the party often calls it, would be a top Republican priority in 2018. In Republican parlance, “entitlement” programs mean food stamps, housing assistance, Medicare and Medicaid health insurance for the elderly, poor and disabled, as well as other programs created by Washington to assist the needy. Democrats seized on Ryan’s early December remarks, saying they showed Republicans would try to pay for their tax overhaul by seeking spending cuts for social programs. But the goals of House Republicans may have to take a back seat to the Senate, where the votes of some Democrats will be needed to approve a budget and prevent a government shutdown. Democrats will use their leverage in the Senate, which Republicans narrowly control, to defend both discretionary non-defense programs and social spending, while tackling the issue of the “Dreamers,” people brought illegally to the country as children. Trump in September put a March 2018 expiration date on the Deferred Action for Childhood Arrivals, or DACA, program, which protects the young immigrants from deportation and provides them with work permits. The president has said in recent Twitter messages he wants funding for his proposed Mexican border wall and other immigration law changes in exchange for agreeing to help the Dreamers. Representative Debbie Dingell told CBS she did not favor linking that issue to other policy objectives, such as wall funding. “We need to do DACA clean,” she said.  On Wednesday, Trump aides will meet with congressional leaders to discuss those issues. That will be followed by a weekend of strategy sessions for Trump and Republican leaders on Jan. 6 and 7, the White House said. Trump was also scheduled to meet on Sunday with Florida Republican Governor Rick Scott, who wants more emergency aid. The House has passed an $81 billion aid package after hurricanes in Florida, Texas and Puerto Rico, and wildfires in California. The package far exceeded the $44 billion requested by the Trump administration. The Senate has not yet voted on the aid. ",
         "politicsNews",
         "December 31, 2017 "
        ],
        [
         "1",
         "1",
         "U.S. military to accept transgender recruits on Monday: Pentagon",
         "WASHINGTON (Reuters) - Transgender people will be allowed for the first time to enlist in the U.S. military starting on Monday as ordered by federal courts, the Pentagon said on Friday, after President Donald Trump’s administration decided not to appeal rulings that blocked his transgender ban. Two federal appeals courts, one in Washington and one in Virginia, last week rejected the administration’s request to put on hold orders by lower court judges requiring the military to begin accepting transgender recruits on Jan. 1. A Justice Department official said the administration will not challenge those rulings. “The Department of Defense has announced that it will be releasing an independent study of these issues in the coming weeks. So rather than litigate this interim appeal before that occurs, the administration has decided to wait for DOD’s study and will continue to defend the president’s lawful authority in District Court in the meantime,” the official said, speaking on condition of anonymity. In September, the Pentagon said it had created a panel of senior officials to study how to implement a directive by Trump to prohibit transgender individuals from serving. The Defense Department has until Feb. 21 to submit a plan to Trump. Lawyers representing currently-serving transgender service members and aspiring recruits said they had expected the administration to appeal the rulings to the conservative-majority Supreme Court, but were hoping that would not happen. Pentagon spokeswoman Heather Babb said in a statement: “As mandated by court order, the Department of Defense is prepared to begin accessing transgender applicants for military service Jan. 1. All applicants must meet all accession standards.” Jennifer Levi, a lawyer with gay, lesbian and transgender advocacy group GLAD, called the decision not to appeal “great news.” “I’m hoping it means the government has come to see that there is no way to justify a ban and that it’s not good for the military or our country,” Levi said. Both GLAD and the American Civil Liberties Union represent plaintiffs in the lawsuits filed against the administration. In a move that appealed to his hard-line conservative supporters, Trump announced in July that he would prohibit transgender people from serving in the military, reversing Democratic President Barack Obama’s policy of accepting them. Trump said on Twitter at the time that the military “cannot be burdened with the tremendous medical costs and disruption that transgender in the military would entail.” Four federal judges - in Baltimore, Washington, D.C., Seattle and Riverside, California - have issued rulings blocking Trump’s ban while legal challenges to the Republican president’s policy proceed. The judges said the ban would likely violate the right under the U.S. Constitution to equal protection under the law. The Pentagon on Dec. 8 issued guidelines to recruitment personnel in order to enlist transgender applicants by Jan. 1. The memo outlined medical requirements and specified how the applicants’ sex would be identified and even which undergarments they would wear. The Trump administration previously said in legal papers that the armed forces were not prepared to train thousands of personnel on the medical standards needed to process transgender applicants and might have to accept “some individuals who are not medically fit for service.” The Obama administration had set a deadline of July 1, 2017, to begin accepting transgender recruits. But Trump’s defense secretary, James Mattis, postponed that date to Jan. 1, 2018, which the president’s ban then put off indefinitely. Trump has taken other steps aimed at rolling back transgender rights. In October, his administration said a federal law banning gender-based workplace discrimination does not protect transgender employees, reversing another Obama-era position. In February, Trump rescinded guidance issued by the Obama administration saying that public schools should allow transgender students to use the restroom that corresponds to their gender identity. ",
         "politicsNews",
         "December 29, 2017 "
        ],
        [
         "2",
         "1",
         "Senior U.S. Republican senator: 'Let Mr. Mueller do his job'",
         "WASHINGTON (Reuters) - The special counsel investigation of links between Russia and President Trump’s 2016 election campaign should continue without interference in 2018, despite calls from some Trump administration allies and Republican lawmakers to shut it down, a prominent Republican senator said on Sunday. Lindsey Graham, who serves on the Senate armed forces and judiciary committees, said Department of Justice Special Counsel Robert Mueller needs to carry on with his Russia investigation without political interference. “This investigation will go forward. It will be an investigation conducted without political influence,” Graham said on CBS’s Face the Nation news program. “And we all need to let Mr. Mueller do his job. I think he’s the right guy at the right time.”  The question of how Russia may have interfered in the election, and how Trump’s campaign may have had links with or co-ordinated any such effort, has loomed over the White House since Trump took office in January. It shows no sign of receding as Trump prepares for his second year in power, despite intensified rhetoric from some Trump allies in recent weeks accusing Mueller’s team of bias against the Republican president. Trump himself seemed to undercut his supporters in an interview last week with the New York Times in which he said he expected Mueller was “going to be fair.”    Russia’s role in the election and the question of possible links to the Trump campaign are the focus of multiple inquiries in Washington. Three committees of the Senate and the House of Representatives are investigating, as well as Mueller, whose team in May took over an earlier probe launched by the U.S. Federal Bureau of Investigation (FBI). Several members of the Trump campaign and administration have been convicted or indicted in the investigation.  Trump and his allies deny any collusion with Russia during the campaign, and the Kremlin has denied meddling in the election. Graham said he still wants an examination of the FBI’s use of a dossier on links between Trump and Russia that was compiled by a former British spy, Christopher Steele, which prompted Trump allies and some Republicans to question Mueller’s inquiry.   On Saturday, the New York Times reported that it was not that dossier that triggered an early FBI probe, but a tip from former Trump campaign foreign policy adviser George Papadopoulos to an Australian diplomat that Russia had damaging information about former Trump rival Hillary Clinton.  “I want somebody to look at the way the Department of Justice used this dossier. It bothers me greatly the way they used it, and I want somebody to look at it,” Graham said. But he said the Russia investigation must continue. “As a matter of fact, it would hurt us if we ignored it,” he said. ",
         "politicsNews",
         "December 31, 2017 "
        ],
        [
         "3",
         "1",
         "FBI Russia probe helped by Australian diplomat tip-off: NYT",
         "WASHINGTON (Reuters) - Trump campaign adviser George Papadopoulos told an Australian diplomat in May 2016 that Russia had political dirt on Democratic presidential candidate Hillary Clinton, the New York Times reported on Saturday. The conversation between Papadopoulos and the diplomat, Alexander Downer, in London was a driving factor behind the FBI’s decision to open a counter-intelligence investigation of Moscow’s contacts with the Trump campaign, the Times reported. Two months after the meeting, Australian officials passed the information that came from Papadopoulos to their American counterparts when leaked Democratic emails began appearing online, according to the newspaper, which cited four current and former U.S. and foreign officials. Besides the information from the Australians, the probe by the Federal Bureau of Investigation was also propelled by intelligence from other friendly governments, including the British and Dutch, the Times said. Papadopoulos, a Chicago-based international energy lawyer, pleaded guilty on Oct. 30 to lying to FBI agents about contacts with people who claimed to have ties to top Russian officials. It was the first criminal charge alleging links between the Trump campaign and Russia. The White House has played down the former aide’s campaign role, saying it was “extremely limited” and that any actions he took would have been on his own. The New York Times, however, reported that Papadopoulos helped set up a meeting between then-candidate Donald Trump and Egyptian President Abdel Fattah al-Sisi and edited the outline of Trump’s first major foreign policy speech in April 2016. The federal investigation, which is now being led by Special Counsel Robert Mueller, has hung over Trump’s White House since he took office almost a year ago. Some Trump allies have recently accused Mueller’s team of being biased against the Republican president. Lawyers for Papadopoulos did not immediately respond to requests by Reuters for comment. Mueller’s office declined to comment. Trump’s White House attorney, Ty Cobb, declined to comment on the New York Times report. “Out of respect for the special counsel and his process, we are not commenting on matters such as this,” he said in a statement. Mueller has charged four Trump associates, including Papadopoulos, in his investigation. Russia has denied interfering in the U.S. election and Trump has said there was no collusion between his campaign and Moscow. ",
         "politicsNews",
         "December 30, 2017 "
        ],
        [
         "4",
         "1",
         "Trump wants Postal Service to charge 'much more' for Amazon shipments",
         "SEATTLE/WASHINGTON (Reuters) - President Donald Trump called on the U.S. Postal Service on Friday to charge “much more” to ship packages for Amazon (AMZN.O), picking another fight with an online retail giant he has criticized in the past.     “Why is the United States Post Office, which is losing many billions of dollars a year, while charging Amazon and others so little to deliver their packages, making Amazon richer and the Post Office dumber and poorer? Should be charging MUCH MORE!” Trump wrote on Twitter.  The president’s tweet drew fresh attention to the fragile finances of the Postal Service at a time when tens of millions of parcels have just been shipped all over the country for the holiday season.  The U.S. Postal Service, which runs at a big loss, is an independent agency within the federal government and does not receive tax dollars for operating expenses, according to its website.  Package delivery has become an increasingly important part of its business as the Internet has led to a sharp decline in the amount of first-class letters. The president does not determine postal rates. They are set by the Postal Regulatory Commission, an independent government agency with commissioners selected by the president from both political parties. That panel raised prices on packages by almost 2 percent in November.  Amazon was founded by Jeff Bezos, who remains the chief executive officer of the retail company and is the richest person in the world, according to Bloomberg News. Bezos also owns The Washington Post, a newspaper Trump has repeatedly railed against in his criticisms of the news media. In tweets over the past year, Trump has said the “Amazon Washington Post” fabricated stories. He has said Amazon does not pay sales tax, which is not true, and so hurts other retailers, part of a pattern by the former businessman and reality television host of periodically turning his ire on big American companies since he took office in January. Daniel Ives, a research analyst at GBH Insights, said Trump’s comment could be taken as a warning to the retail giant. However, he said he was not concerned for Amazon. “We do not see any price hikes in the future. However, that is a risk that Amazon is clearly aware of and (it) is building out its distribution (system) aggressively,” he said. Amazon has shown interest in the past in shifting into its own delivery service, including testing drones for deliveries. In 2015, the company spent $11.5 billion on shipping, 46 percent of its total operating expenses that year.  Amazon shares were down 0.86 percent to $1,175.90 by early afternoon. Overall, U.S. stock prices were down slightly on Friday.  Satish Jindel, president of ShipMatrix Inc, which analyzes shipping data, disputed the idea that the Postal Service charges less than United Parcel Service Inc (UPS.N) and FedEx Corp (FDX.N), the other biggest players in the parcel delivery business in the United States. Many customers get lower rates from UPS and FedEx than they would get from the post office for comparable services, he said. The Postal Service delivers about 62 percent of Amazon packages, for about 3.5 to 4 million a day during the current peak year-end holiday shipping season, Jindel said. The Seattle-based company and the post office have an agreement in which mail carriers take Amazon packages on the last leg of their journeys, from post offices to customers’ doorsteps. Amazon’s No. 2 carrier is UPS, at 21 percent, and FedEx is third, with 8 percent or so, according to Jindel. Trump’s comment tapped into a debate over whether Postal Service pricing has kept pace with the rise of e-commerce, which has flooded the mail with small packages.Private companies like UPS have long claimed the current system unfairly undercuts their business. Steve Gaut, a spokesman for UPS, noted that the company values its “productive relationship” with the postal service, but that it has filed with the Postal Regulatory Commission its concerns about the postal service’s methods for covering costs. Representatives for Amazon, the White House, the U.S. Postal Service and FedEx declined comment or were not immediately available for comment on Trump’s tweet. According to its annual report, the Postal Service lost $2.74 billion this year, and its deficit has ballooned to $61.86 billion.  While the Postal Service’s revenue for first class mail, marketing mail and periodicals is flat or declining, revenue from package delivery is up 44 percent since 2014 to $19.5 billion in the fiscal year ended Sept. 30, 2017. But it also lost about $2 billion in revenue when a temporary surcharge expired in April 2016. According to a Government Accountability Office report in February, the service is facing growing personnel expenses, particularly $73.4 billion in unfunded pension and benefits liabilities. The Postal Service has not announced any plans to cut costs. By law, the Postal Service has to set prices for package delivery to cover the costs attributable to that service. But the postal service allocates only 5.5 percent of its total costs to its business of shipping packages even though that line of business is 28 percent of its total revenue. ",
         "politicsNews",
         "December 29, 2017 "
        ],
        [
         "5",
         "1",
         "White House, Congress prepare for talks on spending, immigration",
         "WEST PALM BEACH, Fla./WASHINGTON (Reuters) - The White House said on Friday it was set to kick off talks next week with Republican and Democratic congressional leaders on immigration policy, government spending and other issues that need to be wrapped up early in the new year. The expected flurry of legislative activity comes as Republicans and Democrats begin to set the stage for midterm congressional elections in November. President Donald Trump’s Republican Party is eager to maintain control of Congress while Democrats look for openings to wrest seats away in the Senate and the House of Representatives. On Wednesday, Trump’s budget chief Mick Mulvaney and legislative affairs director Marc Short will meet with Senate Majority Leader Mitch McConnell and House Speaker Paul Ryan - both Republicans - and their Democratic counterparts, Senator Chuck Schumer and Representative Nancy Pelosi, the White House said. That will be followed up with a weekend of strategy sessions for Trump, McConnell and Ryan on Jan. 6 and 7 at the Camp David presidential retreat in Maryland, according to the White House. The Senate returns to work on Jan. 3 and the House on Jan. 8. Congress passed a short-term government funding bill last week before taking its Christmas break, but needs to come to an agreement on defense spending and various domestic programs by Jan. 19, or the government will shut down. Also on the agenda for lawmakers is disaster aid for people hit by hurricanes in Puerto Rico, Texas and Florida, and by wildfires in California. The House passed an $81 billion package in December, which the Senate did not take up. The White House has asked for a smaller figure, $44 billion. Deadlines also loom for soon-to-expire protections for young adult immigrants who entered the country illegally as children, known as “Dreamers.” In September, Trump ended Democratic former President Barack Obama’s Deferred Action for Childhood Arrivals (DACA) program, which protected Dreamers from deportation and provided work permits, effective in March, giving Congress until then to devise a long-term solution. Democrats, some Republicans and a number of large companies have pushed for DACA protections to continue. Trump and other Republicans have said that will not happen without Congress approving broader immigration policy changes and tougher border security. Democrats oppose funding for a wall promised by Trump along the U.S.-Mexican border.  “The Democrats have been told, and fully understand, that there can be no DACA without the desperately needed WALL at the Southern Border and an END to the horrible Chain Migration & ridiculous Lottery System of Immigration etc,” Trump said in a Twitter post on Friday. Trump wants to overhaul immigration rules for extended families and others seeking to live in the United States. Republican U.S. Senator Jeff Flake, a frequent critic of the president, said he would work with Trump to protect Dreamers. “We can fix DACA in a way that beefs up border security, stops chain migration for the DREAMers, and addresses the unfairness of the diversity lottery. If POTUS (Trump) wants to protect these kids, we want to help him keep that promise,” Flake wrote on Twitter. Congress in early 2018 also must raise the U.S. debt ceiling to avoid a government default. The U.S. Treasury would exhaust all of its borrowing options and run dry of cash to pay its bills by late March or early April if Congress does not raise the debt ceiling before then, according to the nonpartisan Congressional Budget Office. Trump, who won his first major legislative victory with the passage of a major tax overhaul this month, has also promised a major infrastructure plan. ",
         "politicsNews",
         "December 29, 2017 "
        ],
        [
         "6",
         "1",
         "Trump says Russia probe will be fair, but timeline unclear: NYT",
         "WEST PALM BEACH, Fla (Reuters) - President Donald Trump said on Thursday he believes he will be fairly treated in a special counsel investigation into Russian meddling in the U.S. presidential election, but said he did not know how long the probe would last. The federal investigation has hung over Trump’s White House since he took office almost a year ago, and some Trump allies have in recent weeks accused the team of Justice Department Special Counsel Robert Mueller of being biased against the Republican president. But in an interview with the New York Times, Trump appeared to shrug off concerns about the investigation, which was prompted by U.S. intelligence agencies’ conclusion that Russia tried to help Trump defeat Democrat Hillary Clinton by hacking and releasing embarrassing emails and disseminating propaganda. “There’s been no collusion. But I think he’s going to be fair,” Trump said in what the Times described as a 30-minute impromptu interview at his golf club in West Palm Beach, Florida. Mueller has charged four Trump associates in his investigation. Russia has denied interfering in the U.S. election. U.S. Deputy Attorney General Rod Rosenstein said this month that he was not aware of any impropriety by Mueller’s team. Trump’s lawyers have been saying for weeks that they had expected the Mueller investigation to wrap up quickly, possibly by the end of 2017. Mueller has not commented on how long it will last. Trump told the Times that he did not know how long the investigation would take. “Timing-wise, I can’t tell you. I just don’t know,” he said. Trump said he thought a prolonged probe “makes the country look bad” but said it has energized his core supporters. “What it’s done is, it’s really angered the base and made the base stronger. My base is strong than it’s ever been,” he said. The interview was a rare break in Trump’s Christmas vacation in Florida. He has golfed each day aside from Christmas Day, and mainly kept a low profile, apart from the occasional flurry of tweets. He spent one day golfing with Republican Senator David Perdue from Georgia, who has pushed legislation to cap immigration numbers, and had dinner on Thursday with Commerce Secretary Wilbur Ross, an international trade hawk. Trump told the Times he hoped to work with Democrats in the U.S. Congress on a spending plan to fix roads and other infrastructure, and on protections for a group of undocumented immigrants who were brought to the United States as children. Trump spoke about trade issues, saying he had backed off his hard line on Chinese trade practices in the hope that Beijing would do more to pressure North Korea to end its nuclear and missile testing program. He said he had been disappointed in the results. He also complained about the North American Free Trade Agreement (NAFTA), which his administration is attempting to renegotiate in talks with Mexico and Canada. Trump said Canadian Prime Minister Justin Trudeau had played down the importance of Canadian oil and lumber exports to the United States when looking at the balance of trade between the two countries. “If I don’t make the right deal, I’ll terminate NAFTA in two seconds. But we’re doing pretty good,” Trump said. ",
         "politicsNews",
         "December 29, 2017 "
        ],
        [
         "7",
         "1",
         "Factbox: Trump on Twitter (Dec 29) - Approval rating, Amazon",
         "The following statements were posted to the verified Twitter accounts of U.S. President Donald Trump, @realDonaldTrump and @POTUS.  The opinions expressed are his own. Reuters has not edited the statements or confirmed their accuracy.  @realDonaldTrump : - While the Fake News loves to talk about my so-called low approval rating, @foxandfriends just showed that my rating on Dec. 28, 2017, was approximately the same as President Obama on Dec. 28, 2009, which was 47%...and this despite massive negative Trump coverage & Russia hoax! [0746 EST] - Why is the United States Post Office, which is losing many billions of dollars a year, while charging Amazon and others so little to deliver their packages, making Amazon richer and the Post Office dumber and poorer? Should be charging MUCH MORE! [0804 EST] -- Source link: (bit.ly/2jBh4LU) (bit.ly/2jpEXYR) ",
         "politicsNews",
         "December 29, 2017 "
        ],
        [
         "8",
         "1",
         "Trump on Twitter (Dec 28) - Global Warming",
         "The following statements were posted to the verified Twitter accounts of U.S. President Donald Trump, @realDonaldTrump and @POTUS.  The opinions expressed are his own. Reuters has not edited the statements or confirmed their accuracy.  @realDonaldTrump : - Together, we are MAKING AMERICA GREAT AGAIN! bit.ly/2lnpKaq [1814 EST] - In the East, it could be the COLDEST New Year’s Eve on record. Perhaps we could use a little bit of that good old Global Warming that our Country, but not other countries, was going to pay TRILLIONS OF DOLLARS to protect against. Bundle up! [1901 EST] -- Source link: (bit.ly/2jBh4LU) (bit.ly/2jpEXYR) ",
         "politicsNews",
         "December 29, 2017 "
        ],
        [
         "9",
         "1",
         "Alabama official to certify Senator-elect Jones today despite challenge: CNN",
         "WASHINGTON (Reuters) - Alabama Secretary of State John Merrill said he will certify Democratic Senator-elect Doug Jones as winner on Thursday despite opponent Roy Moore’s challenge, in a phone call on CNN. Moore, a conservative who had faced allegations of groping teenage girls when he was in his 30s, filed a court challenge late on Wednesday to the outcome of a U.S. Senate election he unexpectedly lost. ",
         "politicsNews",
         "December 28, 2017 "
        ],
        [
         "10",
         "1",
         "Jones certified U.S. Senate winner despite Moore challenge",
         "(Reuters) - Alabama officials on Thursday certified Democrat Doug Jones the winner of the state’s U.S. Senate race, after a state judge denied a challenge by Republican Roy Moore, whose campaign was derailed by accusations of sexual misconduct with teenage girls. Jones won the vacant seat by about 22,000 votes, or 1.6 percentage points, election officials said. That made him the first Democrat in a quarter of a century to win a Senate seat in Alabama.  The seat was previously held by Republican Jeff Sessions, who was tapped by U.S. President Donald Trump as attorney general. A state canvassing board composed of Alabama Secretary of State John Merrill, Governor Kay Ivey and Attorney General Steve Marshall certified the election results. Seating Jones will narrow the Republican majority in the Senate to 51 of 100 seats. In a statement, Jones called his victory “a new chapter” and pledged to work with both parties. Moore declined to concede defeat even after Trump urged him to do so. He stood by claims of a fraudulent election in a statement released after the certification and said he had no regrets, media outlets reported. An Alabama judge denied Moore’s request to block certification of the results of the Dec. 12 election in a decision shortly before the canvassing board met. Moore’s challenge alleged there had been potential voter fraud that denied him a chance of victory. His filing on Wednesday in the Montgomery Circuit Court sought to halt the meeting scheduled to ratify Jones’ win on Thursday. Moore could ask for a recount, in addition to possible other court challenges, Merrill said in an interview with Fox News Channel. He would have to complete paperwork “within a timed period” and show he has the money for a challenge, Merrill said. “We’ve not been notified yet of their intention to do that,” Merrill said. Regarding the claim of voter fraud, Merrill told CNN that more than 100 cases had been reported. “We’ve adjudicated more than 60 of those. We will continue to do that,” he said.  Republican lawmakers in Washington had distanced themselves from Moore and called for him to drop out of the race after several women accused him of sexual assault or misconduct dating back to when they were teenagers and he was in his early 30s.  Moore has denied wrongdoing and Reuters has not been able to independently verify the allegations. ",
         "politicsNews",
         "December 28, 2017 "
        ],
        [
         "11",
         "1",
         "New York governor questions the constitutionality of federal tax overhaul",
         "NEW YORK/WASHINGTON (Reuters) - The new U.S. tax code targets high-tax states and may be unconstitutional, New York Governor Andrew Cuomo said on Thursday, saying that the bill may violate New York residents’ rights to due process and equal protection.  The sweeping Republican tax bill signed into law by U.S. President Donald Trump on Friday introduces a cap, of $10,000,  on deductions of state and local income and property taxes, known as SALT. The tax overhaul was the party’s first major legislative victory since Trump took office in January.  The SALT provision will hit many taxpayers in states with high incomes, high property values and high taxes, like New York, New Jersey and California. Those states are generally Democratic leaning.  “I’m not even sure what they did is legally constitutional and that’s something we’re looking at now,” Cuomo said in an interview with CNN. In an interview with CNBC, Cuomo suggested why the bill may be unconstitutional.  “Politics does not trump the law,” Cuomo said on CNBC. “You have the constitution, you have the law, you have due process, you have equal protection. You can’t use politics just because the majority controls to override the law.” The Fifth Amendment of the Constitution, better known for its protection against self-incrimination, also protects individuals from seizure of life, liberty or property without due process and has been interpreted by the Supreme Court as guaranteeing equal protection by the law.  Cuomo and California Governor Jerry Brown, both Democrats, have previously said they were exploring legal challenges to SALT deduction limits.  Law professors have said legal challenges would likely rest on arguing that the provision interferes with the protection of states’ rights under the U.S. Constitution’s 10th Amendment. Tax attorneys said Cuomo’s legal argument against the tax bill could be that it discriminates and places an unjust tax burden on states that heavily voted for Democrats in the past - known as “blue states.” “The de facto effect of this legislation is to discriminate against blue states and particularly from (Cuomo’s) perspective the state of New York,” said Joseph Callahan, an attorney with the law firm Mackay, Caswell & Callahan in New York.  But some tax experts noted the U.S. Supreme Court has interpreted the 16th Amendment to give Congress broad latitude to tax as it sees fit. In a frequently cited 1934 decision, the Supreme Court called tax deductions a “legislative grace” rather than a vested right. “I don’t understand how they think they have a valid lawsuit here,” David Gamage, a professor of tax law at Indiana University’s Maurer School of Law, told Reuters last week, speaking generally about governors in blue states that could challenge the tax bill.  Cuomo also said on Thursday that New York is proposing a restructuring of its tax code. He provided no details.  A group of 13 law professors on Dec. 18 published a paper suggesting ways that high-tax states could minimize the effects of the SALT deduction cap.  Their suggestions included shifting more of the tax burden onto businesses in the form of higher employer-side payroll taxes, since the federal tax bill’s cap on SALT deductions only applies to individuals and not businesses. States also could raise taxes on pass-through entities, which the federal tax bill specifically benefits with a lower rate on a portion of their income. On Friday, Cuomo said he would allow state residents to make a partial or full pre-payment on their property tax bill before Jan. 1, allowing taxpapyers to deduct such payments for 2017 before the cap kicks in, prompting a wave of residents to pay early.  However, the U.S. Internal Revenue Service on Wednesday advised homeowners that the pre-payment of 2018 property taxes may not be deductible. ",
         "politicsNews",
         "December 28, 2017 "
        ],
        [
         "12",
         "1",
         "Factbox: Trump on Twitter (Dec 28) - Vanity Fair, Hillary Clinton",
         "The following statements were posted to the verified Twitter accounts of U.S. President Donald Trump, @realDonaldTrump and @POTUS.  The opinions expressed are his own. Reuters has not edited the statements or confirmed their accuracy.  @realDonaldTrump : - Vanity Fair, which looks like it is on its last legs, is bending over backwards in apologizing for the minor hit they took at Crooked H. Anna Wintour, who was all set to be Amb to Court of St James’s & a big fundraiser for CH, is beside herself in grief & begging for forgiveness! [1024 EST] -- Source link: (bit.ly/2jBh4LU) (bit.ly/2jpEXYR) ",
         "politicsNews",
         "December 28, 2017 "
        ],
        [
         "13",
         "1",
         "Trump on Twitter (Dec 27) - Trump, Iraq, Syria",
         "The following statements were posted to the verified Twitter accounts of U.S. President Donald Trump, @realDonaldTrump and @POTUS.  The opinions expressed are his own. Reuters has not edited the statements or confirmed their accuracy.  @realDonaldTrump : - “On 1/20 - the day Trump was inaugurated - an estimated 35,000 ISIS fighters held approx 17,500 square miles of territory in both Iraq and Syria. As of 12/21, the U.S. military estimates the remaining 1,000 or so fighters occupy roughly 1,900 square miles...” via @jamiejmcintyre  [1749 EST] - Just left West Palm Beach Fire & Rescue #2. Met with great men and women as representatives of those who do so much for all of us. Firefighters, paramedics, first responders - what amazing people they are! [1811 EST] - “On 1/20 - the day Trump was inaugurated - an estimated 35,000 ISIS fighters held approx 17,500 square miles of territory in both Iraq and Syria. As of 12/21, the U.S. military est the remaining 1,000 or so fighters occupy roughly 1,900 square miles..” @jamiejmcintyre @dcexaminer [2109 EST] - \"Arrests of MS-13 Members, Associates Up 83% Under Trump\" bit.ly/2liRH3b [2146 EST] -- Source link: (bit.ly/2jBh4LU) (bit.ly/2jpEXYR) ",
         "politicsNews",
         "December 28, 2017 "
        ],
        [
         "14",
         "1",
         "Man says he delivered manure to Mnuchin to protest new U.S. tax law",
         " (In Dec. 25 story, in second paragraph, corrects name of Strong’s employer to Mental Health Department, not Public Health Department.) By Bernie Woodall (Reuters) - A man claiming to be the person who delivered a gift-wrapped package of horse manure at the Los Angeles home of U.S. Treasury Secretary Steven Mnuchin said on Monday he did it to protest the federal tax overhaul signed into law last week by President Donald Trump. Robert Strong, 45, a psychologist for the Los Angeles County Mental Health Department, said by telephone he left the poop-filled parcel addressed to Mnuchin and Trump in the driveway outside Mnuchin’s home in the posh Bel Air community.  KNBC-TV, an NBC television affiliate in Los Angeles, reported Mnuchin was not home at the time. The package was found by Mnuchin’s neighbor.    “Protest really should be funny,” Strong told Reuters. “People’s eyes glaze over when they just see angry people in the streets.” He believes the new tax law will hurt poor people. Neither the U.S. Secret Service nor the Los Angeles Police Department, both of which investigated the incident, would confirm Strong was responsible. The Secret Service interviewed an individual who admitted delivering the package, but no charges had been filed against him as of Monday afternoon. LAPD Lieutenant Rob Weise said it was possible whoever left the package did not break any criminal laws. While he is not assigned to investigate the incident, Weise said if the box did not present any danger, it would not be illegal. The LAPD bomb squad X-rayed the box before opening it on Saturday. In a photo of the card Strong posted on Twitter, he wrote “Misters Mnuchin & Trump, We’re returning the ‘gift’ of the Christmas tax bill” and signed it “Warmest wishes, The American people.”      Strong said a Secret Service agent, accompanied by six police officers, showed up at his house to question him on Sunday night, and the agent chided him, asking, “‘Are you ashamed of your behavior?’”     The White House declined to comment on Monday and officials with the Treasury Department could not be reached.         ",
         "politicsNews",
         "December 25, 2017 "
        ],
        [
         "15",
         "1",
         "Virginia officials postpone lottery drawing to decide tied statehouse election",
         "(Reuters) - A lottery drawing to settle a tied Virginia legislative race that could shift the statehouse balance of power has been indefinitely postponed, state election officials said on Tuesday, after the Democratic candidate mounted a legal fight. The decision to put off the high-stakes lotto, originally scheduled for Wednesday, marks the latest twist in a dramatic election recount that at one point showed Democrat Shelly Simonds beating Republican incumbent David Yancey by a single vote.  A victory by Simonds would shift Republicans’ slim control of the 100-member House of Delegates to an even 50-50 split with the Democrats, forcing the two parties into a rare power-sharing arrangement. A day after Simonds emerged as the victor of a recount, a three-judge panel ruled that a disputed ballot should be counted for Yancey. That decision left the two candidates tied with 11,608 votes each in a district that encompasses the shipping hub of Newport News in southeastern Virginia, setting the stage for the equivalent of a coin toss to pick a final winner. Simonds asked a state court to reconsider on Tuesday, arguing that the disputed ballot was wrongly included. An image filed in court showed that the ballot had bubbles filled in beside both names, with a slash mark by Simonds’ name. The voter selected Republicans for other offices. Simonds told reporters that the case had implications not only for her contest but for the integrity of state elections as a whole, saying that without a court ruling in her favor, “recounts would become a never-ending spiral of courtroom challenges.” The chairman of the Virginia Board of Elections, James Alcorn, said in a statement that while holding a lottery would be in keeping with state law, such a move should be considered “an action of last resort.” He added: “Any substantive concerns regarding the election or recount should be resolved before a random drawing is conducted.”    Yancey’s campaign did not immediately respond to requests for comment. The Virginia House Republican Caucus said in a statement that it was reviewing the new court filings. “We believe the court acted appropriately and that the integrity of the process is without question,” spokesman Parker Slaybaugh said. Virginia Department of Elections spokeswoman Andrea Gaines said in an email that no new date for a drawing has been set. Democrats notched historic gains in Virginia’s statehouse elections last month, part of the party’s first big wave of political victories since Republican Donald Trump won the White House last year. Before the Nov. 7 general election, Virginia Republicans held 66 seats to the Democrats’ 34 in the House of Delegates, along with a majority in the state Senate. ",
         "politicsNews",
         "December 27, 2017 "
        ],
        [
         "16",
         "1",
         "U.S. lawmakers question businessman at 2016 Trump Tower meeting: sources",
         "WASHINGTON (Reuters) - A Georgian-American businessman who met then-Miss Universe pageant owner Donald Trump in 2013, has been questioned by congressional investigators about whether he helped organize a meeting between Russians and Trump’s eldest son during the 2016 election campaign, four sources familiar with the matter said. The meeting at Trump Tower in New York involving Donald Trump Jr. and other campaign advisers is a focus of probes by Congress and Special Counsel Robert Mueller on whether campaign officials colluded with Russia when it sought to interfere in the U.S. election, the sources said. Russia denies allegations by U.S. intelligence agencies that it meddled in the election and President Donald Trump denies any collusion. The Senate and House of Representatives intelligence committees recently questioned behind closed doors Irakly Kaveladze, a U.S. citizen born in the former Soviet republic of Georgia, the sources said. He is a U.S.-based representative of Azerbaijani oligarch Aras Agalarov’s real estate firm, the Crocus Group. The panels knew Kaveladze was at the June 9, 2016 meeting but became more interested in him after learning he also attended a private dinner in Las Vegas in 2013 with Trump and Agalarov as they celebrated an agreement to hold that year’s Miss Universe pageant in Moscow, the sources said.  Committee members now want to know more about the extent of Kaveladze’s contacts with the Trump family and whether he had a bigger role than previously believed in setting up the Trump Tower meeting when Trump was a Republican candidate for president. The White House declined to comment. Mueller’s office also declined to comment. Scott Balber, a New York lawyer who represents Kaveladze, confirmed that his client attended both the dinner in Las Vegas and the Trump Tower meeting but said he did not set up the second meeting. Trump’s son-in-law Jared Kushner, other Trump campaign aides, and Russian lawyer Natalia Veselnitskaya were also at that meeting. Lawyer Balber also said the committees were only seeking Kaveladze’s input as a witness and were not targeting him for investigation. “No-one has ever told me that they have any interest in him other than as a witness,” Balber said. Lawyers for Trump Jr. and Kushner did not respond to requests for comment about their contacts with Kaveladze. A lawyer for President Trump declined to comment. One photograph from the 2013 dinner, when Trump still owned the Miss Universe pageant, shows Agalarov and his pop singer son Emin along with Trump, two Trump aides and several other people at the dining table. Another shows Kaveladze standing behind Trump and Emin Agalarov as they speak. The pictures were found by a University of California at Irvine student and blogger Scott Stedman, who posted them on Nov. 22. Aras Agalarov is a billionaire property developer in Russia who was awarded the Order of Honor by Russian President Vladimir Putin. Several U.S. officials who spoke on condition of anonymity said Mueller’s team and the committees are looking for any evidence of a link between the Trump Tower meeting and the release six weeks later of emails stolen from Democratic Party organizations. They are also trying to determine whether there was any discussion at the New York meeting of lifting U.S. economic sanctions on Russia, a top priority for Putin, the officials said. Rob Goldstone, a British publicist, told Trump Jr. ahead of the New York meeting that Russian lawyer Veselnitskaya would be bringing damaging information about donations to a charity linked to Trump’s Democratic rival Hillary Clinton, according to emails later released by Trump Jr. Trump Jr. initially said the meeting was about Russian adoptions but later said it also included Veselnitskaya’s promises of information on the donations to the Clinton charity. He said he ultimately never received the information, although it was later posted on the Internet. In a statement issued after meeting with the Senate Judiciary Committee on Sept. 7, Trump, Jr. said Goldstone and Veselnitskaya were in a conference room with him as well as Kaveladze and a translator. Balber said Kaveladze attended expecting to serve as a translator, although he did not do so in the end because Veselnitskaya brought her own. ",
         "politicsNews",
         "December 27, 2017 "
        ],
        [
         "17",
         "1",
         "Trump on Twitter (Dec 26) - Hillary Clinton, Tax Cut Bill",
         "The following statements were posted to the verified Twitter accounts of U.S. President Donald Trump, @realDonaldTrump and @POTUS.  The opinions expressed are his own. Reuters has not edited the statements or confirmed their accuracy.  @realDonaldTrump : - Based on the fact that the very unfair and unpopular Individual Mandate has been terminated as part of our Tax Cut Bill, which essentially Repeals (over time) ObamaCare, the Democrats & Republicans will eventually come together and develop a great new HealthCare plan! [0658 EST] - WOW, @foxandfrlends “Dossier is bogus. Clinton Campaign, DNC funded Dossier. FBI CANNOT (after all of this time) VERIFY CLAIMS IN DOSSIER OF RUSSIA/TRUMP COLLUSION. FBI TAINTED.” And they used this Crooked Hillary pile of garbage as the basis for going after the Trump Campaign! [0824 EST] - All signs are that business is looking really good for next year, only to be helped further by our Tax Cut Bill. Will be a great year for Companies and JOBS! Stock Market is poised for another year of SUCCESS! [17:17 EST] -- Source link: (bit.ly/2jBh4LU) (bit.ly/2jpEXYR) ",
         "politicsNews",
         "December 26, 2017 "
        ],
        [
         "18",
         "1",
         "U.S. appeals court rejects challenge to Trump voter fraud panel",
         "(Reuters) - A U.S. appeals court in Washington on Tuesday upheld a lower court’s decision to allow President Donald Trump’s commission investigating voter fraud to request data on voter rolls from U.S. states. The U.S. Court of Appeals for the District of Columbia Circuit said the Electronic Privacy Information Center (EPIC) watchdog group, which filed the lawsuit, did not have legal standing to seek to force the presidential commission to review privacy concerns before collecting individuals’ voter data. EPIC had argued that under federal law, the commission was required to conduct a privacy-impact assessment before gathering personal data. But the three-judge appeals court panel ruled unanimously that the privacy law at issue was intended to protect individuals, not groups like EPIC. “EPIC is not a voter,” Judge Karen Henderson wrote in the ruling.  Washington-based U.S. District Judge Colleen Kollar-Kotelly first denied EPIC’s injunction request in July, in part because the collection of data by the commission was not technically an action by a government agency so was not bound by laws that govern what such entities can do.  Kollar-Kotelly noted that the commission, headed by Vice President Mike Pence, was an advisory body that lacks legal authority to compel states to hand over the data. Most state officials who oversee elections and election law experts say that voter fraud is rare in the United States. Trump, a Republican, set up the commission in May after charging, without evidence, that millions of people voted unlawfully in the 2016 presidential election in which he defeated Democratic opponent Hillary Clinton despite losing the popular vote.  The commission’s vice chair, Kris Kobach, the Republican secretary of state for Kansas and an advocate of tougher laws on immigration and voter identification, asked states in June to turn over voter information. The data requested by Kobach included names, the last four digits of Social Security numbers, addresses, birth dates, political affiliation, felony convictions and voting histories.  More than 20 states refused outright and others said they needed to study whether they could provide the data. Civil rights groups and Democratic lawmakers have said the commission’s eventual findings could lead to new ID requirements and other measures making it harder for groups that tend to favor Democratic candidates to cast ballots. EPIC executive director Marc Rotenberg could not immediately be reached for comment. ",
         "politicsNews",
         "December 26, 2017 "
        ],
        [
         "19",
         "1",
         "Treasury Secretary Mnuchin was sent gift-wrapped box of horse manure: reports",
         "(Reuters) - A gift-wrapped package addressed to U.S. Treasury Secretary Steven Mnuchin’s home in a posh Los Angeles neighborhood that was suspected of being a bomb was instead filled with horse manure, police told local media. The package was found Saturday evening in a next-door neighbor’s driveway in Bel Air, the Los Angeles Police Department told the Los Angeles Times and KNBC television, the NBC affiliate in Los Angeles. The package also included a Christmas card with negative comments about President Donald Trump and the new U.S. tax law signed by Trump last week. Reuters could not reach LAPD officials for comment on Sunday. An LAPD bomb squad X-rayed the package before opening it and found the horse manure inside, police told local media. Aerial footage from KNBC showed officers investigating a large box in wrapping paper, then dumping a large amount of what they later identified as the manure and opening the card that was included inside.  Mnuchin, who KNBC said was not home when the package was discovered, is a former Goldman Sachs Group Inc executive and Hollywood film financier. A road in Bel Air was closed for about two hours, KNBC reported. The U.S. Secret Service is also investigating the incident, according to the TV station. ",
         "politicsNews",
         "December 24, 2017 "
        ],
        [
         "20",
         "1",
         "Federal judge partially lifts Trump's latest refugee restrictions",
         "WASHINGTON (Reuters) - A federal judge in Seattle partially blocked U.S. President Donald Trump’s newest restrictions on refugee admissions on Saturday, the latest legal defeat for his efforts to curtail immigration and travel to the United States. The decision by U.S. District Judge James Robart is the first judicial curb on rules the Trump administration put into place in late October that have contributed significantly to a precipitous drop in the number of refugees being admitted into the country. Refugees and groups that assist them argued in court that the administration’s policies violated the Constitution and federal rulemaking procedures, among other claims. Department of Justice attorneys argued in part that U.S. law grants the executive branch the authority to limit refugee admissions in the way that it had done so. On Oct. 24, the Trump administration effectively paused refugee admissions from 11 countries mostly in the Middle East and Africa, pending a 90-day security review, which was set to expire in late January. The countries subject to the review are Egypt, Iran, Iraq, Libya, Mali, North Korea, Somalia, South Sudan, Sudan, Syria and Yemen. For each of the last three years, refugees from the 11 countries made up more than 40 percent of U.S. admissions. A Reuters review of State Department data showed that as the review went into effect, refugee admissions from the 11 countries plummeted. Robart ruled that the administration could carry out the security review, but that it could not stop processing or admitting refugees from the 11 countries in the meantime, as long as those refugees have a “bona fide” connection to the United States. As part of its new restrictions, the Trump administration had also paused a program that allowed for family reunification for refugees, pending further security screening procedures being put into place. Robart ordered the government to re-start the program, known as “follow-to-join”. Approximately 2,000 refugees were admitted into the United States in fiscal year 2015 under the program, according to Department of Homeland Security data. Refugee advocacy groups praised Robart’s decision.  “This ruling brings relief to thousands of refugees in precarious situations in the Middle East and East Africa, as well as to refugees already in the U.S. who are trying to reunite with their spouses and children,” said Mariko Hirose, litigation director for the International Refugee Assistance Project, one of the plaintiffs in the case. A Justice Department spokeswoman, Lauren Ehrsam, said the department disagrees with Robart’s ruling and is “currently evaluating the next steps”. Robart, who was appointed to the bench by Republican former President George W. Bush, emerged from relative obscurity in February, when he issued a temporary order to lift the first version of Trump’s travel ban. On Twitter, Trump called him a “so-called judge” whose “ridiculous” opinion “essentially takes law-enforcement away from our country”. Robart’s ruling represented the second legal defeat in two days for the Trump administration. On Friday, a U.S. appeals court said Trump’s travel ban targeting six Muslim-majority countries should not be applied to people with strong U.S. ties, but said its ruling would be put on hold pending a decision by the U.S. Supreme Court. ",
         "politicsNews",
         "December 24, 2017 "
        ],
        [
         "21",
         "1",
         "Exclusive: U.S. memo weakens guidelines for protecting immigrant children in court",
         "NEW YORK (Reuters) - The U.S. Justice Department has issued new guidelines for immigration judges that remove some instructions for how to protect unaccompanied juveniles appearing in their courtrooms. A Dec. 20 memo, issued by the Executive Office for Immigration Review (EOIR) replaces 2007 guidelines, spelling out policies and procedures judges should follow in dealing with children who crossed the border illegally alone and face possible deportation.  The new memo removes suggestions contained in the 2007 memo for how to conduct “child-sensitive questioning” and adds reminders to judges to maintain “impartiality” even though “juvenile cases may present sympathetic allegations.” The new document also changes the word “child” to “unmarried individual under the age of 18” in many instances. (Link to comparison: tmsnrt.rs/2BlT0VK May 2007 document: tmsnrt.rs/2BBR8wj December 2017 document: tmsnrt.rs/2C2sWCs)  An EOIR official said the new memo contained “clarifications and updates” to 10-year-old guidance “in order to be consistent with the laws as they’ve been passed by Congress.” The new memo was posted on the Justice Department website but has not been previously reported.  Immigration advocates said they worry the new guidelines could make court appearances for children more difficult, and a spokeswoman for the union representing immigration judges said judges are concerned about the tone of the memo. President Donald Trump has made tougher immigration enforcement a key policy goal of his administration, and has focused particularly on trying to curb the illegal entry of children. The administration says it wants to prevent vulnerable juveniles from making perilous journeys to the United States and eliminate fraud from programs for young immigrants.  One changed section of the memo focuses on how to make children comfortable in the court in advance of hearings. The old guidance says they “should be permitted to explore” courtrooms and allowed to “sit in all locations, (including, especially, the judge’s bench and the witness stand).”  The new guidance says such explorations should take place only “to the extent that resources and time permit” and specifically puts the judge’s bench off limits. The new memo also warns judges to be skeptical, since an unaccompanied minor “generally receives more favorable treatment under the law than other categories of illegal aliens,” which creates “an incentive to misrepresent accompaniment status or age in order to attempt to qualify for the benefits.” It also says to be on the lookout for “fraud and abuse,” language that was not in the previous memo. Immigration judges are appointed by the U.S. Attorney General and courts are part of the Department of Justice, not an independent branch. The only sitting immigration judges routinely allowed to speak to the media are representatives of their union, the National Association of Immigration Judges.  Dana Marks, a sitting judge and spokeswoman for the union, said the “overall tone” of the memo “is very distressing and concerning to immigration judges.”  “There is a feeling that the immigration courts are just being demoted into immigration enforcement offices, rather than neutral arbiters,” Marks said. “There has been a relentless beating of the drum toward enforcement rather than due process.”   Former immigration judge Andrew Arthur, who now works at the Center for Immigration Studies, which promotes lower levels of immigration overall, said the new guidelines were needed.  In their previous form, he said, “so much emphasis was placed on the potential inability of the alien to understand the proceedings ... that it almost put the judge into the position of being an advocate.”   The courts have had to handle a surge in cases for unaccompanied minors, mostly from Central America, after their numbers sky-rocketed in 2014 as violence in the region caused residents to flee north.  While illegal crossings initially fell after Trump took office, U.S. Customs and Border Protection said that since May, each month has seen an increase in children being apprehended either alone or with family members.  Attorney General Jeff Sessions said in a speech in Boston in September that the special accommodations for unaccompanied minors had been exploited by “gang members who come to this country as wolves in sheep clothing.” Echoing some of these concerns, the new memo notes in a preamble that not all child cases involve innocents, and that the courts might see “an adolescent gang member” or “a teenager convicted as an adult for serious criminal activity.”  Jennifer Podkul, policy director of Kids in Need of Defense (KIND) said Congress included special procedural protections for immigrant children in a 2008 anti-trafficking bill to “make sure that a kid gets a fair shot in the courtroom.” “These kids are by themselves telling a very complicated and oftentimes very traumatic story,” said Podkul. “The approach of this memo, which is much more suspicious, is not going to help get to the truth of a child’s story.”  In cases where children are called to testify, the old guidance instructed judges to “seek to limit the amount of time the child is on the stand.” The new guidance says that judges should “consider” limiting the child’s time on the stand “without compromising due process for the opposing party,” which is generally a government prosecutor. The memo leaves in a range of special accommodations made for children, including allowing them to bring a pillow or booster seat or a “toy, book, or other personal item.” It also maintains that cases involving unaccompanied minors should be heard on a separate docket when possible and that children should not be detained or transported with adults. ",
         "politicsNews",
         "December 23, 2017 "
        ],
        [
         "22",
         "1",
         "Trump travel ban should not apply to people with strong U.S. ties: court",
         "(Reuters) - A U.S. appeals court on Friday said President Donald Trump’s hotly contested travel ban targeting people from six Muslim-majority countries should not be applied to people with strong U.S. ties. The 9th U.S. Circuit Court of Appeals, which covers several West Coast states, also said its ruling would be put on hold pending a decision on the latest version of the travel ban from the Trump administration by the U.S. Supreme Court. Since taking office in January, Trump has been struggling to enact a ban that passes court muster. A three-judge panel from the 9th Circuit narrowed a previous injunction from a lower federal court to those people “with a credible bona fide relationship with the United States.” It also said that while the U.S. president has broad powers to regulate the entry of immigrants into the United States, those powers are not without limits. “We conclude that the President’s issuance of the Proclamation once again exceeds the scope of his delegated authority,” the panel said. The ban targets people from Chad, Iran, Libya, Somalia, Syria and Yemen seeking to enter the United States. Trump, a Republican, has said the travel ban is needed to protect the United States from terrorism. The state of Hawaii, however, challenged it in court, and a Honolulu federal judge said it exceeded Trump’s powers under immigration law. Trump’s ban also covers people from North Korea and certain government officials from Venezuela, but the lower courts had already allowed those provisions to go into effect. The same three-judge 9th Circuit panel, which limited a previous version of Trump’s ban, heard arguments earlier this month. Trump issued his first travel ban targeting several Muslim-majority countries in January, which caused chaos at airports and mass protests. He issued a revised one in March after the first was blocked by federal courts. That expired in September after a court fight and was replaced with the current version. The ban has some exceptions. Certain people from each targeted country can still apply for a visa for tourism, business or education purposes, and applicants can ask for an individual waiver. “We are pleased that the Supreme Court has already allowed the government to implement the proclamation and keep all Americans safe while this matter is litigated. We continue to believe that the order should be allowed to take effect in its entirety,” U.S. Justice Department spokeswoman Lauren Ehrsam said in a statement. ",
         "politicsNews",
         "December 23, 2017 "
        ],
        [
         "23",
         "1",
         "Second court rejects Trump bid to stop transgender military recruits",
         "WASHINGTON (Reuters) - A federal appeals court in Washington on Friday rejected a bid by President Donald Trump’s administration to prevent the U.S. military from accepting transgender recruits starting Jan. 1, the second court to issue such a ruling this week. Four federal judges around the country have issued injunctions blocking Trump’s ban on transgender people from the military, including one that was also handed down on Friday. The administration has appealed the previous three rulings. In a six-page order, the three-judge-panel of the U.S. Court of Appeals for the District of Columbia Circuit said the administration had “not shown a strong likelihood that they will succeed on the merits of their challenge” to a district court’s order blocking the ban. On Thursday the Richmond, Virginia-based 4th U.S. Circuit Court of Appeals said it was denying the administration’s request while the appeal proceeds. The two courts’ actions could prompt the administration to ask the conservative-majority U.S. Supreme Court to intervene. Also on Friday, a federal trial court in Riverside, California, blocked the ban while the case proceeds, making it the fourth to do so, after similar rulings in Baltimore, Seattle and Washington, D.C. U.S. District Judge Jesus Bernal said without the injunction the plaintiffs, including current and aspiring service members, would suffer irreparable harm. “There is nothing any court can do to remedy a government-sent message that some citizens are not worthy of the military uniform simply because of their gender,” he added. The administration had argued that the Jan. 1 deadline for accepting transgender recruits was problematic because tens of thousands of personnel would have to be trained on the medical standards needed to process transgender applicants, and the military was not ready for that. The Obama administration had set a deadline of July 1, 2017, to begin accepting transgender recruits, but Trump’s defense secretary, James Mattis, postponed that date to Jan. 1. In an August memorandum, Trump gave the military until March 2018 to revert to a policy prohibiting openly transgender individuals from joining the military and authorizing their discharge. The memo also halted the use of government funds for sex-reassignment surgery for active-duty personnel. ",
         "politicsNews",
         "December 23, 2017 "
        ],
        [
         "24",
         "1",
         "Failed vote to oust president shakes up Peru's politics",
         "LIMA (Reuters) - Peru’s President Pedro Pablo Kuczynski could end up the surprise winner of an attempt to oust him from power this week, after some opposition lawmakers broke ranks with party leaders to support him, opening a divide that might strengthen his hand. Despite having a Congressional majority, the rightwing opposition party Popular Force was unable to push through a motion to remove Kuczynski from office on Thursday, after 10 of its own lawmakers broke ranks to save the president. The vote cemented a growing divide in the opposition and looked to threaten its control over Congress, potentially aiding Kuczynski as he tries to restore political stability and revive investments in one of Latin America’s most robust economies. The surprise defection was the result of a deal struck between Kuczynski and Popular Force rebel lawmaker Kenji Fujimori to get his father and ex-president Alberto Fujimori out of prison, alleged Popular Force secretary general, Jose Chlimper. Over the past year, Kenji has courted Kuczynski’s center-right government while challenging his sister Keiko’s leadership of the rightwing populist movement that their father formed in the 1990s. In defiance of his sister, Kenji threw his support behind Kuczynski ahead of the vote on whether to remove him from office over unproven graft allegations. Nine other Popular Force lawmakers followed his lead. “This is the birth of a serious and formal split (in the Fujimori movement),” said Guillermo Loli, the head of political research for pollster Ipsos Peru. “Everything points to a pardon,” he added.     Kuczynski’s government denied that a pardon for Fujimori was part of its political negotiations. In an address to the nation late on Friday, Kuczynski said he would spend the coming days reflecting on his year and a half in office. “I’ll be announcing to you changes to make sure 2018 is not just a year of greater growth, but politically different,” Kuczynski said. Efforts to reach the Popular Force lawmakers who defected were not successful. One, Clayton Galvan, said on local TV channel Canal N that Alberto Fujimori called them from prison to ask them to help Kuczynski stay in power.     Alberto Fujimori, who is serving a 25-year sentence for graft and human rights crimes, is a deeply divisive figure in Peru. While many consider him a corrupt dictator, others credit him with ending an economic crisis and bloody leftist insurgency during his 1990-2000 term. Freeing him would likely anger the well-organized foes of the Fujimori clan - a mix of technocrats, leftists, human rights activists and academics. “The day (Kuczynski) signs a pardon, he loses all of those guys. Permanently,” said Harvard University political scientist Steve Levitsky. Support from the anti-Fujimori crowd was key to Kuczynski’s razor-thin victory over Keiko in last year’s presidential election, and to keeping the motion to oust him from succeeding. “Kuczynski was saved by two diametrically opposed political groups: Kenji’s group and the left, which opposes a pardon. He can’t please both of them,” said Levitsky. Kuczynski, a 79-year-old former investment banker, took office amid hopes he would usher in cleaner government and faster economic growth. Instead, a graft scandal roiling Latin America has stalled investments and ensnared him in allegations of wrongdoing. Before the vote on Thursday, Kuczynski fanned fears of a return to Peru’s authoritarian past and described the motion as part of a legislative “coup” attempt by Keiko’s supporters. Popular Force denies the charge and says the bid to remove him was part of its fight against corruption and within the bounds of the constitution. A hardline Popular Force lawmaker loyal to Keiko, Hector Becerril, said the Kenji faction represented “traitors.”  “If they have any sense of decency after this vote, the least they could do is present their resignations,” Becerril told journalists on Friday. “Hopefully today.” With 10 votes fewer, Popular Force would command 61 seats in the 130-member, single-chamber Congress, less than an absolute majority, though it would still be the biggest voting bloc. The political crisis has cost Kuczynski his interior minister, Carlos Basombrio, who announced his resignation on Friday. Kuczynski could make a decision about other Cabinet changes in coming days, his government said.             ",
         "politicsNews",
         "December 23, 2017 "
        ],
        [
         "25",
         "1",
         "Trump signs tax, government spending bills into law",
         "WASHINGTON (Reuters) - U.S. President Donald Trump signed Republicans’ massive $1.5 trillion tax overhaul into law on Friday, cementing the biggest legislative victory of his first year in office, and also approved a short-term spending bill that averts a possible government shutdown. Trump said he wanted to sign the tax bill before leaving Washington on Friday for his Mar-a-Lago estate in Florida, rather than stage a more formal ceremony in January, so he could keep his promise to finish work before Christmas. “I didn’t want you folks to say I wasn’t keeping my promise. I’m keeping my promise,” he told reporters in the White House. The two pieces of legislation represent Trump’s most significant accomplishment with Congress since taking office in January, as well as a sign of what awaits when he returns from Florida after the Christmas holiday. The tax package, the largest such overhaul since the 1980s, slashes the corporate rate from 35 percent to 21 percent and temporarily reduces the tax burden for most individuals as well. Trump praised several companies that have announced employee bonuses in the wake of the bill’s passage, naming AT&T, Boeing, Wells Fargo, Comcast  and Sinclair Broadcast Group. “Corporations are literally going wild over this,” he said.      Democrats had opposed the bill as a giveaway to the wealthy that would add $1.5 trillion to the $20 trillion national debt during the next decade. The spending bill extends federal funding through Jan. 19, largely at current levels. It does nothing to resolve broader disputes over immigration, healthcare and military spending. Republicans also are divided over whether to follow up their sweeping overhaul of the U.S. tax code with a dramatic restructuring of federal benefit programs. House Speaker Paul Ryan has said he would like to revamp welfare and health programs but Senate Republican Leader Mitch McConnell told National Public Radio on Monday that he was not interested in cutting those programs without Democratic support. Trump’s year also closes with significant turnover of many top staffers who had been in the White House since early in his term. On Friday, the White House confirmed Deputy Chief of Staff Rick Dearborn and Jeremy Katz, who worked under White House economic adviser Gary Cohn, were leaving. ",
         "politicsNews",
         "December 22, 2017 "
        ],
        [
         "26",
         "1",
         "Companies have up to a year for new U.S. tax bill reporting: SEC",
         "WASHINGTON (Reuters) - U.S. financial regulators said on Friday that because the new tax bill could make timely financial reporting difficult, public companies can make reasonable estimates when uncertain of the impact of the new tax law in financial reports, and will have up to a year to report final numbers.               The Securities and Exchange Commission bulletin comes after the U.S. Chamber of Commerce warned on Thursday that some U.S. listed companies may struggle to file their annual financial reports on time because the Republican-led overhaul of the country’s tax system may prompt a raft of additional disclosures. In a statement on the Tax Cuts and Jobs Act (TJCA) issued on Friday, SEC Chairman Jay Clayton and Commissioners Kara Stein and Michael Piwowar said guidance was similar to that given in the past when tax law changes affected financial reporting. The $1.5 trillion tax bill, signed into law on Friday by U.S. President Donald Trump, will significantly affect many companies’ year-end financial statements because listing rules oblige them to flag any potential material risks or changes to their operations and financial outlook to shareholders. The bill significantly lowers the income tax rate for U.S. companies - to 21 percent from 35 percent - allows them to repatriate cash from overseas, and modifies numerous deductions, among other changes.  Public companies have been given a “measurement period” to study the changes created by a new law. During the measurement period, the SEC expects companies to complete their accounting and that “in no circumstances should the measurement period extend beyond one year from the enactment date,” of the TJCA. Companies will also need to make disclosures during the measurement period, including any updates to provisional amounts given earlier, or newly discovered reporting implications from tax bill. For companies with fiscal years ending Dec. 31, getting the necessary analysis done in time could be tough, the Chamber said. The tax bill It is the largest such overhaul since the 1980. In addition to slashing the corporate rate, it temporarily reduces the tax burden for most individuals.     ",
         "politicsNews",
         "December 23, 2017 "
        ],
        [
         "27",
         "1",
         "Trump on Twitter (Dec 22) - Tax cut, Missile defense bill",
         "The following statements were posted to the verified Twitter accounts of U.S. President Donald Trump, @realDonaldTrump and @POTUS.  The opinions expressed are his own. Reuters has not edited the statements or confirmed their accuracy.  @realDonaldTrump : - Our big and very popular Tax Cut and Reform Bill has taken on an unexpected new source of “love” - that is big companies and corporations showering their workers with bonuses. This is a phenomenon that nobody even thought of, and now it is the rage. Merry Christmas! [0747 EST] - At some point, and for the good of the country, I predict we will start working with the Democrats in a Bipartisan fashion. Infrastructure would be a perfect place to start. After having foolishly spent $7 trillion in the Middle East, it is time to start rebuilding our country! [0805 EST] - “The President has accomplished some absolutely historic things during this past year.” Thank you Charlie Kirk of Turning Points USA. Sadly, the Fake Mainstream Media will NEVER talk about our accomplishments in their end of year reviews. We are compiling a long & beautiful list. [0917 EST] - With all my Administration has done on Legislative Approvals (broke Harry Truman’s Record), Regulation Cutting, Judicial Appointments, Building Military, VA, TAX CUTS & REFORM, Record Economy/Stock Market and so much more, I am sure great credit will be given by mainstream news? [1004 EST] - Will be signing the biggest ever Tax Cut and Reform Bill in 30 minutes in Oval Office. Will also be signing a much needed 4 billion dollar missile defense bill. [1007 EST] -- Source link: (bit.ly/2jBh4LU) (bit.ly/2jpEXYR) ",
         "politicsNews",
         "December 22, 2017 "
        ],
        [
         "28",
         "1",
         "Mexico to review need for tax changes after U.S. reform-document",
         "MEXICO CITY (Reuters) - Mexico’s finance ministry will evaluate whether to make fiscal changes in response to the U.S. tax reform, according to a document seen by Reuters on Friday. In the document, the ministry said Mexico would not make changes that left it with a higher public sector deficit. “Nevertheless, there will be an assessment of whether modifications should be made to Mexico’s fiscal framework,” the document said. ",
         "politicsNews",
         "December 22, 2017 "
        ],
        [
         "29",
         "1",
         "Senate leader McConnell sees a more collegial 2018",
         "WASHINGTON (Reuters) - U.S. Senate Majority Leader Mitch McConnell on Friday said a shifting landscape will lead him to work with Democrats on immigration and financial regulation early in the new year, following a year of acrimony and partisan legislation. In an end-of-year news conference, McConnell touted a list of Republican accomplishments since President Donald Trump took office in January. It started with the confirmation of Neil Gorsuch to the Supreme Court and ended with an overhaul of the  U.S. tax code. But in January, McConnell’s already razor-thin 52-48 Republican majority will shrink to 51-49 with the swearing in of Senator-elect Doug Jones, the Democrat who surprised the political world with a win in a special election in the deeply Republican state of Alabama. Adding to McConnell’s difficulties, special Senate procedures are fading that allowed him to pass a tax bill and try to repeal the Affordable Care Act this year without any Democratic support. That means that McConnell’s victories - if he has them - will require more collaboration and less confrontation. The pivot was the centerpiece of his news conference remarks.  “There are areas where I think we can get bipartisan agreement,” McConnell said. First on his list was legislation to change Dodd-Frank banking regulations that he said would help smaller financial institutions. The Kentucky senator noted that Senate Banking Committee Chairman Mike Crapo has advanced legislation that is co-sponsored by several Democrats. McConnell also pointed to bipartisan efforts to help undocumented immigrants, known as “Dreamers,” who were brought into the United States when they were children. If negotiators from both parties can come to a deal for the Dreamers that Trump’s administration can support, “we’ll spend floor time on that in January,” McConnell said. On Thursday, Senate Democratic Leader Chuck Schumer complained that throughout 2017 Republicans “have been hell-bent on pursuing a partisan agenda.” When asked by a reporter of possible bipartisan successes in 2018, Schumer pointed to the need for infrastructure improvements but said that Trump has been “all over the lot” on how to accomplish road, airport and other construction projects. With the November 2018 congressional elections approaching, Democrats might have less incentive to cooperate with Republicans, especially after Schumer’s party won decisive victories in special elections this month and last in Alabama and Virginia. McConnell hinted it would be tougher to find agreement with Democrats on some other legislative issues, including welfare reform, which Trump says he wants to push ahead with in 2018. McConnell said he would consult with Trump and House of Representatives Speaker Paul Ryan in January over prospects for welfare reform.  ",
         "politicsNews",
         "December 22, 2017 "
        ],
        [
         "30",
         "1",
         "Alabama to certify Democrat Jones winner of Senate election",
         "(Reuters) - Democrat Doug Jones’ surprise victory over Republican Roy Moore in this month’s special U.S. Senate election will be certified on Dec. 28, Alabama state officials said on Friday. Jones will be the first Democrat sent to the Senate from Republican stronghold Alabama in a quarter century. When he takes office, Republicans’ majority in the chamber will narrow to 51 of the 100 seats. Alabama Governor Kay Ivey, Attorney General Steve Marshall and Secretary of State John Merrill will meet to certify Jones’ win, Merrill’s office said in a statement. Jones’ margin of victory was 1.5 percentage points. Moore has not conceded defeat in the Dec. 12 vote, despite being urged by President Donald Trump to do so. Calls and emails to Moore’s campaign spokeswomen were not immediately returned on Friday. Moore was a controversial candidate whose campaign was beset by allegations that he sexually assaulted or pursued teenage girls while he was in his 30s. He denied the misconduct allegations, saying they were a result of “dirty politics.” ",
         "politicsNews",
         "December 22, 2017 "
        ],
        [
         "31",
         "1",
         "McConnell happier with Trump tweets after tax victory",
         "WASHINGTON (Reuters) - A summer spat between President Donald Trump and Senate Majority Leader Mitch McConnell has turned into a warm embrace - and all it took was a sweeping rewrite of the U.S. tax code.     For months, McConnell urged the president to lock his cell phone in a drawer and retire his signature tweets that have Washington abuzz on a daily basis. He even chided Trump for having “excessive expectations” of Congress. For his part, Trump scorched McConnell in August for failing to repeal Obamacare, sidestepped reporters’ questions over whether the senator should retire and tweeted, “Mitch, get to work.” But with Congress’ passage of the tax bill this week, giving Trump his first major legislative victory, the president tweeted on Wednesday, “I would like to congratulate @SenateMajLdr on having done a fantastic job.” McConnell joined in the love fest on Friday, or at least what constitutes a love fest for the understated senator. “With regard to the president’s tweeting habits, I haven’t been a fan until this week. I’m warming up to it,” McConnell quipped. Still, he reined in reporters who asked whether he might visit Trump in Mar-a-Lago, the president’s Florida resort, over the Christmas and New Year holidays. McConnell laughed and said he would instead be attending a Dec. 30 football game in Jacksonville, Fla. “That’s the closest I’ll get.” ",
         "politicsNews",
         "December 22, 2017 "
        ],
        [
         "32",
         "1",
         "House panel asks Trump ex-top aide Bannon to testify: Bloomberg",
         "WASHINGTON (Reuters) - Steve Bannon, a former top White House strategist and a former chief campaign aide to Donald Trump, has been asked to testify before the U.S. House of Representatives intelligence panel next month, Bloomberg News reported. Corey Lewandowski, Trump’s former campaign manager, was also asked to testify in early January, Bloomberg reported on Friday, citing an official familiar with the committee’s schedule.  Representatives for the committee did not immediately respond to inquiries for comment. The panel is probing alleged Russian meddling into the 2016 U.S. election. ",
         "politicsNews",
         "December 22, 2017 "
        ],
        [
         "33",
         "1",
         "Callista Gingrich becomes Trump's envoy to pope as differences mount",
         "VATICAN CITY (Reuters) - Callista Gingrich, wife of the former speaker of the U.S. House of Representatives, on Friday became U.S. ambassador to the Vatican, which is at odds with Washington over immigration, climate change and Jerusalem. Callista Gingrich, 51, an author, documentary filmmaker and former congressional aide, presented her credentials to Pope Francis at the Vatican to officially assume her role. Her husband Newt Gingrich was an early supporter and vocal ally of U.S. President Donald Trump. Newt Gingrich is expected to continue his role as a political contributor to Fox News from his new base in Rome. Trump’s nomination of Callista Gingrich to the post at the Holy See in May caused some controversy because of her marriage to Gingrich, with whom she became involved when he was still married to his second wife. Both are Roman Catholic. On Thursday they attended the funeral at the Vatican of Cardinal Bernard Law, who resigned as Archbishop of Boston 15 years ago after covering up years of sexual abuse of children by priests.  The pope has implicitly criticized Trump’s decision to pull out of the Paris accord on climate change. He said last month that denying climate change or being indifferent to its effects were “perverse attitudes” that blocked research and dialogue aimed at protecting the future of the planet. Francis is also opposed to Trump’s decision to recognize Jerusalem as Israel’s capital. The pontiff has called for respect for the city’s “status quo,” saying new tension in the Middle East would further inflame world conflicts.. On Thursday at the United Nations, where the Vatican has permanent observer status, more than 120 countries defied Trump and voted in favor of a resolution calling for the United States to drop its recent recognition. The U.S. embassy said in a statement that the new ambassador “looks forward to working with the Holy See to defend human rights, advance religious freedom, combat human trafficking, and to seek peaceful solutions to crises around the world”.    ",
         "politicsNews",
         "December 22, 2017 "
        ],
        [
         "34",
         "1",
         "As Republicans aim to ride economy to election victory, a warning from voters in key district",
         " KING OF PRUSSIA, Pennsylvania/WASHINGTON (Reuters) - In the Fox & Hound sports bar, next to a shopping mall in suburban Philadelphia, four Democrats are giving speeches to potential voters as they begin their journey to try to unseat Republican congressman Pat Meehan in next year’s elections. Winning this congressional district - Pennsylvania’s 7th - is key to Democrats’ hopes of gaining the 24 seats they need to retake the U.S. House of Representatives next November. The stakes are high - control of the House would allow them to block President Donald Trump’s legislative agenda. On the surface, Democrats face a significant hurdle. In nearly two-thirds of 34 Republican-held districts that are top of the party’s target list, household income or job growth, and often both, have risen faster than state and national averages over the past two years, according to a Reuters analysis of census data. (Graphic: tmsnrt.rs/2Bgq29K) That is potentially vote-winning news for Republican incumbents, who in speeches and television ads can trumpet a strengthening economy as a product of Republican control of Washington, even though incomes and job growth began improving under former Democratic President Barack Obama. “The good economy is really the only positive keeping Republicans afloat,” said David Wasserman, a congressional analyst with the non-partisan Cook Political Report. Still, trumpeting the good economy may have limited impact among voters in competitive districts like this mostly white southeast region of Pennsylvania bordering Delaware and New Jersey, which has switched between both parties twice in the past 15 years. Many of the two dozen voters that Reuters interviewed in the 6th and 7th districts agreed the economy was strong, that jobs were returning and wages were growing. A handful were committed Republicans and Democrats who always vote the party line. About half voted for Meehan last year, but most of those said they were unsure whether they would vote for him again in 2018. Some said they were disappointed with the Republican Party’s handling of healthcare and tax reform as well as Trump’s erratic performance. About half also felt that despite an improving economy, living costs are squeezing the middle class. Drew McGinty, one of the Democratic hopefuls at the Fox & Hound bar hoping to unseat Meehan, said the good economic numbers were misleading. “When I talk to people across the district, I hear about stagnant wages. I hear about massive debt young people are getting when they finish college. There’s a lot out there not being told by the numbers,” he said. Still, Meehan, who won by 19 points in last November’s general election, is confident the strong economy will help him next year. He plans to run as a job creator and a champion of the middle class. “The first thing people look at is whether they have got a job and income,” Meehan said in a telephone interview. Democratic presidential candidate Hillary Clinton carried the district by more than two points in the White House race, giving Democrats some hope that they can peel it away from Republicans next November. Kyle Kondik, a political analyst at the University of Virginia Center for Politics, said the election will essentially be a referendum on Trump. The economy might help Republicans, he said, but other issues will likely be uppermost in voters’ minds, like the Republican tax overhaul - which is seen by some as favoring the rich over the middle class - and Trump’s dismantling of President Barack Obama’s initiative to expand healthcare to millions of Americans, popularly known as Obamacare. Indeed, healthcare is Americans’ top concern, according to a Reuters/Ipsos poll conducted earlier this month. Next is terrorism and then the economy. “Healthcare will be the No. 1 issue,” in the election, predicted Molly Sheehan, another Democrat running to unseat Meehan. Democrats have warned that dismantling Obamacare will leave millions of Americans without health coverage, and political analysts say Republicans in vulnerable districts could be punished by angry voters. Republicans argue that Obamacare drives up costs for consumers and interferes with personal medical decisions. In Broomall, a hamlet in the 7th District, local builder Greg Dulgerian, 55, said he voted for Trump and Meehan. He still likes Trump because of his image as a political outsider, but he is less certain about Meehan. “I’m busy, which is good,” Dulgerian said. “But I actually make less than I did 10 years ago, because my living costs and costs of materials have gone up.” Dulgerian said he was not sure what Meehan was doing to address this, and he was open to a Democratic candidate with a plan to help the middle class. Ida McCausland, 65, is a registered Republican but said she is disappointed with the party. She views the overhaul of the tax system as a giveaway to the rich that will hit the middle class. “I will probably just go Democrat,” she said. Still, others interviewed said the good economy was the most important issue for them and would vote for Meehan.     Mike Allard, 35, a stocks day trader, voted for Clinton last year but did not cast a ballot in the congressional vote. He thinks the economy will help Meehan next year and is leaning toward voting for him. “Local businesses like the way the economy is going right now,” he said. In the 7th district median household income jumped more than 10 percent from 2014 to 2016, from $78,000 to around $86,000, above the national average increase of 7.3 percent, while job growth held steady, the analysis of the census data shows. Overall, the U.S. economy has grown 3 percent in recent quarters, and some forecasters now think the stimulus from the Republican tax cuts will sustain that rate of growth through next year. Unemployment has dropped to 4.1 percent, a 17-year low. In midterm congressional elections, history shows that voters often focus on issues other than the economy. In 1966 the economy was thriving, but President Lyndon B. Johnson’s Democrats suffered a net loss of 47 seats, partly because of growing unhappiness with the Vietnam War. In 2006, again the economy was humming, but Republicans lost a net 31 seats in the House, as voters focused on the Iraq war and the unpopularity of Republican President George W. Bush. In 2010, despite pulling the economy out of a major recession, Democrats lost control of the House to Republicans, mainly because of the passage of Obamacare, which at the time was highly unpopular with many voters. “When times are bad, the election is almost always about the economy. When the economy is good, people have the freedom and the ability to worry about other issues,” said Stu Rothenberg, a veteran political analyst. ",
         "politicsNews",
         "December 22, 2017 "
        ],
        [
         "35",
         "1",
         "Exclusive: State Department tells refugee agencies to downsize U.S. operations",
         "(Reuters) - The U.S. State Department has told refugee agencies it will sharply pare back the number of offices across the country authorized to resettle people in 2018 as President Donald Trump cuts the number of refugees allowed into the United States. The announcement was made at a Dec. 1 meeting in Washington with State Department officials and representatives from nine major refugee agencies, several executives of the agencies said. Advocates said the decision is likely to lead to the closure of dozens of resettlement offices around the country, potentially leaving some refugees without access to services that help them integrate into American life. Several state refugee coordinators said they had also been made aware of the closures.     Refugee resettlement in the United States is handled by nine non-profit agencies that receive funding from the federal government for some of their refugee work. They partner with, or oversee, hundreds of local offices in nearly every state that help new arrivals with basic tasks like enrolling children in school, arranging doctors’ visits and applying for Social Security cards and other documents.  Though the agencies are independent, they must get government approval for where they will resettle new refugees.  Aid workers and state officials involved in refugee resettlement said the agencies were informed by the State Department in the Dec. 1 meeting that offices expected to handle fewer than 100 refugees in fiscal year 2018 will no longer be authorized to resettle new arrivals, which means many of them will have to close. There are about 300 resettlement offices spread across 49 states, and advocates estimate several dozen are at risk, though shuttering plans will not be finalized until next year. The Trump administration has said it wants refugees to assimilate quickly, both to promote national security and so that they can become self-sufficient. Refugee advocates say the closure of local offices will undermine that goal. They say the offices play a crucial role in helping newcomers traumatized from having fled conflict or persecution. Even if no new refugees are resettled by the offices they still have an obligation to help those already here, they say.  If refugees lose access to “services to help them navigate the processes of registering for school, and English classes and finding a job, that will mean that it will take longer for them to navigate life in the United States and contribute to our economy,” said Robert Carey, who directed the Office of Refugee Resettlement under former President Barack Obama.  A State Department official confirmed the Dec. 1 meeting and said the agency is looking to “reduce costs and simplify management structures to help the U.S. Refugee Admissions Program run in a way that is fiscally responsible and sustainable.”  Some conservative groups that favor lower immigration said they would welcome curbs on the agencies’ activities. “These organizations have to adapt when their services are no longer needed as much,” said Jessica Vaughan, director of policy studies at the Center for Immigration Studies. “There is no reason to keep funneling money to them.” Joshua Meservey, a senior policy analyst at the conservative Heritage Foundation who formerly worked in refugee resettlement, said that costs need to be balanced against benefits. “It is unclear to me if the assimilation gains are great enough to justify the extra expense” of funding the smaller agencies, he said. The nine agencies are now trying to coordinate closures so that they can maintain at least one resettlement agency in as many states as possible, several agency executives said. “We’re hoping that they (the State Department) only close sites where there is possible duplication,” said Mark Hetfield, president of HIAS, one of the nine agencies. “This is going to have to be a negotiation and a process.” Since taking office in January, Trump has moved to sharply reduce refugee admissions to the United States, because of national security concerns and a belief that money could be better spent resettling people closer to their original homes. Soon after taking office, he slashed the 2017 U.S. refugee cap to 50,000 from the 110,000 ceiling set by Obama. In September, he announced a cap of 45,000 for 2018, the lowest number since the modern U.S. refugee program was established in 1980. The resettlement office in Chattanooga, Tennessee is at risk of shutting down, because it is only projected to receive about 85 refugees, said Holly Johnson, the state’s refugee coordinator. “Small doesn’t necessarily mean weak or subpar,” Johnson said. “They spend more time with folks, they have really well-established connections to the community, so people feel welcomed, which really helps.” Until this year, Idaho had four resettlement offices - three in Boise and one in Twin Falls, said Jan Reeves, director of the Idaho Office for Refugees, a non-profit which administers resettlement in the state. Earlier this year one of the sites in Boise shut down, he said. “It was disruptive, and we’ve lost a really valuable partner and we’ve lost some capacity to do the job,” he said. ",
         "politicsNews",
         "December 21, 2017 "
        ],
        [
         "36",
         "1",
         "Congress votes to avert shutdown, sends Trump stopgap spending bill",
         "WASHINGTON (Reuters) - The U.S. Congress on Thursday averted a government shutdown just one day before federal funding was due to expire, sending President Donald Trump a bill to provide just enough money to keep agencies operating through Jan. 19. With lawmakers eager to begin a holiday recess until Jan. 3, the House of Representatives and Senate scurried to pass the hastily written bill by votes of 231-188 and 66-32, respectively. When Congress returns, lawmakers will immediately have to get back to work on appropriating more money for a fiscal year that already will be three months old. They will try to pass an “omnibus” spending bill to fund the government from Jan. 19 through Sept. 30. Negotiators have been struggling for months over thorny issues such as the amount of defense-spending increases versus increases for other domestic programs, including medical research, opioid treatment and “anti-terrorism” activities. Fiscal hawks, meanwhile, are angry that Congress is again moving to bust through spending caps that had been designed to tamp down mounting federal debt. But some of those same lawmakers in the Republican-controlled Congress earlier in the week voted for a sweeping tax bill that will add $1.5 trillion over the next 10 years to a national debt that already stands at $20 trillion. With the clock ticking toward a deadline of midnight on Friday when government funding would run out, Democrats in the House and Senate made a strong pitch for including protections for young immigrants who entered the country illegally as children, popularly known as “Dreamers.” In the end, the Congressional Hispanic Caucus and immigration advocacy groups failed. But nearly all of the House’s 193 Democrats and 29 of the Senate’s 46 Democrats voted no, in part to protest the lack of action on the immigration measure. Shortly before the House and Senate votes, Democratic Representative Luis Gutierrez told reporters, “We’re really tired of tomorrow,” referring to years of failed attempts in Congress to protect Dreamers from deportation, allow them to legally work in the United States and get on a path to citizenship. They will resume their fight in January, aiming to win on the next spending bill or a separate measure. Trump has eliminated Obama-era temporary protections for Dreamers, but has asked Congress to come up with a permanent solution by March. In the meantime, about 122 Dreamers a day are becoming vulnerable to deportation while Congress bickers. Also on Thursday, the Senate put the brakes on another bill that passed the House, which would provide $81 billion in new disaster aid to help Puerto Rico, the U.S. Virgin Islands and several states hit by this year’s hurricanes or wildfires. The temporary spending bill did, however, give Trump a modest increase of $4.7 billion for the Department of Defense to be used for missile defense and ship repair. The bill includes $2.85 billion to fund the Children’s Health Insurance Program through March and funding for community health centers and the Indian Health Service. The plan also would extend the National Security Agency’s expiring internet surveillance program, known as Section 702 of the Foreign Intelligence Surveillance Act, through Jan. 19. Other provisions address funding for veterans, the Coast Guard and flood insurance. Most government programs would be temporarily extended until Jan. 19 at fiscal 2017 levels. ",
         "politicsNews",
         "December 21, 2017 "
        ],
        [
         "37",
         "1",
         "Factbox: Big-ticket items at center of Congress spending bill",
         "(Reuters) - The U.S. Congress on Thursday approved a temporary funding bill to prevent federal agencies from shutting down at midnight Friday when existing money was set to expire. The following are the major items that were debated on the legislation that President Donald Trump is expected to sign into law: The Friday midnight deadline for action was the result of the Republican-controlled Congress failing to pass any of the regular appropriations bills for the fiscal year that began Oct. 1. Instead, the government has been operating on a series of temporary measures. This newest stopgap bill continues funding for government operations through Jan. 19, giving lawmakers several weeks to work out a spending bill that would pay for agency activities through Sept. 30, the end of the current fiscal year.  House of Representatives conservatives failed in their bid to attach a major defense spending increase that would fund the Pentagon through September. Instead, Congress agreed to fund the military through Jan. 19, like most other programs. But in a move to attract support, a $4.7 billion increase was included to be used for missile defense and ship repair. Democrats and Republicans will continue negotiations on higher funding for both military and non-military programs. An $81 billion disaster aid bill was going to be attached to the government funding bill. Instead, the House approved it as a stand-alone bill, only to see the Senate put off action until at least next month. It would build on about $52 billion already provided to Puerto Rico, the U.S. Virgin Islands and several states hit by severe hurricanes, wildfires or other natural disasters. Democrats want to do more for Puerto Rico and some Republicans worry about the mounting costs of disaster aid. The Children’s Health Insurance Program, which helps provide medical care to nearly 9 million children in low-income families, will get $2.85 billion to cover expenses through March as lawmakers seek a more permanent solution. Senators put off until early next year their bid to maintain healthcare subsidies for low-income people participating in the Affordable Care Act, also known as Obamacare. Many House Republican lawmakers dislike the idea. The National Security Agency’s warrantless internet surveillance program under the Foreign Intelligence Surveillance Act will be extended through Jan. 19 as lawmakers try to reconcile competing versions of such legislation in the House and Senate.  Legislation to protect “Dreamers” from deportation was not included, despite Democrats’ push to resolve the issue by year’s end. It was a major disappointment for the Congressional Hispanic Caucus and immigration advocacy groups. But negotiators are still trying to reach a deal on helping immigrants, many from Mexico and Central America, brought to the United States illegally as children. The issue is expected to come back to life in early 2018.   ",
         "politicsNews",
         "December 21, 2017 "
        ],
        [
         "38",
         "1",
         "In victory for Trump, judge tosses suit on foreign payments",
         "NEW YORK (Reuters) - A federal judge in New York on Thursday threw out a lawsuit that had accused President Donald Trump of violating the U.S. Constitution by accepting foreign payments through his hotels and other businesses, handing him a major victory on an issue that has dogged him since even before he took office in January. Though other lawsuits remain pending that make similar claims, the ruling by U.S. District Judge George Daniels is the first to weigh the merits of the U.S. Constitution’s anti-corruption provisions as they apply to Trump, a wealthy businessman who as president regularly visits his own hotels, resorts and golf clubs. In a 29-page opinion granting the Trump administration’s request to toss the suit, Daniels said the plaintiffs did not have legal standing to bring the suit. The plaintiffs included the nonprofit watchdog group Citizens for Responsibility and Ethics in Washington (CREW), a hotel owner, a hotel events booker and a restaurant trade group. The lawsuit, filed after the Republican president took office in January, accused Trump of running afoul of the Constitution’s “emoluments” clause by maintaining ownership of his business empire while in office.  The emoluments clause, designed to prevent corruption and foreign influence, bars U.S. officials from accepting gifts from foreign governments without congressional approval. Trump has ceded day-to-day control of his businesses to his sons. Critics have said that is not a sufficient safeguard. The plaintiffs said they are legally injured when foreign governments try to “curry favor” with Trump by paying to use his businesses, such as the Trump International Hotel in Washington or a high-end restaurant at a Trump hotel in New York City. The plaintiffs said this leads them to have lost patronage, wages and commissions. U.S. Department of Justice spokeswoman Lauren Ehrsam said the Trump administration “appreciates the court’s ruling.” Daniels, appointed to the bench by Democratic former President Bill Clinton, said in his decision that the plaintiffs’ claims were speculative. Daniels said Trump had amassed wealth and fame even before taking office and was competing in the hospitality industry.  “It is only natural that interest in his properties has generally increased since he became president,” the judge wrote. The judge also said that if Congress wanted to do something about the president’s actions, it could. “Congress is not a potted plant,” Daniels said. “It is a co-equal branch of the federal government with the power to act.” CREW Executive Director Noah Bookbinder said that his legal team is weighing options on how to proceed. “While today’s ruling is a setback, we will not walk away from this serious and ongoing constitutional violation,” Bookbinder added. Some legal experts had raised concerns even before his inauguration on Jan. 20 that Trump would violate the emoluments clause as president.  ",
         "politicsNews",
         "December 21, 2017 "
        ],
        [
         "39",
         "1",
         "Senate shelves disaster aid bill until next month",
         "WASHINGTON (Reuters) - Legislation to provide $81 billion in new disaster aid for U.S. states, Puerto Rico and the U.S. Virgin Islands was put on hold by the Senate on Thursday amid attacks from both Republicans and Democrats. The Republican-controlled House of Representatives passed the legislation earlier on Thursday to help recovery efforts stemming from hurricanes and wildfires. But the Senate put off a vote until at least January, according to some lawmakers and aides, after Democrats complained Puerto Rico was not getting enough help and some fiscal hawks fretted about the overall cost. ",
         "politicsNews",
         "December 22, 2017 "
        ],
        [
         "40",
         "1",
         "Trump on Twitter (Dec 21) - Tax Cuts, Home sales",
         "The following statements were posted to the verified Twitter accounts of U.S. President Donald Trump, @realDonaldTrump and @POTUS.  The opinions expressed are his own. Reuters has not edited the statements or confirmed their accuracy.  @realDonaldTrump : - The Massive Tax Cuts, which the Fake News Media is desperate to write badly about so as to please their Democrat bosses, will soon be kicking in and will speak for themselves. Companies are already making big payments to workers. Dems want to raise taxes, hate these big Cuts! [0724 EST] - Was @foxandfriends just named the most influential show in news? You deserve it - three great people! The many Fake News Hate Shows should study your formula for success! [0745 EST] - Home Sales hit BEST numbers in 10 years! MAKE AMERICA GREAT AGAIN [0856 EST] - House Democrats want a SHUTDOWN for the holidays in order to distract from the very popular, just passed, Tax Cuts. House Republicans, don’t let this happen. Pass the C.R. TODAY and keep our Government OPEN! [0952 EST] -- Source link: (bit.ly/2jBh4LU) (bit.ly/2jpEXYR) ",
         "politicsNews",
         "December 21, 2017 "
        ],
        [
         "41",
         "1",
         "House widens ethics probe to include Farenthold campaign work",
         "WASHINGTON (Reuters) - The ethics probe into U.S. Representative Blake Farenthold, who is already under a cloud for alleged sexual misconduct, is being expanded to look into whether he mixed his political campaign with congressional work and lied to the House Ethics Committee, the panel said on Thursday. Last week, Farenthold said he would not seek re-election next year after accounts surfaced that he created a hostile work environment. The Texas Republican denied allegations of sexual harassment but admitted allowing an unprofessional culture in his Capitol Hill office. On Thursday the ethics committee voted unanimously to investigate whether Farenthold used his congressional staff and other resources of the House of Representatives to further his political campaign, and if he had made false statements or omissions to the committee. The panel was already looking into whether he committed sexual harassment, discrimination and retaliation against a former staff member and if he made inappropriate statements to other members of his staff.  The committee said the announcement should not be read as an indication that it had found any rule violations. Farenthold’s office did not immediately respond to a request for comment. Congress strictly divides lawmakers’ work on Capitol Hill and their runs for re-election so that taxpayers do not end up subsidizing political campaigns. In August, the committee went so far as to warn Representatives, who face elections every two years, they should not even send texts or forward emails related to their campaigns while in House buildings. Congress is reviewing its workplace policies on sexual harassment after a number of lawmakers have been accused of sexual misconduct in recent weeks amid a wave of such allegations against powerful men in entertainment, politics and the media. A bipartisan group of lawmakers in the House said on Thursday intends to introduce legislation in January reforming a 20-year-old law that covers sexual harassment in Congress, which it hopes will pass soon after. ",
         "politicsNews",
         "December 21, 2017 "
        ],
        [
         "42",
         "1",
         "U.S. court rejects Trump bid to stop transgender military recruits on Jan. 1",
         "NEW YORK (Reuters) - A federal appeals court in Virginia on Thursday rejected a bid by President Donald Trump’s administration to prevent the U.S. military from accepting transgender recruits starting Jan. 1. The administration had urged the appeals court to suspend an order by a federal judge in Baltimore for the armed forces to begin accepting transgender recruits on that date. The administration has said the Jan. 1 start date was causing the armed forces to scramble to revise their policies at the risk of harming military readiness.  In a brief two-paragraph order, the three-judge panel of the Richmond-based 4th U.S. Circuit Court of Appeals said it was denying the administration’s request while the appeal proceeds. All three judges are Democratic appointees.  The court’s action could prompt the administration to ask the conservative-majority U.S. Supreme Court to intervene. “We disagree with the court’s ruling and are currently evaluating the next steps,” U.S. Justice Department spokeswoman Lauren Ehrsam said in a statement. Several transgender service members, backed by the American Civil Liberties Union, filed suit in Maryland after Trump said in July he would ban transgender people from the military, a move that would reverse a policy of the Republican president’s Democratic predecessor Barack Obama to accept them. Trump cited concern over military focus and medical costs. So far, three federal judges around the country have issued injunctions blocking Trump’s ban. His administration has appealed all three rulings.  Joshua Block, an ACLU attorney who represents the plaintiffs in the Maryland case, said he was happy the appeals court saw through the government’s “smokescreen” to further delay enlistment.  Thursday’s action was in response to the administration’s appeal of a Nov. 21 ruling by U.S. District Judge Marvin Garbis, who said that the transgender prohibition likely violates the plaintiffs’ constitutional right to equal protection under the law. The Garbis ruling followed a similar one on Oct. 30 by another federal judge in Washington, D.C. A third judge in Seattle also ruled against the administration on Dec. 11. In an August memorandum, Trump gave the military until March 2018 to revert to a policy prohibiting openly transgender people from joining the military and authorizing their discharge. The memo also halted the use of government funds for sex-reassignment surgery for active-duty military personnel. The Obama administration had set a deadline of July 1 of this year to begin accepting transgender recruits. But Trump’s defense secretary, James Mattis, postponed that date to Jan. 1, which the president’s ban then put off indefinitely. The Trump administration said in legal papers that the armed forces are not prepared to train thousands of personnel on the medical standards needed to process transgender applicants and might have to accept “some individuals who are not medically fit for service.” The Pentagon on Dec. 8 issued guidelines to recruitment personnel in order to enlist transgender applicants by Jan. 1. The memo outlined medical requirements and specified how the applicants’ sex would be identified and even which undergarments they would wear. The ban’s challengers said the memo contradicted the claim that the military was not ready.  The Justice Department disagreed, telling the court on Wednesday that “all this memorandum shows is that the military is scrambling to comply with the injunction.” The lawsuit’s lead plaintiff Brock Stone, 34, has served in the U.S. Navy for 11 years, including a nine-month deployment to Afghanistan, and wants to remain for at least 20 years, according to court papers.  ",
         "politicsNews",
         "December 21, 2017 "
        ],
        [
         "43",
         "1",
         "U.S. House approves $81 billion for disaster aid",
         "WASHINGTON (Reuters) - The U.S. House of Representatives on Thursday approved an $81 billion bill to help widespread recovery efforts from hurricanes and wildfires this year. By a vote of 251-169, the House passed the measure to help Puerto Rico, the U.S. Virgin Islands and states rebuild following the natural disasters. The bill now goes to the Senate where it is expected to be approved this week. ",
         "politicsNews",
         "December 21, 2017 "
        ],
        [
         "44",
         "1",
         "House Democrats rally to protect Special Counsel Mueller",
         "WASHINGTON (Reuters) - Democrats in the U.S. House of Representatives rallied behind Special Counsel Robert Mueller on Thursday, after recent attempts by Republicans and conservative news outlets to discredit him and his probe into Russian interference in the 2016 presidential election. In a letter sent to Justice Department Deputy Attorney General Rod Rosenstein, 171 of the 193 Democrats in the House said they support Mueller’s probe, and urged Rosenstein to let it continue “unfettered by political influence or threats to his authority.”  “We will not stand by and allow Fox News and right-wing Republicans to defy the rule of law and create their own rules to interfere with the legitimate investigation under the Constitution of the United States,” California Democrat Maxine Waters said during a press conference Thursday. “There is an organized effort by Republicans ... to spin a false narrative and conjure up outrageous scenarios to accuse Special Counsel Mueller of being biased,” she added. Rosenstein appointed Mueller as Special Counsel in May, after President Donald Trump fired former FBI Director James Comey for what Trump later said was “this Russia thing.” Critics promptly accused the president of trying to obstruct the probe. Mueller is investigating whether Trump’s presidential campaign colluded with Russia to interfere with the election. Russia has denied meddling and Trump has said there was no collusion.  Republican criticism of Mueller, himself a member of their party, has intensified in recent months since he charged four of Trump’s close associates, including former campaign manager Paul Manafort and former National Security Adviser Michael Flynn. Republicans and talk show hosts on Fox News have accused Mueller’s team and the Federal Bureau of Investigation of bias, citing issues including anti-Trump text messages exchanged between two FBI staffers who previously worked on Mueller’s team. House Republicans have launched their own investigation into the FBI’s handling of Hillary Clinton’s emails, and questioned whether she received favorable treatment after no charges were brought. Recently, rumors have flown around Washington that Trump may be seeking to have Mueller fired. Trump’s lawyers have said that is not true. Rosenstein, also a Republican, oversees Mueller’s team. He can only fire Mueller for good cause, and he told Congress last week he sees no legitimate basis for doing so. “This investigation must continue unimpeded,” House Judiciary Committee Ranking Democrat Jerrold Nadler said Thursday. Nadler said Republicans were trying to “provide cover for the President as the walls close in on him.” ",
         "politicsNews",
         "December 21, 2017 "
        ],
        [
         "45",
         "1",
         "Second U.S. judge blocks Trump administration birth control rules",
         "SAN FRANCISCO (Reuters) - A second U.S. judge on Thursday blocked President Donald Trump’s administration from enforcing new rules that undermine an Obamacare requirement for employers to provide insurance that covers women’s birth control. U.S. District Judge Haywood Gilliam Jr. in Oakland, California, said the federal government likely did not follow proper administrative procedures in promulgating the new rules, and put them on hold while a lawsuit challenging their legality proceeds. The decision followed a similar ruling from a federal judge in Philadelphia last Friday that blocked the administration from enforcing rules it announced in October allowing businesses or nonprofits to obtain exemptions on moral or religious grounds. Gilliam ruled on a lawsuit pursued by Democratic attorneys general in California, Delaware, Maryland, New York and Virginia. He said that a preliminary injunction was necessary given the “dire public health and fiscal consequences” that could result as a result of the administration adopting the rules without the input of interested parties. “If the Court ultimately finds in favor of Plaintiffs on the merits, any harm caused in the interim by rescinded contraceptive coverage would not be susceptible to remedy,” he wrote. California Attorney General Xavier Becerra said in a statement that, given last week’s decision in Pennsylvania, “today’s ruling amounts to a one-two punch against the Trump administration’s unlawful overreach.” The U.S. Justice Department defended the rules in court.  Lauren Ehrsam, a department spokeswoman, said the agency disagreed with the ruling and was evaluating its next steps. “This administration is committed to defending the religious liberty of all Americans and we look forward to doing so in court,” Ehrsam said in a statement. The lawsuit is among several that Democratic state attorneys general filed after the Republican Trump administration revealed the new rules on Oct. 6, which targeted the contraceptive mandate implemented as part of 2010’s Affordable Care Act, popularly known as Obamacare. The rules will let businesses or nonprofits lodge religious or moral objections to obtain an exemption from the law’s mandate that employers provide contraceptive coverage in health insurance with no co-payment. Conservative Christian activists and congressional Republicans praised the move, while reproductive rights advocates and Democrats criticized it. ",
         "politicsNews",
         "December 21, 2017 "
        ],
        [
         "46",
         "1",
         "Senators seek to stop expansion of airport facial scans",
         "WASHINGTON (Reuters) - Two U.S. senators on Thursday urged federal authorities to halt the planned expansion of a $1 billion airport facial scanning program, saying the technology used to identify travelers on some flights departing from nine U.S. airports for international destinations may not be not accurate enough and raises privacy concerns. Congress has approved the use of the program for non-U.S. citizens, but never expressly authorized its use for Americans. The Department of Homeland Security has said the system is needed to prevent travelers from leaving the country using someone else’s identity and to prevent visitors to the United States from overstaying their visas. Senators Mike Lee, a Republican, and Edward Markey, a Democrat, in a letter to Department of Homeland Security Secretary Kirstjen Nielsen, raised concerns that too many travelers would be inconvenienced by faulty scan results and questioned why Americans are being subjected to the screens, known as biometric exit detection technology.  In the letter, they raised objections to expanding the program beyond the nine airports where it is already in use. “We request that DHS stop the expansion of this program and provide Congress with its explicit statutory authority to use and expand a biometric exit program on U.S. citizens,” the senators wrote. “If there is no specific authorization, then we request an explanation for why DHS believes it has the authority to proceed” They cited a report released Thursday by Georgetown University Law School’s Center on Privacy & Technology that found DHS is conducting the scans “without basic legal and technical safeguards - or any meaningful justification of its billion-dollar cost.” Congress in 2016 authorized spending up to $1 billion over 10 years on the facial scans. The U.S. Customs and Border Protection (CBP), on its website, says the program collects “facial images from all travelers from the United States” on a flight and uses the images to verify identities. It says the images are stored for no more than two weeks and says that “CBP is dedicated to protecting the privacy of all travelers.” The government said Thursday that U.S. citizens may opt out of the facial screening and instead have a separate review of their ID documents. A U.S. Customs and Border Protection spokeswoman said the government is working to establish the biometric exit program “in a way that’s most efficient and secure for the traveler and that is least disruptive for the travel industry.” Airports using the system include Boston, Las Vegas, Miami, New York’s John F. Kennedy, Washington Dulles, both Houston airports, Chicago O’Hare and Atlanta. The senators want DHS to provide data that the program will not unduly burden travelers. DHS said previously its goal is a 96 percent “true accept rate,” meaning the technology can positively identify 96 percent of the faces it scans. The senators, however, said this meant “there would still be a false denial for one in 25 travelers. Further there is evidence that certain face scans exhibit different error rate depending on the race or gender of the person being scanned.” DHS has said travelers who cannot be verified are escorted to another area where Customs and Border Patrol uses other methods to verify their identity. The Georgetown Law report also noted that DHS has not established any rules governing the program.  “It’s as if DHS has hired a billion-dollar bouncer to check IDs but never checked how good he is at spotting a fake,” said Laura Moy, deputy director of the center and co-author of the report. “They also don’t know if he’s biased against certain groups of people.” The senators said DHS also needed safeguards to ensure facial data is not shared with other U.S. agencies. ",
         "politicsNews",
         "December 21, 2017 "
        ],
        [
         "47",
         "1",
         "U.S. launches effort to reduce reliance on imports or critical minerals",
         "WASHINGTON (Reuters) - U.S. Interior Secretary Ryan Zinke on Thursday launched an effort to reduce U.S. dependence on foreign supplies of critical minerals used in smartphones, computers and military equipment, which he said poses a national security and economic risk. Under a directive from President Donald Trump, Zinke will  work with Defense Secretary Jim Mattis to publish in 60 days a list of non-fuel minerals that are vulnerable to supply chain disruptions and necessary for manufacturing and will develop a strategy to lessen U.S. dependence on foreign suppliers. The policy would aim to identify new domestic sources of critical minerals; increase domestic exploration, mining and  recycling; giving miners and producers electronic access to better mapping and geological data; and streamlining leasing and permitting for new mines. “The United States must not remain reliant on foreign competitors like Russia and China for the critical minerals needed to keep our economy strong and our country safe,” Trump said. The order comes after the Interior Department and the U.S. Geological Survey published a report earlier this week that detailed U.S. dependence on foreign competitors for its supply of certain minerals. The report identified 23 out of 88 minerals that are priorities for U.S. national defense and the economy because they are components in products ranging from batteries to military equipment. The list included rare earths metals, lithium, graphite and other minerals.  That report did not offer policy recommendations, but Zinke said he would rely on the findings as he prioritizes research into certain mineral deposit areas on federal land and plans policies to promote mining. Twenty of the 23 critical minerals that the United States relies on are sourced from China. Much of the world’s lithium is produced in Australia and Chile, with the bulk of the world’s reserves straddling huge salt flats in the so-called lithium triangle of Chile, Bolivia and Argentina.  Lithium exports from Chile, for example, approached $600 million in 2016, or roughly 40 percent of the global market by volume, according to Chile development agency Corfo. Lithium producers SQM, Albemarle and FMC Lithium are among the region’s top producers. ",
         "politicsNews",
         "December 21, 2017 "
        ],
        [
         "48",
         "1",
         "Short-term government funding, disaster aid bills advance in House",
         "WASHINGTON (Reuters) - The U.S. House of Representatives on Thursday took a step toward averting a partial government shutdown at the end of this week, approving rules to debate a bill that would fund federal agencies through Jan. 19. Also cleared for debate was an $81 billion disaster aid bill to help U.S. states, Puerto Rico and the U.S. Virgin Islands recover from a series of recent natural disasters. House votes on both bills were expected later on Thursday. ",
         "politicsNews",
         "December 21, 2017 "
        ],
        [
         "49",
         "1",
         "Spy chiefs pressure Congress to renew expiring surveillance law",
         "WASHINGTON (Reuters) - The leaders of the U.S. intelligence community on Thursday pressed Congress to renew the National Security Agency’s expiring surveillance law, warning in a rare public statement that national security may be endangered if lawmakers let it lapse. The message from the intelligence chiefs sought to apply pressure on lawmakers who appeared to abandon an effort this week to pass legislation that would have reauthorized for several years the NSA’s warrantless internet spying program, which is due to expire on Dec. 31. That plan cratered late on Wednesday amid objections from a sizable coalition of Republicans and Democrats who want to have more privacy safeguards in the program, which chiefly targets foreigners but also collects communications from an unknown number of Americans. Instead, House Republicans unveiled a stopgap funding measure on Thursday that includes an extension of the surveillance law until Jan. 19. The law, known as Section 702 of the Foreign Intelligence Surveillance Act, is considered by U.S. intelligence agencies to be vital to national security. “There is no substitute for Section 702,” Director of National Intelligence Dan Coats, Attorney General Jeff Sessions, and the directors the NSA, FBI and CIA wrote in the joint statement, adding that failure to renew the authority would make it easier for foreign adversaries to “plan attacks against our citizens and allies without detection.” Section 702 allows the NSA to collect vast amounts of digital communications from foreign suspects living outside the United States. But the program incidentally gathers communications of Americans for a variety of technical reasons, including if they communicate with a foreign target living overseas. Those communications can then be subject to searches without a warrant, including by the Federal Bureau of Investigation. Some lawmakers in both parties want to eliminate or partially restrict the U.S. government’s ability to review data of Americans collected under Section 702 without first obtaining a warrant. The intelligence chiefs also criticized the current plan to temporarily extend the program, saying short-term extensions “fail to provide certainty and will create needless and wasteful operational complications.” U.S. officials recently acknowledged the end-year deadline may not matter much because of a belief the program can lawfully continue through April due to the way it is annually certified.  In their statement, however, the intelligence chiefs warned that the surveillance program would need to begin “winding down” well in advance of the April date. ",
         "politicsNews",
         "December 21, 2017 "
        ]
       ],
       "shape": {
        "columns": 5,
        "rows": 1000
       }
      },
      "text/html": [
       "<div>\n",
       "<style scoped>\n",
       "    .dataframe tbody tr th:only-of-type {\n",
       "        vertical-align: middle;\n",
       "    }\n",
       "\n",
       "    .dataframe tbody tr th {\n",
       "        vertical-align: top;\n",
       "    }\n",
       "\n",
       "    .dataframe thead th {\n",
       "        text-align: right;\n",
       "    }\n",
       "</style>\n",
       "<table border=\"1\" class=\"dataframe\">\n",
       "  <thead>\n",
       "    <tr style=\"text-align: right;\">\n",
       "      <th></th>\n",
       "      <th>label</th>\n",
       "      <th>title</th>\n",
       "      <th>text</th>\n",
       "      <th>subject</th>\n",
       "      <th>date</th>\n",
       "    </tr>\n",
       "  </thead>\n",
       "  <tbody>\n",
       "    <tr>\n",
       "      <th>0</th>\n",
       "      <td>1</td>\n",
       "      <td>As U.S. budget fight looms, Republicans flip t...</td>\n",
       "      <td>WASHINGTON (Reuters) - The head of a conservat...</td>\n",
       "      <td>politicsNews</td>\n",
       "      <td>December 31, 2017</td>\n",
       "    </tr>\n",
       "    <tr>\n",
       "      <th>1</th>\n",
       "      <td>1</td>\n",
       "      <td>U.S. military to accept transgender recruits o...</td>\n",
       "      <td>WASHINGTON (Reuters) - Transgender people will...</td>\n",
       "      <td>politicsNews</td>\n",
       "      <td>December 29, 2017</td>\n",
       "    </tr>\n",
       "    <tr>\n",
       "      <th>2</th>\n",
       "      <td>1</td>\n",
       "      <td>Senior U.S. Republican senator: 'Let Mr. Muell...</td>\n",
       "      <td>WASHINGTON (Reuters) - The special counsel inv...</td>\n",
       "      <td>politicsNews</td>\n",
       "      <td>December 31, 2017</td>\n",
       "    </tr>\n",
       "    <tr>\n",
       "      <th>3</th>\n",
       "      <td>1</td>\n",
       "      <td>FBI Russia probe helped by Australian diplomat...</td>\n",
       "      <td>WASHINGTON (Reuters) - Trump campaign adviser ...</td>\n",
       "      <td>politicsNews</td>\n",
       "      <td>December 30, 2017</td>\n",
       "    </tr>\n",
       "    <tr>\n",
       "      <th>4</th>\n",
       "      <td>1</td>\n",
       "      <td>Trump wants Postal Service to charge 'much mor...</td>\n",
       "      <td>SEATTLE/WASHINGTON (Reuters) - President Donal...</td>\n",
       "      <td>politicsNews</td>\n",
       "      <td>December 29, 2017</td>\n",
       "    </tr>\n",
       "    <tr>\n",
       "      <th>...</th>\n",
       "      <td>...</td>\n",
       "      <td>...</td>\n",
       "      <td>...</td>\n",
       "      <td>...</td>\n",
       "      <td>...</td>\n",
       "    </tr>\n",
       "    <tr>\n",
       "      <th>995</th>\n",
       "      <td>1</td>\n",
       "      <td>House panels seek documents on Puerto Rico uti...</td>\n",
       "      <td>WASHINGTON (Reuters) - A U.S. congressional co...</td>\n",
       "      <td>politicsNews</td>\n",
       "      <td>October 26, 2017</td>\n",
       "    </tr>\n",
       "    <tr>\n",
       "      <th>996</th>\n",
       "      <td>1</td>\n",
       "      <td>Trump releases some JFK files, blocks others u...</td>\n",
       "      <td>WASHINGTON (Reuters) - U.S. President Donald T...</td>\n",
       "      <td>politicsNews</td>\n",
       "      <td>October 26, 2017</td>\n",
       "    </tr>\n",
       "    <tr>\n",
       "      <th>997</th>\n",
       "      <td>1</td>\n",
       "      <td>Tillerson tells Myanmar army chief U.S. concer...</td>\n",
       "      <td>WASHINGTON (Reuters) - U.S. Secretary of State...</td>\n",
       "      <td>politicsNews</td>\n",
       "      <td>October 27, 2017</td>\n",
       "    </tr>\n",
       "    <tr>\n",
       "      <th>998</th>\n",
       "      <td>1</td>\n",
       "      <td>Exclusive: While advising Trump in 2016, ex-CI...</td>\n",
       "      <td>WASHINGTON (Reuters) - Former CIA director Jam...</td>\n",
       "      <td>politicsNews</td>\n",
       "      <td>October 26, 2017</td>\n",
       "    </tr>\n",
       "    <tr>\n",
       "      <th>999</th>\n",
       "      <td>1</td>\n",
       "      <td>Mattis visits Seoul for defense talks as tensi...</td>\n",
       "      <td>SEOUL (Reuters) - U.S. Defense Secretary Jim M...</td>\n",
       "      <td>politicsNews</td>\n",
       "      <td>October 27, 2017</td>\n",
       "    </tr>\n",
       "  </tbody>\n",
       "</table>\n",
       "<p>1000 rows × 5 columns</p>\n",
       "</div>"
      ],
      "text/plain": [
       "     label                                              title  \\\n",
       "0        1  As U.S. budget fight looms, Republicans flip t...   \n",
       "1        1  U.S. military to accept transgender recruits o...   \n",
       "2        1  Senior U.S. Republican senator: 'Let Mr. Muell...   \n",
       "3        1  FBI Russia probe helped by Australian diplomat...   \n",
       "4        1  Trump wants Postal Service to charge 'much mor...   \n",
       "..     ...                                                ...   \n",
       "995      1  House panels seek documents on Puerto Rico uti...   \n",
       "996      1  Trump releases some JFK files, blocks others u...   \n",
       "997      1  Tillerson tells Myanmar army chief U.S. concer...   \n",
       "998      1  Exclusive: While advising Trump in 2016, ex-CI...   \n",
       "999      1  Mattis visits Seoul for defense talks as tensi...   \n",
       "\n",
       "                                                  text       subject  \\\n",
       "0    WASHINGTON (Reuters) - The head of a conservat...  politicsNews   \n",
       "1    WASHINGTON (Reuters) - Transgender people will...  politicsNews   \n",
       "2    WASHINGTON (Reuters) - The special counsel inv...  politicsNews   \n",
       "3    WASHINGTON (Reuters) - Trump campaign adviser ...  politicsNews   \n",
       "4    SEATTLE/WASHINGTON (Reuters) - President Donal...  politicsNews   \n",
       "..                                                 ...           ...   \n",
       "995  WASHINGTON (Reuters) - A U.S. congressional co...  politicsNews   \n",
       "996  WASHINGTON (Reuters) - U.S. President Donald T...  politicsNews   \n",
       "997  WASHINGTON (Reuters) - U.S. Secretary of State...  politicsNews   \n",
       "998  WASHINGTON (Reuters) - Former CIA director Jam...  politicsNews   \n",
       "999  SEOUL (Reuters) - U.S. Defense Secretary Jim M...  politicsNews   \n",
       "\n",
       "                   date  \n",
       "0    December 31, 2017   \n",
       "1    December 29, 2017   \n",
       "2    December 31, 2017   \n",
       "3    December 30, 2017   \n",
       "4    December 29, 2017   \n",
       "..                  ...  \n",
       "995   October 26, 2017   \n",
       "996   October 26, 2017   \n",
       "997   October 27, 2017   \n",
       "998   October 26, 2017   \n",
       "999   October 27, 2017   \n",
       "\n",
       "[1000 rows x 5 columns]"
      ]
     },
     "execution_count": 5,
     "metadata": {},
     "output_type": "execute_result"
    }
   ],
   "source": [
    "## Read training data\n",
    "data = pd.read_csv(r\"C:\\Users\\happy\\Documents\\ironhack\\Week9\\project-nlp-challenge\\dataset\\data.csv\")\n",
    "# Reduce the training set to speed up development. \n",
    "# Modify for final system\n",
    "data_1000 = data.head(1000)\n",
    "print(data.shape)\n",
    "data_1000.fillna(\"\",inplace=True)\n",
    "data\n",
    "data_1000"
   ]
  },
  {
   "cell_type": "code",
   "execution_count": 6,
   "metadata": {},
   "outputs": [
    {
     "data": {
      "application/vnd.microsoft.datawrangler.viewer.v0+json": {
       "columns": [
        {
         "name": "index",
         "rawType": "int64",
         "type": "integer"
        },
        {
         "name": "label",
         "rawType": "int64",
         "type": "integer"
        },
        {
         "name": "title",
         "rawType": "object",
         "type": "string"
        },
        {
         "name": "text",
         "rawType": "object",
         "type": "string"
        },
        {
         "name": "subject",
         "rawType": "object",
         "type": "string"
        },
        {
         "name": "date",
         "rawType": "object",
         "type": "string"
        }
       ],
       "conversionMethod": "pd.DataFrame",
       "ref": "76bf9bc9-8a9c-4af5-966f-5abc819409fa",
       "rows": [
        [
         "0",
         "2",
         "UK's May 'receiving regular updates' on London tube station incident: PM's office",
         "LONDON (Reuters) - British Prime Minister Theresa May is being regularly briefed after armed police rushed to an incident at a London underground station on Friday, with local media reporting there had been an explosion on a packed rush-hour commuter train.  The prime minister is receiving regular updates,  a spokesman from May s office said when asked if May was aware of the incident. ",
         "worldnews",
         "September 15, 2017 "
        ],
        [
         "1",
         "2",
         "UK transport police leading investigation of London incident, counter-terrorism police aware",
         "LONDON (Reuters) - British counter-terrorism police were monitoring events after media reports of a blast on a train in Parsons Green station in west London on Friday, but the investigation into the incident is being led by transport police, a security source said. Armed police rushed to an incident at a London underground station on Friday with local media reporting there had been an explosion on a packed rush-hour commuter train. Counter-terrorism officers were on the scene of the incident.  ",
         "worldnews",
         "September 15, 2017 "
        ],
        [
         "2",
         "2",
         "Pacific nations crack down on North Korean ships as Fiji probes more than 20 vessels",
         "WELLINGTON (Reuters) - South Pacific island nations are scouring shipping records for vessels with links to North Korea after Fiji said it had identified 20 falsely flagged ships it suspects the isolated regime is using to evade United Nations sanctions. Fiji, along with Interpol and the Singapore-based regional shipping regulator Tokyo MoU, are investigating the vessels for links to North Korea, a spokesman for the country s Maritime Safety Authority (MSAF) told Reuters on Friday. Interpol and Tokyo MoU did not immediately respond to requests for comment on their investigations. The 18 members of the Pacific Islands Forum this month agreed to launch an audit of every ship registered in the Pacific to search for any links to North Korea. New Zealand Foreign Affairs Minister Gerry Brownlee said Pacific countries, including his own, were concerned North Korea was using falsely flagged cargo ships as one avenue to trade goods in spite of sanctions.  What we do know is that declared North Korean GDP (gross domestic product) is not big enough to support the nuclear program that they re running so there has to be significant black market or offbook revenue going into the country,  Brownlee told Reuters in a phone interview this week. The move came as the UN on Monday ramped up sanctions on North Korea, including tightening up oversight of vessels on the high seas. Authorities will now be allowed to check suspected vessels for prohibited cargo with the authority of the flag country.  UN sanctions introduced in August banned North Korean exports of seafood as part of efforts to curtail the regime s access to foreign funds. North Korea had been expected to earn an estimated $295 million from seafood in 2017, one U.N. diplomat said. In Fiji s case, the North Korean-linked ships had adopted the island nation s flag without formally registering, the MSAF said. It was not known in what way the possibly more-than 20 vessels were linked to North Korea or what their suspected activities or locations were. The MSAF declined to provide details due to the ongoing investigation. In addition to the fraudulent use of flags, Pacific governments were concerned North Korean vessels could be quietly registering in nations that allow international ships to use their flags.     If it s not clear why they re on that register, in other words, they re not regular callers into Pacific ports, then further investigation is needed to untangle the ship owner,  said Brownlee. The review would take place over the next couple of months, Brownlee said, and Australia and New Zealand would provide intelligence to help the small island nations check any North Korean connections. ",
         "worldnews",
         "September 15, 2017 "
        ],
        [
         "3",
         "2",
         "Three suspected al Qaeda militants killed in Yemen drone strike",
         "ADEN, Yemen (Reuters) - Three suspected al Qaeda militants were killed in a drone strike in southern Yemen late on Thursday, a local security official and residents said. The strike in Mudiyah district in Abyan province on the Arabian Sea coast had targeted a motorcycle which the suspected militants were riding, the official said. Abyan is one of several provinces in central and southern Yemen where Al Qaeda in the Arabian Peninsula (AQAP) and its local affiliate Ansar al-Sharia operate. AQAP has taken advantage of a more than two-year civil war between the Iran-aligned Houthi group and President Abd-Rabbu Mansour Hadi s Saudi-backed government to strengthen its position in the impoverished country. The United States has repeatedly attacked AQAP with aircraft and unmanned drones in what U.S. officials say is a campaign to wear down the group s ability to coordinate attacks abroad. The Saudi-led coalition supporting Hadi has also launched thousands of air strikes against the Houthis which control Yemen s capital and much of the country s north. The Houthis have in turn fired rockets towards Saudi cities and villages. They say their attacks are in response to Saudi strikes on Yemeni cities and villages. The coalition spokesman said on Thursday that a Saudi pilot had died a day earlier when his plane crashed in the southern province of Abyan due to  technical failure , the Saudi news agency SPA said. The war has killed more than 10,000 people. ",
         "worldnews",
         "September 15, 2017 "
        ],
        [
         "4",
         "2",
         "Chinese academics prod Beijing to consider North Korea contingencies",
         "BEIJING (Reuters) - Chinese academics are publicly broaching the idea that China and the United States should share plans on how to deal with a  potential conflict on the Korean Peninsula, a sign some say of how North Korea s weapons test may be making Beijing more open to the once taboo subject. Chinese officials have rebuffed top U.S. military brass for years in their efforts to share contingencies for war or regime collapse in Pyongyang, suspicious over Washington s intentions and fearful that such engagement could further alienate North Korea, their once steadfast wartime ally. Jia Qingguo, the dean of the School of International Studies at China s elite Peking University and a respected advisor to Chinese leaders, said in an article this week that with the chances of war increasing daily, it might be time for China to  prepare for the worst .  When war becomes a real possibility, China must be prepared. And, with this in mind, China must be more willing to consider talks with concerned countries on contingency plans,  Jia wrote in an article first published on the online East Asia Forum run out of Australian National University. Given recent developments,  Beijing may have no better choice than to start talking with Washington and Seoul , Jia said. Ties between China and North Korea have deteriorated sharply in recent years, to the point some diplomats and experts fear Beijing may become, like Washington, a target of its neighbor s ire. Jia s comments, at the forefront of what is still a sensitive debate in China, were made before North Korea on Friday fired a missile that flew over Japan s northern Hokkaido far out into the Pacific Ocean.  That test came after the U.N. Security Council s latest round of sanctions on Monday banning North Korea s textile exports and capping fuel supplies in response to Pyongyang s accelerated effort to target the United States with a powerful, nuclear-tipped missile. Xie Tao, associate dean at the School of English and International Studies at Beijing Foreign Studies University, said Chinese academics in years past would typically only express their opinions on whether China should be sharing plans with Washington behind closed doors.  Now you can get all sorts of people from the left and right and they are allowed to make their views public,  Xie told Reuters.  You could interpret that as a signal that the Chinese government is perhaps willing now to consider, if not actually join up to, contingency plans,  Xie said.  My sense is that there must be some in-depth discussion about what could potentially happen if there is a collapse or internal chaos   how Beijing and Washington should respond to this.  During a trip to China in August, Joseph Dunford, Chairman of the U.S. Joint Chiefs of Staff, attended Chinese military drills at China s Northern Theater Command in the city of Shenyang, which covers China s border with North Korea.  Some analysts perceived that as China opening a crack in the door to its own preparations, but neither side are showing their cards to the public. Dunford said in Beijing during that visit that despite Washington s urgings the  conditions aren t set for such a detailed conversation  between the two militaries.  U.S. military officials have privately voiced frustration that previous channels established for direct military communications line are essentially unstaffed on the Chinese side. Dunford said creating a round-the-clock  responsive  communications link that could be used in a crisis was a top priority for military ties.  For a graphic on North Korea's missile and nuclear tests, click: here ",
         "worldnews",
         "September 15, 2017 "
        ],
        [
         "5",
         "2",
         "Flames raced along train at west London station: eye witness",
         "LONDON (Reuters) - Flames engulfed one carriage and raced along a train on a west London route to Parsons Green, forcing passengers to trample others as they rushed for an exit, an eyewitness told Reuters. The man said people were trampled on when they fled the train after hearing a whoosh and seeing flames race towards them. He said he did not hear a bang after police rushed to an incident at the station at Parsons Green.  I just heard a kind of whoosh. I looked up and saw the whole carriage engulfed in flames making its way towards me,  he told Reuters, adding that the train was packed with people. ",
         "worldnews",
         "September 15, 2017 "
        ],
        [
         "6",
         "2",
         "London police advise people to avoid area near station incident",
         "LONDON (Reuters) - British police on Friday advised people to avoid the area near Parsons Green, a west London underground station, after media reports of a blast on a train.  Officers from the Metropolitan Police Service and British Transport Police are in attendance along with the London Fire Brigade and London Ambulance Service,  London s police said in a statement.  We would advise people to avoid the area.   ",
         "worldnews",
         "September 15, 2017 "
        ],
        [
         "7",
         "2",
         "London ambulance service sends hazardous area response team to station incident",
         "LONDON (Reuters) - London s ambulance service said on Friday it had sent its hazardous area response team to an incident at a west London metro station after reports of a blast.  We have sent multiple resources to the scene including single responders in cars, ambulance crews, incident response officers and our hazardous area response team,  the London Ambulance Service said on Twitter.  Our initial priority is to assess the level and nature of injuries.   London s transport authority said it had extended a suspension of the underground line which runs through Parsons Green metro station in west London. ",
         "worldnews",
         "September 15, 2017 "
        ],
        [
         "8",
         "2",
         "Witness says injured in stampede at London station: Reuters reporter",
         "LONDON (Reuters) - A woman at London s Parsons Green underground train station told Reuters on Friday she was injured in a stampede.  Armed police were at the scene, a Reuters photographer said.  A blast on an underground train at Parsons Green left some passengers with facial burns at the station, London s Metro newspaper reported on its website. ",
         "worldnews",
         "September 15, 2017 "
        ],
        [
         "9",
         "2",
         "UK says world will stand together against North Korea after missile launch",
         "LONDON (Reuters) - Britain said on Friday the world would stand together against North Korea after the country fired a missile that flew over Japan into the Pacific Ocean, ratcheting up tensions after Pyongyang s test of a powerful nuclear bomb.  Yet another illegal missile launch by North Korea,  Foreign Secretary Boris Johnson tweeted.  UK and international community will stand together in the face of these provocations.  ",
         "worldnews",
         "September 15, 2017 "
        ]
       ],
       "shape": {
        "columns": 5,
        "rows": 10
       }
      },
      "text/html": [
       "<div>\n",
       "<style scoped>\n",
       "    .dataframe tbody tr th:only-of-type {\n",
       "        vertical-align: middle;\n",
       "    }\n",
       "\n",
       "    .dataframe tbody tr th {\n",
       "        vertical-align: top;\n",
       "    }\n",
       "\n",
       "    .dataframe thead th {\n",
       "        text-align: right;\n",
       "    }\n",
       "</style>\n",
       "<table border=\"1\" class=\"dataframe\">\n",
       "  <thead>\n",
       "    <tr style=\"text-align: right;\">\n",
       "      <th></th>\n",
       "      <th>label</th>\n",
       "      <th>title</th>\n",
       "      <th>text</th>\n",
       "      <th>subject</th>\n",
       "      <th>date</th>\n",
       "    </tr>\n",
       "  </thead>\n",
       "  <tbody>\n",
       "    <tr>\n",
       "      <th>0</th>\n",
       "      <td>2</td>\n",
       "      <td>UK's May 'receiving regular updates' on London...</td>\n",
       "      <td>LONDON (Reuters) - British Prime Minister Ther...</td>\n",
       "      <td>worldnews</td>\n",
       "      <td>September 15, 2017</td>\n",
       "    </tr>\n",
       "    <tr>\n",
       "      <th>1</th>\n",
       "      <td>2</td>\n",
       "      <td>UK transport police leading investigation of L...</td>\n",
       "      <td>LONDON (Reuters) - British counter-terrorism p...</td>\n",
       "      <td>worldnews</td>\n",
       "      <td>September 15, 2017</td>\n",
       "    </tr>\n",
       "    <tr>\n",
       "      <th>2</th>\n",
       "      <td>2</td>\n",
       "      <td>Pacific nations crack down on North Korean shi...</td>\n",
       "      <td>WELLINGTON (Reuters) - South Pacific island na...</td>\n",
       "      <td>worldnews</td>\n",
       "      <td>September 15, 2017</td>\n",
       "    </tr>\n",
       "    <tr>\n",
       "      <th>3</th>\n",
       "      <td>2</td>\n",
       "      <td>Three suspected al Qaeda militants killed in Y...</td>\n",
       "      <td>ADEN, Yemen (Reuters) - Three suspected al Qae...</td>\n",
       "      <td>worldnews</td>\n",
       "      <td>September 15, 2017</td>\n",
       "    </tr>\n",
       "    <tr>\n",
       "      <th>4</th>\n",
       "      <td>2</td>\n",
       "      <td>Chinese academics prod Beijing to consider Nor...</td>\n",
       "      <td>BEIJING (Reuters) - Chinese academics are publ...</td>\n",
       "      <td>worldnews</td>\n",
       "      <td>September 15, 2017</td>\n",
       "    </tr>\n",
       "    <tr>\n",
       "      <th>5</th>\n",
       "      <td>2</td>\n",
       "      <td>Flames raced along train at west London statio...</td>\n",
       "      <td>LONDON (Reuters) - Flames engulfed one carriag...</td>\n",
       "      <td>worldnews</td>\n",
       "      <td>September 15, 2017</td>\n",
       "    </tr>\n",
       "    <tr>\n",
       "      <th>6</th>\n",
       "      <td>2</td>\n",
       "      <td>London police advise people to avoid area near...</td>\n",
       "      <td>LONDON (Reuters) - British police on Friday ad...</td>\n",
       "      <td>worldnews</td>\n",
       "      <td>September 15, 2017</td>\n",
       "    </tr>\n",
       "    <tr>\n",
       "      <th>7</th>\n",
       "      <td>2</td>\n",
       "      <td>London ambulance service sends hazardous area ...</td>\n",
       "      <td>LONDON (Reuters) - London s ambulance service ...</td>\n",
       "      <td>worldnews</td>\n",
       "      <td>September 15, 2017</td>\n",
       "    </tr>\n",
       "    <tr>\n",
       "      <th>8</th>\n",
       "      <td>2</td>\n",
       "      <td>Witness says injured in stampede at London sta...</td>\n",
       "      <td>LONDON (Reuters) - A woman at London s Parsons...</td>\n",
       "      <td>worldnews</td>\n",
       "      <td>September 15, 2017</td>\n",
       "    </tr>\n",
       "    <tr>\n",
       "      <th>9</th>\n",
       "      <td>2</td>\n",
       "      <td>UK says world will stand together against Nort...</td>\n",
       "      <td>LONDON (Reuters) - Britain said on Friday the ...</td>\n",
       "      <td>worldnews</td>\n",
       "      <td>September 15, 2017</td>\n",
       "    </tr>\n",
       "  </tbody>\n",
       "</table>\n",
       "</div>"
      ],
      "text/plain": [
       "   label                                              title  \\\n",
       "0      2  UK's May 'receiving regular updates' on London...   \n",
       "1      2  UK transport police leading investigation of L...   \n",
       "2      2  Pacific nations crack down on North Korean shi...   \n",
       "3      2  Three suspected al Qaeda militants killed in Y...   \n",
       "4      2  Chinese academics prod Beijing to consider Nor...   \n",
       "5      2  Flames raced along train at west London statio...   \n",
       "6      2  London police advise people to avoid area near...   \n",
       "7      2  London ambulance service sends hazardous area ...   \n",
       "8      2  Witness says injured in stampede at London sta...   \n",
       "9      2  UK says world will stand together against Nort...   \n",
       "\n",
       "                                                text    subject  \\\n",
       "0  LONDON (Reuters) - British Prime Minister Ther...  worldnews   \n",
       "1  LONDON (Reuters) - British counter-terrorism p...  worldnews   \n",
       "2  WELLINGTON (Reuters) - South Pacific island na...  worldnews   \n",
       "3  ADEN, Yemen (Reuters) - Three suspected al Qae...  worldnews   \n",
       "4  BEIJING (Reuters) - Chinese academics are publ...  worldnews   \n",
       "5  LONDON (Reuters) - Flames engulfed one carriag...  worldnews   \n",
       "6  LONDON (Reuters) - British police on Friday ad...  worldnews   \n",
       "7  LONDON (Reuters) - London s ambulance service ...  worldnews   \n",
       "8  LONDON (Reuters) - A woman at London s Parsons...  worldnews   \n",
       "9  LONDON (Reuters) - Britain said on Friday the ...  worldnews   \n",
       "\n",
       "                  date  \n",
       "0  September 15, 2017   \n",
       "1  September 15, 2017   \n",
       "2  September 15, 2017   \n",
       "3  September 15, 2017   \n",
       "4  September 15, 2017   \n",
       "5  September 15, 2017   \n",
       "6  September 15, 2017   \n",
       "7  September 15, 2017   \n",
       "8  September 15, 2017   \n",
       "9  September 15, 2017   "
      ]
     },
     "execution_count": 6,
     "metadata": {},
     "output_type": "execute_result"
    }
   ],
   "source": [
    "## Read validation data\n",
    "val_data = pd.read_csv(r\"C:\\Users\\happy\\Documents\\ironhack\\Week9\\project-nlp-challenge\\dataset\\validation_data.csv\")\n",
    "val_data.head(10)"
   ]
  },
  {
   "cell_type": "markdown",
   "metadata": {},
   "source": [
    "## Data Preprocessing"
   ]
  },
  {
   "cell_type": "markdown",
   "metadata": {},
   "source": [
    "Use only title and label"
   ]
  },
  {
   "cell_type": "code",
   "execution_count": 8,
   "metadata": {},
   "outputs": [
    {
     "data": {
      "application/vnd.microsoft.datawrangler.viewer.v0+json": {
       "columns": [
        {
         "name": "index",
         "rawType": "int64",
         "type": "integer"
        },
        {
         "name": "label",
         "rawType": "int64",
         "type": "integer"
        },
        {
         "name": "title",
         "rawType": "object",
         "type": "string"
        }
       ],
       "conversionMethod": "pd.DataFrame",
       "ref": "13d768d2-5095-49b9-a25e-67b977574dcd",
       "rows": [
        [
         "0",
         "1",
         "As U.S. budget fight looms, Republicans flip their fiscal script"
        ],
        [
         "1",
         "1",
         "U.S. military to accept transgender recruits on Monday: Pentagon"
        ],
        [
         "2",
         "1",
         "Senior U.S. Republican senator: 'Let Mr. Mueller do his job'"
        ],
        [
         "3",
         "1",
         "FBI Russia probe helped by Australian diplomat tip-off: NYT"
        ],
        [
         "4",
         "1",
         "Trump wants Postal Service to charge 'much more' for Amazon shipments"
        ],
        [
         "5",
         "1",
         "White House, Congress prepare for talks on spending, immigration"
        ],
        [
         "6",
         "1",
         "Trump says Russia probe will be fair, but timeline unclear: NYT"
        ],
        [
         "7",
         "1",
         "Factbox: Trump on Twitter (Dec 29) - Approval rating, Amazon"
        ],
        [
         "8",
         "1",
         "Trump on Twitter (Dec 28) - Global Warming"
        ],
        [
         "9",
         "1",
         "Alabama official to certify Senator-elect Jones today despite challenge: CNN"
        ],
        [
         "10",
         "1",
         "Jones certified U.S. Senate winner despite Moore challenge"
        ],
        [
         "11",
         "1",
         "New York governor questions the constitutionality of federal tax overhaul"
        ],
        [
         "12",
         "1",
         "Factbox: Trump on Twitter (Dec 28) - Vanity Fair, Hillary Clinton"
        ],
        [
         "13",
         "1",
         "Trump on Twitter (Dec 27) - Trump, Iraq, Syria"
        ],
        [
         "14",
         "1",
         "Man says he delivered manure to Mnuchin to protest new U.S. tax law"
        ],
        [
         "15",
         "1",
         "Virginia officials postpone lottery drawing to decide tied statehouse election"
        ],
        [
         "16",
         "1",
         "U.S. lawmakers question businessman at 2016 Trump Tower meeting: sources"
        ],
        [
         "17",
         "1",
         "Trump on Twitter (Dec 26) - Hillary Clinton, Tax Cut Bill"
        ],
        [
         "18",
         "1",
         "U.S. appeals court rejects challenge to Trump voter fraud panel"
        ],
        [
         "19",
         "1",
         "Treasury Secretary Mnuchin was sent gift-wrapped box of horse manure: reports"
        ],
        [
         "20",
         "1",
         "Federal judge partially lifts Trump's latest refugee restrictions"
        ],
        [
         "21",
         "1",
         "Exclusive: U.S. memo weakens guidelines for protecting immigrant children in court"
        ],
        [
         "22",
         "1",
         "Trump travel ban should not apply to people with strong U.S. ties: court"
        ],
        [
         "23",
         "1",
         "Second court rejects Trump bid to stop transgender military recruits"
        ],
        [
         "24",
         "1",
         "Failed vote to oust president shakes up Peru's politics"
        ],
        [
         "25",
         "1",
         "Trump signs tax, government spending bills into law"
        ],
        [
         "26",
         "1",
         "Companies have up to a year for new U.S. tax bill reporting: SEC"
        ],
        [
         "27",
         "1",
         "Trump on Twitter (Dec 22) - Tax cut, Missile defense bill"
        ],
        [
         "28",
         "1",
         "Mexico to review need for tax changes after U.S. reform-document"
        ],
        [
         "29",
         "1",
         "Senate leader McConnell sees a more collegial 2018"
        ],
        [
         "30",
         "1",
         "Alabama to certify Democrat Jones winner of Senate election"
        ],
        [
         "31",
         "1",
         "McConnell happier with Trump tweets after tax victory"
        ],
        [
         "32",
         "1",
         "House panel asks Trump ex-top aide Bannon to testify: Bloomberg"
        ],
        [
         "33",
         "1",
         "Callista Gingrich becomes Trump's envoy to pope as differences mount"
        ],
        [
         "34",
         "1",
         "As Republicans aim to ride economy to election victory, a warning from voters in key district"
        ],
        [
         "35",
         "1",
         "Exclusive: State Department tells refugee agencies to downsize U.S. operations"
        ],
        [
         "36",
         "1",
         "Congress votes to avert shutdown, sends Trump stopgap spending bill"
        ],
        [
         "37",
         "1",
         "Factbox: Big-ticket items at center of Congress spending bill"
        ],
        [
         "38",
         "1",
         "In victory for Trump, judge tosses suit on foreign payments"
        ],
        [
         "39",
         "1",
         "Senate shelves disaster aid bill until next month"
        ],
        [
         "40",
         "1",
         "Trump on Twitter (Dec 21) - Tax Cuts, Home sales"
        ],
        [
         "41",
         "1",
         "House widens ethics probe to include Farenthold campaign work"
        ],
        [
         "42",
         "1",
         "U.S. court rejects Trump bid to stop transgender military recruits on Jan. 1"
        ],
        [
         "43",
         "1",
         "U.S. House approves $81 billion for disaster aid"
        ],
        [
         "44",
         "1",
         "House Democrats rally to protect Special Counsel Mueller"
        ],
        [
         "45",
         "1",
         "Second U.S. judge blocks Trump administration birth control rules"
        ],
        [
         "46",
         "1",
         "Senators seek to stop expansion of airport facial scans"
        ],
        [
         "47",
         "1",
         "U.S. launches effort to reduce reliance on imports or critical minerals"
        ],
        [
         "48",
         "1",
         "Short-term government funding, disaster aid bills advance in House"
        ],
        [
         "49",
         "1",
         "Spy chiefs pressure Congress to renew expiring surveillance law"
        ]
       ],
       "shape": {
        "columns": 2,
        "rows": 39942
       }
      },
      "text/html": [
       "<div>\n",
       "<style scoped>\n",
       "    .dataframe tbody tr th:only-of-type {\n",
       "        vertical-align: middle;\n",
       "    }\n",
       "\n",
       "    .dataframe tbody tr th {\n",
       "        vertical-align: top;\n",
       "    }\n",
       "\n",
       "    .dataframe thead th {\n",
       "        text-align: right;\n",
       "    }\n",
       "</style>\n",
       "<table border=\"1\" class=\"dataframe\">\n",
       "  <thead>\n",
       "    <tr style=\"text-align: right;\">\n",
       "      <th></th>\n",
       "      <th>label</th>\n",
       "      <th>title</th>\n",
       "    </tr>\n",
       "  </thead>\n",
       "  <tbody>\n",
       "    <tr>\n",
       "      <th>0</th>\n",
       "      <td>1</td>\n",
       "      <td>As U.S. budget fight looms, Republicans flip t...</td>\n",
       "    </tr>\n",
       "    <tr>\n",
       "      <th>1</th>\n",
       "      <td>1</td>\n",
       "      <td>U.S. military to accept transgender recruits o...</td>\n",
       "    </tr>\n",
       "    <tr>\n",
       "      <th>2</th>\n",
       "      <td>1</td>\n",
       "      <td>Senior U.S. Republican senator: 'Let Mr. Muell...</td>\n",
       "    </tr>\n",
       "    <tr>\n",
       "      <th>3</th>\n",
       "      <td>1</td>\n",
       "      <td>FBI Russia probe helped by Australian diplomat...</td>\n",
       "    </tr>\n",
       "    <tr>\n",
       "      <th>4</th>\n",
       "      <td>1</td>\n",
       "      <td>Trump wants Postal Service to charge 'much mor...</td>\n",
       "    </tr>\n",
       "    <tr>\n",
       "      <th>...</th>\n",
       "      <td>...</td>\n",
       "      <td>...</td>\n",
       "    </tr>\n",
       "    <tr>\n",
       "      <th>39937</th>\n",
       "      <td>0</td>\n",
       "      <td>THIS IS NOT A JOKE! Soros-Linked Group Has Pla...</td>\n",
       "    </tr>\n",
       "    <tr>\n",
       "      <th>39938</th>\n",
       "      <td>0</td>\n",
       "      <td>THE SMARTEST WOMAN In Politics: “How Trump Can...</td>\n",
       "    </tr>\n",
       "    <tr>\n",
       "      <th>39939</th>\n",
       "      <td>0</td>\n",
       "      <td>BREAKING! SHOCKING VIDEO FROM CHARLOTTE RIOTS:...</td>\n",
       "    </tr>\n",
       "    <tr>\n",
       "      <th>39940</th>\n",
       "      <td>0</td>\n",
       "      <td>BREAKING! Charlotte News Station Reports Cops ...</td>\n",
       "    </tr>\n",
       "    <tr>\n",
       "      <th>39941</th>\n",
       "      <td>0</td>\n",
       "      <td>BIG MISTAKE! HILLARY JUST Proved To America Sh...</td>\n",
       "    </tr>\n",
       "  </tbody>\n",
       "</table>\n",
       "<p>39942 rows × 2 columns</p>\n",
       "</div>"
      ],
      "text/plain": [
       "       label                                              title\n",
       "0          1  As U.S. budget fight looms, Republicans flip t...\n",
       "1          1  U.S. military to accept transgender recruits o...\n",
       "2          1  Senior U.S. Republican senator: 'Let Mr. Muell...\n",
       "3          1  FBI Russia probe helped by Australian diplomat...\n",
       "4          1  Trump wants Postal Service to charge 'much mor...\n",
       "...      ...                                                ...\n",
       "39937      0  THIS IS NOT A JOKE! Soros-Linked Group Has Pla...\n",
       "39938      0  THE SMARTEST WOMAN In Politics: “How Trump Can...\n",
       "39939      0  BREAKING! SHOCKING VIDEO FROM CHARLOTTE RIOTS:...\n",
       "39940      0  BREAKING! Charlotte News Station Reports Cops ...\n",
       "39941      0  BIG MISTAKE! HILLARY JUST Proved To America Sh...\n",
       "\n",
       "[39942 rows x 2 columns]"
      ]
     },
     "execution_count": 8,
     "metadata": {},
     "output_type": "execute_result"
    }
   ],
   "source": [
    "df = data[['label', 'title']].dropna()\n",
    "df"
   ]
  },
  {
   "cell_type": "markdown",
   "metadata": {},
   "source": [
    "Split train/test"
   ]
  },
  {
   "cell_type": "code",
   "execution_count": 11,
   "metadata": {},
   "outputs": [],
   "source": [
    "X_train, X_test, y_train, y_test = train_test_split(df['title'], df['label'], test_size=0.2, random_state=42)"
   ]
  },
  {
   "cell_type": "markdown",
   "metadata": {},
   "source": [
    "## TD-IDF\n",
    "\n",
    "- Load the vectorizer\n",
    "\n",
    "- Vectorize all dataset\n",
    "\n",
    "- print the shape of the vetorized dataset"
   ]
  },
  {
   "cell_type": "code",
   "execution_count": 12,
   "metadata": {},
   "outputs": [],
   "source": [
    "vectorizer = TfidfVectorizer(stop_words='english', max_df=0.7)\n",
    "X_train_tfidf = vectorizer.fit_transform(X_train)\n",
    "X_test_tfidf = vectorizer.transform(X_test)"
   ]
  },
  {
   "cell_type": "code",
   "execution_count": null,
   "metadata": {},
   "outputs": [],
   "source": [
    "Model training (Logistic Regression)"
   ]
  },
  {
   "cell_type": "code",
   "execution_count": 13,
   "metadata": {},
   "outputs": [
    {
     "data": {
      "text/html": [
       "<style>#sk-container-id-1 {\n",
       "  /* Definition of color scheme common for light and dark mode */\n",
       "  --sklearn-color-text: black;\n",
       "  --sklearn-color-line: gray;\n",
       "  /* Definition of color scheme for unfitted estimators */\n",
       "  --sklearn-color-unfitted-level-0: #fff5e6;\n",
       "  --sklearn-color-unfitted-level-1: #f6e4d2;\n",
       "  --sklearn-color-unfitted-level-2: #ffe0b3;\n",
       "  --sklearn-color-unfitted-level-3: chocolate;\n",
       "  /* Definition of color scheme for fitted estimators */\n",
       "  --sklearn-color-fitted-level-0: #f0f8ff;\n",
       "  --sklearn-color-fitted-level-1: #d4ebff;\n",
       "  --sklearn-color-fitted-level-2: #b3dbfd;\n",
       "  --sklearn-color-fitted-level-3: cornflowerblue;\n",
       "\n",
       "  /* Specific color for light theme */\n",
       "  --sklearn-color-text-on-default-background: var(--sg-text-color, var(--theme-code-foreground, var(--jp-content-font-color1, black)));\n",
       "  --sklearn-color-background: var(--sg-background-color, var(--theme-background, var(--jp-layout-color0, white)));\n",
       "  --sklearn-color-border-box: var(--sg-text-color, var(--theme-code-foreground, var(--jp-content-font-color1, black)));\n",
       "  --sklearn-color-icon: #696969;\n",
       "\n",
       "  @media (prefers-color-scheme: dark) {\n",
       "    /* Redefinition of color scheme for dark theme */\n",
       "    --sklearn-color-text-on-default-background: var(--sg-text-color, var(--theme-code-foreground, var(--jp-content-font-color1, white)));\n",
       "    --sklearn-color-background: var(--sg-background-color, var(--theme-background, var(--jp-layout-color0, #111)));\n",
       "    --sklearn-color-border-box: var(--sg-text-color, var(--theme-code-foreground, var(--jp-content-font-color1, white)));\n",
       "    --sklearn-color-icon: #878787;\n",
       "  }\n",
       "}\n",
       "\n",
       "#sk-container-id-1 {\n",
       "  color: var(--sklearn-color-text);\n",
       "}\n",
       "\n",
       "#sk-container-id-1 pre {\n",
       "  padding: 0;\n",
       "}\n",
       "\n",
       "#sk-container-id-1 input.sk-hidden--visually {\n",
       "  border: 0;\n",
       "  clip: rect(1px 1px 1px 1px);\n",
       "  clip: rect(1px, 1px, 1px, 1px);\n",
       "  height: 1px;\n",
       "  margin: -1px;\n",
       "  overflow: hidden;\n",
       "  padding: 0;\n",
       "  position: absolute;\n",
       "  width: 1px;\n",
       "}\n",
       "\n",
       "#sk-container-id-1 div.sk-dashed-wrapped {\n",
       "  border: 1px dashed var(--sklearn-color-line);\n",
       "  margin: 0 0.4em 0.5em 0.4em;\n",
       "  box-sizing: border-box;\n",
       "  padding-bottom: 0.4em;\n",
       "  background-color: var(--sklearn-color-background);\n",
       "}\n",
       "\n",
       "#sk-container-id-1 div.sk-container {\n",
       "  /* jupyter's `normalize.less` sets `[hidden] { display: none; }`\n",
       "     but bootstrap.min.css set `[hidden] { display: none !important; }`\n",
       "     so we also need the `!important` here to be able to override the\n",
       "     default hidden behavior on the sphinx rendered scikit-learn.org.\n",
       "     See: https://github.com/scikit-learn/scikit-learn/issues/21755 */\n",
       "  display: inline-block !important;\n",
       "  position: relative;\n",
       "}\n",
       "\n",
       "#sk-container-id-1 div.sk-text-repr-fallback {\n",
       "  display: none;\n",
       "}\n",
       "\n",
       "div.sk-parallel-item,\n",
       "div.sk-serial,\n",
       "div.sk-item {\n",
       "  /* draw centered vertical line to link estimators */\n",
       "  background-image: linear-gradient(var(--sklearn-color-text-on-default-background), var(--sklearn-color-text-on-default-background));\n",
       "  background-size: 2px 100%;\n",
       "  background-repeat: no-repeat;\n",
       "  background-position: center center;\n",
       "}\n",
       "\n",
       "/* Parallel-specific style estimator block */\n",
       "\n",
       "#sk-container-id-1 div.sk-parallel-item::after {\n",
       "  content: \"\";\n",
       "  width: 100%;\n",
       "  border-bottom: 2px solid var(--sklearn-color-text-on-default-background);\n",
       "  flex-grow: 1;\n",
       "}\n",
       "\n",
       "#sk-container-id-1 div.sk-parallel {\n",
       "  display: flex;\n",
       "  align-items: stretch;\n",
       "  justify-content: center;\n",
       "  background-color: var(--sklearn-color-background);\n",
       "  position: relative;\n",
       "}\n",
       "\n",
       "#sk-container-id-1 div.sk-parallel-item {\n",
       "  display: flex;\n",
       "  flex-direction: column;\n",
       "}\n",
       "\n",
       "#sk-container-id-1 div.sk-parallel-item:first-child::after {\n",
       "  align-self: flex-end;\n",
       "  width: 50%;\n",
       "}\n",
       "\n",
       "#sk-container-id-1 div.sk-parallel-item:last-child::after {\n",
       "  align-self: flex-start;\n",
       "  width: 50%;\n",
       "}\n",
       "\n",
       "#sk-container-id-1 div.sk-parallel-item:only-child::after {\n",
       "  width: 0;\n",
       "}\n",
       "\n",
       "/* Serial-specific style estimator block */\n",
       "\n",
       "#sk-container-id-1 div.sk-serial {\n",
       "  display: flex;\n",
       "  flex-direction: column;\n",
       "  align-items: center;\n",
       "  background-color: var(--sklearn-color-background);\n",
       "  padding-right: 1em;\n",
       "  padding-left: 1em;\n",
       "}\n",
       "\n",
       "\n",
       "/* Toggleable style: style used for estimator/Pipeline/ColumnTransformer box that is\n",
       "clickable and can be expanded/collapsed.\n",
       "- Pipeline and ColumnTransformer use this feature and define the default style\n",
       "- Estimators will overwrite some part of the style using the `sk-estimator` class\n",
       "*/\n",
       "\n",
       "/* Pipeline and ColumnTransformer style (default) */\n",
       "\n",
       "#sk-container-id-1 div.sk-toggleable {\n",
       "  /* Default theme specific background. It is overwritten whether we have a\n",
       "  specific estimator or a Pipeline/ColumnTransformer */\n",
       "  background-color: var(--sklearn-color-background);\n",
       "}\n",
       "\n",
       "/* Toggleable label */\n",
       "#sk-container-id-1 label.sk-toggleable__label {\n",
       "  cursor: pointer;\n",
       "  display: block;\n",
       "  width: 100%;\n",
       "  margin-bottom: 0;\n",
       "  padding: 0.5em;\n",
       "  box-sizing: border-box;\n",
       "  text-align: center;\n",
       "}\n",
       "\n",
       "#sk-container-id-1 label.sk-toggleable__label-arrow:before {\n",
       "  /* Arrow on the left of the label */\n",
       "  content: \"▸\";\n",
       "  float: left;\n",
       "  margin-right: 0.25em;\n",
       "  color: var(--sklearn-color-icon);\n",
       "}\n",
       "\n",
       "#sk-container-id-1 label.sk-toggleable__label-arrow:hover:before {\n",
       "  color: var(--sklearn-color-text);\n",
       "}\n",
       "\n",
       "/* Toggleable content - dropdown */\n",
       "\n",
       "#sk-container-id-1 div.sk-toggleable__content {\n",
       "  max-height: 0;\n",
       "  max-width: 0;\n",
       "  overflow: hidden;\n",
       "  text-align: left;\n",
       "  /* unfitted */\n",
       "  background-color: var(--sklearn-color-unfitted-level-0);\n",
       "}\n",
       "\n",
       "#sk-container-id-1 div.sk-toggleable__content.fitted {\n",
       "  /* fitted */\n",
       "  background-color: var(--sklearn-color-fitted-level-0);\n",
       "}\n",
       "\n",
       "#sk-container-id-1 div.sk-toggleable__content pre {\n",
       "  margin: 0.2em;\n",
       "  border-radius: 0.25em;\n",
       "  color: var(--sklearn-color-text);\n",
       "  /* unfitted */\n",
       "  background-color: var(--sklearn-color-unfitted-level-0);\n",
       "}\n",
       "\n",
       "#sk-container-id-1 div.sk-toggleable__content.fitted pre {\n",
       "  /* unfitted */\n",
       "  background-color: var(--sklearn-color-fitted-level-0);\n",
       "}\n",
       "\n",
       "#sk-container-id-1 input.sk-toggleable__control:checked~div.sk-toggleable__content {\n",
       "  /* Expand drop-down */\n",
       "  max-height: 200px;\n",
       "  max-width: 100%;\n",
       "  overflow: auto;\n",
       "}\n",
       "\n",
       "#sk-container-id-1 input.sk-toggleable__control:checked~label.sk-toggleable__label-arrow:before {\n",
       "  content: \"▾\";\n",
       "}\n",
       "\n",
       "/* Pipeline/ColumnTransformer-specific style */\n",
       "\n",
       "#sk-container-id-1 div.sk-label input.sk-toggleable__control:checked~label.sk-toggleable__label {\n",
       "  color: var(--sklearn-color-text);\n",
       "  background-color: var(--sklearn-color-unfitted-level-2);\n",
       "}\n",
       "\n",
       "#sk-container-id-1 div.sk-label.fitted input.sk-toggleable__control:checked~label.sk-toggleable__label {\n",
       "  background-color: var(--sklearn-color-fitted-level-2);\n",
       "}\n",
       "\n",
       "/* Estimator-specific style */\n",
       "\n",
       "/* Colorize estimator box */\n",
       "#sk-container-id-1 div.sk-estimator input.sk-toggleable__control:checked~label.sk-toggleable__label {\n",
       "  /* unfitted */\n",
       "  background-color: var(--sklearn-color-unfitted-level-2);\n",
       "}\n",
       "\n",
       "#sk-container-id-1 div.sk-estimator.fitted input.sk-toggleable__control:checked~label.sk-toggleable__label {\n",
       "  /* fitted */\n",
       "  background-color: var(--sklearn-color-fitted-level-2);\n",
       "}\n",
       "\n",
       "#sk-container-id-1 div.sk-label label.sk-toggleable__label,\n",
       "#sk-container-id-1 div.sk-label label {\n",
       "  /* The background is the default theme color */\n",
       "  color: var(--sklearn-color-text-on-default-background);\n",
       "}\n",
       "\n",
       "/* On hover, darken the color of the background */\n",
       "#sk-container-id-1 div.sk-label:hover label.sk-toggleable__label {\n",
       "  color: var(--sklearn-color-text);\n",
       "  background-color: var(--sklearn-color-unfitted-level-2);\n",
       "}\n",
       "\n",
       "/* Label box, darken color on hover, fitted */\n",
       "#sk-container-id-1 div.sk-label.fitted:hover label.sk-toggleable__label.fitted {\n",
       "  color: var(--sklearn-color-text);\n",
       "  background-color: var(--sklearn-color-fitted-level-2);\n",
       "}\n",
       "\n",
       "/* Estimator label */\n",
       "\n",
       "#sk-container-id-1 div.sk-label label {\n",
       "  font-family: monospace;\n",
       "  font-weight: bold;\n",
       "  display: inline-block;\n",
       "  line-height: 1.2em;\n",
       "}\n",
       "\n",
       "#sk-container-id-1 div.sk-label-container {\n",
       "  text-align: center;\n",
       "}\n",
       "\n",
       "/* Estimator-specific */\n",
       "#sk-container-id-1 div.sk-estimator {\n",
       "  font-family: monospace;\n",
       "  border: 1px dotted var(--sklearn-color-border-box);\n",
       "  border-radius: 0.25em;\n",
       "  box-sizing: border-box;\n",
       "  margin-bottom: 0.5em;\n",
       "  /* unfitted */\n",
       "  background-color: var(--sklearn-color-unfitted-level-0);\n",
       "}\n",
       "\n",
       "#sk-container-id-1 div.sk-estimator.fitted {\n",
       "  /* fitted */\n",
       "  background-color: var(--sklearn-color-fitted-level-0);\n",
       "}\n",
       "\n",
       "/* on hover */\n",
       "#sk-container-id-1 div.sk-estimator:hover {\n",
       "  /* unfitted */\n",
       "  background-color: var(--sklearn-color-unfitted-level-2);\n",
       "}\n",
       "\n",
       "#sk-container-id-1 div.sk-estimator.fitted:hover {\n",
       "  /* fitted */\n",
       "  background-color: var(--sklearn-color-fitted-level-2);\n",
       "}\n",
       "\n",
       "/* Specification for estimator info (e.g. \"i\" and \"?\") */\n",
       "\n",
       "/* Common style for \"i\" and \"?\" */\n",
       "\n",
       ".sk-estimator-doc-link,\n",
       "a:link.sk-estimator-doc-link,\n",
       "a:visited.sk-estimator-doc-link {\n",
       "  float: right;\n",
       "  font-size: smaller;\n",
       "  line-height: 1em;\n",
       "  font-family: monospace;\n",
       "  background-color: var(--sklearn-color-background);\n",
       "  border-radius: 1em;\n",
       "  height: 1em;\n",
       "  width: 1em;\n",
       "  text-decoration: none !important;\n",
       "  margin-left: 1ex;\n",
       "  /* unfitted */\n",
       "  border: var(--sklearn-color-unfitted-level-1) 1pt solid;\n",
       "  color: var(--sklearn-color-unfitted-level-1);\n",
       "}\n",
       "\n",
       ".sk-estimator-doc-link.fitted,\n",
       "a:link.sk-estimator-doc-link.fitted,\n",
       "a:visited.sk-estimator-doc-link.fitted {\n",
       "  /* fitted */\n",
       "  border: var(--sklearn-color-fitted-level-1) 1pt solid;\n",
       "  color: var(--sklearn-color-fitted-level-1);\n",
       "}\n",
       "\n",
       "/* On hover */\n",
       "div.sk-estimator:hover .sk-estimator-doc-link:hover,\n",
       ".sk-estimator-doc-link:hover,\n",
       "div.sk-label-container:hover .sk-estimator-doc-link:hover,\n",
       ".sk-estimator-doc-link:hover {\n",
       "  /* unfitted */\n",
       "  background-color: var(--sklearn-color-unfitted-level-3);\n",
       "  color: var(--sklearn-color-background);\n",
       "  text-decoration: none;\n",
       "}\n",
       "\n",
       "div.sk-estimator.fitted:hover .sk-estimator-doc-link.fitted:hover,\n",
       ".sk-estimator-doc-link.fitted:hover,\n",
       "div.sk-label-container:hover .sk-estimator-doc-link.fitted:hover,\n",
       ".sk-estimator-doc-link.fitted:hover {\n",
       "  /* fitted */\n",
       "  background-color: var(--sklearn-color-fitted-level-3);\n",
       "  color: var(--sklearn-color-background);\n",
       "  text-decoration: none;\n",
       "}\n",
       "\n",
       "/* Span, style for the box shown on hovering the info icon */\n",
       ".sk-estimator-doc-link span {\n",
       "  display: none;\n",
       "  z-index: 9999;\n",
       "  position: relative;\n",
       "  font-weight: normal;\n",
       "  right: .2ex;\n",
       "  padding: .5ex;\n",
       "  margin: .5ex;\n",
       "  width: min-content;\n",
       "  min-width: 20ex;\n",
       "  max-width: 50ex;\n",
       "  color: var(--sklearn-color-text);\n",
       "  box-shadow: 2pt 2pt 4pt #999;\n",
       "  /* unfitted */\n",
       "  background: var(--sklearn-color-unfitted-level-0);\n",
       "  border: .5pt solid var(--sklearn-color-unfitted-level-3);\n",
       "}\n",
       "\n",
       ".sk-estimator-doc-link.fitted span {\n",
       "  /* fitted */\n",
       "  background: var(--sklearn-color-fitted-level-0);\n",
       "  border: var(--sklearn-color-fitted-level-3);\n",
       "}\n",
       "\n",
       ".sk-estimator-doc-link:hover span {\n",
       "  display: block;\n",
       "}\n",
       "\n",
       "/* \"?\"-specific style due to the `<a>` HTML tag */\n",
       "\n",
       "#sk-container-id-1 a.estimator_doc_link {\n",
       "  float: right;\n",
       "  font-size: 1rem;\n",
       "  line-height: 1em;\n",
       "  font-family: monospace;\n",
       "  background-color: var(--sklearn-color-background);\n",
       "  border-radius: 1rem;\n",
       "  height: 1rem;\n",
       "  width: 1rem;\n",
       "  text-decoration: none;\n",
       "  /* unfitted */\n",
       "  color: var(--sklearn-color-unfitted-level-1);\n",
       "  border: var(--sklearn-color-unfitted-level-1) 1pt solid;\n",
       "}\n",
       "\n",
       "#sk-container-id-1 a.estimator_doc_link.fitted {\n",
       "  /* fitted */\n",
       "  border: var(--sklearn-color-fitted-level-1) 1pt solid;\n",
       "  color: var(--sklearn-color-fitted-level-1);\n",
       "}\n",
       "\n",
       "/* On hover */\n",
       "#sk-container-id-1 a.estimator_doc_link:hover {\n",
       "  /* unfitted */\n",
       "  background-color: var(--sklearn-color-unfitted-level-3);\n",
       "  color: var(--sklearn-color-background);\n",
       "  text-decoration: none;\n",
       "}\n",
       "\n",
       "#sk-container-id-1 a.estimator_doc_link.fitted:hover {\n",
       "  /* fitted */\n",
       "  background-color: var(--sklearn-color-fitted-level-3);\n",
       "}\n",
       "</style><div id=\"sk-container-id-1\" class=\"sk-top-container\"><div class=\"sk-text-repr-fallback\"><pre>LogisticRegression()</pre><b>In a Jupyter environment, please rerun this cell to show the HTML representation or trust the notebook. <br />On GitHub, the HTML representation is unable to render, please try loading this page with nbviewer.org.</b></div><div class=\"sk-container\" hidden><div class=\"sk-item\"><div class=\"sk-estimator fitted sk-toggleable\"><input class=\"sk-toggleable__control sk-hidden--visually\" id=\"sk-estimator-id-1\" type=\"checkbox\" checked><label for=\"sk-estimator-id-1\" class=\"sk-toggleable__label fitted sk-toggleable__label-arrow fitted\">&nbsp;&nbsp;LogisticRegression<a class=\"sk-estimator-doc-link fitted\" rel=\"noreferrer\" target=\"_blank\" href=\"https://scikit-learn.org/1.5/modules/generated/sklearn.linear_model.LogisticRegression.html\">?<span>Documentation for LogisticRegression</span></a><span class=\"sk-estimator-doc-link fitted\">i<span>Fitted</span></span></label><div class=\"sk-toggleable__content fitted\"><pre>LogisticRegression()</pre></div> </div></div></div></div>"
      ],
      "text/plain": [
       "LogisticRegression()"
      ]
     },
     "execution_count": 13,
     "metadata": {},
     "output_type": "execute_result"
    }
   ],
   "source": [
    "model = LogisticRegression()\n",
    "model.fit(X_train_tfidf, y_train)"
   ]
  },
  {
   "cell_type": "markdown",
   "metadata": {},
   "source": [
    "Evaluation"
   ]
  },
  {
   "cell_type": "code",
   "execution_count": 15,
   "metadata": {},
   "outputs": [
    {
     "name": "stdout",
     "output_type": "stream",
     "text": [
      "Test Accuracy: 0.9420\n"
     ]
    }
   ],
   "source": [
    "y_pred = model.predict(X_test_tfidf)\n",
    "print(f\"Test Accuracy: {accuracy_score(y_test, y_pred):.4f}\")"
   ]
  },
  {
   "cell_type": "markdown",
   "metadata": {},
   "source": [
    "# F1 Score"
   ]
  },
  {
   "cell_type": "code",
   "execution_count": null,
   "metadata": {},
   "outputs": [],
   "source": [
    "f1 = f1_score(y_test, y_pred)\n",
    "print(f\"F1 Score: {f1:.4f}\")"
   ]
  },
  {
   "cell_type": "markdown",
   "metadata": {},
   "source": [
    "# Confusion Matrix"
   ]
  },
  {
   "cell_type": "code",
   "execution_count": null,
   "metadata": {},
   "outputs": [],
   "source": [
    "cm = confusion_matrix(y_test, y_pred)\n",
    "print(\"Confusion Matrix:\")\n",
    "print(cm)\n",
    "print(\"\\nClassification Report:\")\n",
    "print(classification_report(y_test, y_pred))"
   ]
  },
  {
   "cell_type": "markdown",
   "metadata": {},
   "source": [
    "preprocess validation data"
   ]
  },
  {
   "cell_type": "code",
   "execution_count": 18,
   "metadata": {},
   "outputs": [
    {
     "data": {
      "text/plain": [
       "0       UK's May 'receiving regular updates' on London...\n",
       "1       UK transport police leading investigation of L...\n",
       "2       Pacific nations crack down on North Korean shi...\n",
       "3       Three suspected al Qaeda militants killed in Y...\n",
       "4       Chinese academics prod Beijing to consider Nor...\n",
       "                              ...                        \n",
       "4951    McPain: John McCain Furious That Iran Treated ...\n",
       "4952    JUSTICE? Yahoo Settles E-mail Privacy Class-ac...\n",
       "4953    Sunnistan: US and Allied ‘Safe Zone’ Plan to T...\n",
       "4954    How to Blow $700 Million: Al Jazeera America F...\n",
       "4955    10 U.S. Navy Sailors Held by Iranian Military ...\n",
       "Name: title, Length: 4956, dtype: object"
      ]
     },
     "execution_count": 18,
     "metadata": {},
     "output_type": "execute_result"
    }
   ],
   "source": [
    "val_titles = val_data['title'].fillna(\"\")\n",
    "val_titles"
   ]
  },
  {
   "cell_type": "markdown",
   "metadata": {},
   "source": [
    "Transform titles using the same vectorizer"
   ]
  },
  {
   "cell_type": "code",
   "execution_count": 19,
   "metadata": {},
   "outputs": [],
   "source": [
    "val_tfidf = vectorizer.transform(val_titles)"
   ]
  },
  {
   "cell_type": "markdown",
   "metadata": {},
   "source": [
    "Predict labels"
   ]
  },
  {
   "cell_type": "code",
   "execution_count": 20,
   "metadata": {},
   "outputs": [],
   "source": [
    "predicted_labels = model.predict(val_tfidf)"
   ]
  },
  {
   "cell_type": "markdown",
   "metadata": {},
   "source": [
    "Replace label column"
   ]
  },
  {
   "cell_type": "code",
   "execution_count": 23,
   "metadata": {},
   "outputs": [
    {
     "data": {
      "application/vnd.microsoft.datawrangler.viewer.v0+json": {
       "columns": [
        {
         "name": "index",
         "rawType": "int64",
         "type": "integer"
        },
        {
         "name": "label",
         "rawType": "int64",
         "type": "integer"
        },
        {
         "name": "title",
         "rawType": "object",
         "type": "string"
        },
        {
         "name": "text",
         "rawType": "object",
         "type": "string"
        },
        {
         "name": "subject",
         "rawType": "object",
         "type": "string"
        },
        {
         "name": "date",
         "rawType": "object",
         "type": "string"
        }
       ],
       "conversionMethod": "pd.DataFrame",
       "ref": "c123bcbf-0cf2-4052-964d-1282a847d05b",
       "rows": [
        [
         "0",
         "1",
         "UK's May 'receiving regular updates' on London tube station incident: PM's office",
         "LONDON (Reuters) - British Prime Minister Theresa May is being regularly briefed after armed police rushed to an incident at a London underground station on Friday, with local media reporting there had been an explosion on a packed rush-hour commuter train.  The prime minister is receiving regular updates,  a spokesman from May s office said when asked if May was aware of the incident. ",
         "worldnews",
         "September 15, 2017 "
        ],
        [
         "1",
         "1",
         "UK transport police leading investigation of London incident, counter-terrorism police aware",
         "LONDON (Reuters) - British counter-terrorism police were monitoring events after media reports of a blast on a train in Parsons Green station in west London on Friday, but the investigation into the incident is being led by transport police, a security source said. Armed police rushed to an incident at a London underground station on Friday with local media reporting there had been an explosion on a packed rush-hour commuter train. Counter-terrorism officers were on the scene of the incident.  ",
         "worldnews",
         "September 15, 2017 "
        ],
        [
         "2",
         "1",
         "Pacific nations crack down on North Korean ships as Fiji probes more than 20 vessels",
         "WELLINGTON (Reuters) - South Pacific island nations are scouring shipping records for vessels with links to North Korea after Fiji said it had identified 20 falsely flagged ships it suspects the isolated regime is using to evade United Nations sanctions. Fiji, along with Interpol and the Singapore-based regional shipping regulator Tokyo MoU, are investigating the vessels for links to North Korea, a spokesman for the country s Maritime Safety Authority (MSAF) told Reuters on Friday. Interpol and Tokyo MoU did not immediately respond to requests for comment on their investigations. The 18 members of the Pacific Islands Forum this month agreed to launch an audit of every ship registered in the Pacific to search for any links to North Korea. New Zealand Foreign Affairs Minister Gerry Brownlee said Pacific countries, including his own, were concerned North Korea was using falsely flagged cargo ships as one avenue to trade goods in spite of sanctions.  What we do know is that declared North Korean GDP (gross domestic product) is not big enough to support the nuclear program that they re running so there has to be significant black market or offbook revenue going into the country,  Brownlee told Reuters in a phone interview this week. The move came as the UN on Monday ramped up sanctions on North Korea, including tightening up oversight of vessels on the high seas. Authorities will now be allowed to check suspected vessels for prohibited cargo with the authority of the flag country.  UN sanctions introduced in August banned North Korean exports of seafood as part of efforts to curtail the regime s access to foreign funds. North Korea had been expected to earn an estimated $295 million from seafood in 2017, one U.N. diplomat said. In Fiji s case, the North Korean-linked ships had adopted the island nation s flag without formally registering, the MSAF said. It was not known in what way the possibly more-than 20 vessels were linked to North Korea or what their suspected activities or locations were. The MSAF declined to provide details due to the ongoing investigation. In addition to the fraudulent use of flags, Pacific governments were concerned North Korean vessels could be quietly registering in nations that allow international ships to use their flags.     If it s not clear why they re on that register, in other words, they re not regular callers into Pacific ports, then further investigation is needed to untangle the ship owner,  said Brownlee. The review would take place over the next couple of months, Brownlee said, and Australia and New Zealand would provide intelligence to help the small island nations check any North Korean connections. ",
         "worldnews",
         "September 15, 2017 "
        ],
        [
         "3",
         "1",
         "Three suspected al Qaeda militants killed in Yemen drone strike",
         "ADEN, Yemen (Reuters) - Three suspected al Qaeda militants were killed in a drone strike in southern Yemen late on Thursday, a local security official and residents said. The strike in Mudiyah district in Abyan province on the Arabian Sea coast had targeted a motorcycle which the suspected militants were riding, the official said. Abyan is one of several provinces in central and southern Yemen where Al Qaeda in the Arabian Peninsula (AQAP) and its local affiliate Ansar al-Sharia operate. AQAP has taken advantage of a more than two-year civil war between the Iran-aligned Houthi group and President Abd-Rabbu Mansour Hadi s Saudi-backed government to strengthen its position in the impoverished country. The United States has repeatedly attacked AQAP with aircraft and unmanned drones in what U.S. officials say is a campaign to wear down the group s ability to coordinate attacks abroad. The Saudi-led coalition supporting Hadi has also launched thousands of air strikes against the Houthis which control Yemen s capital and much of the country s north. The Houthis have in turn fired rockets towards Saudi cities and villages. They say their attacks are in response to Saudi strikes on Yemeni cities and villages. The coalition spokesman said on Thursday that a Saudi pilot had died a day earlier when his plane crashed in the southern province of Abyan due to  technical failure , the Saudi news agency SPA said. The war has killed more than 10,000 people. ",
         "worldnews",
         "September 15, 2017 "
        ],
        [
         "4",
         "1",
         "Chinese academics prod Beijing to consider North Korea contingencies",
         "BEIJING (Reuters) - Chinese academics are publicly broaching the idea that China and the United States should share plans on how to deal with a  potential conflict on the Korean Peninsula, a sign some say of how North Korea s weapons test may be making Beijing more open to the once taboo subject. Chinese officials have rebuffed top U.S. military brass for years in their efforts to share contingencies for war or regime collapse in Pyongyang, suspicious over Washington s intentions and fearful that such engagement could further alienate North Korea, their once steadfast wartime ally. Jia Qingguo, the dean of the School of International Studies at China s elite Peking University and a respected advisor to Chinese leaders, said in an article this week that with the chances of war increasing daily, it might be time for China to  prepare for the worst .  When war becomes a real possibility, China must be prepared. And, with this in mind, China must be more willing to consider talks with concerned countries on contingency plans,  Jia wrote in an article first published on the online East Asia Forum run out of Australian National University. Given recent developments,  Beijing may have no better choice than to start talking with Washington and Seoul , Jia said. Ties between China and North Korea have deteriorated sharply in recent years, to the point some diplomats and experts fear Beijing may become, like Washington, a target of its neighbor s ire. Jia s comments, at the forefront of what is still a sensitive debate in China, were made before North Korea on Friday fired a missile that flew over Japan s northern Hokkaido far out into the Pacific Ocean.  That test came after the U.N. Security Council s latest round of sanctions on Monday banning North Korea s textile exports and capping fuel supplies in response to Pyongyang s accelerated effort to target the United States with a powerful, nuclear-tipped missile. Xie Tao, associate dean at the School of English and International Studies at Beijing Foreign Studies University, said Chinese academics in years past would typically only express their opinions on whether China should be sharing plans with Washington behind closed doors.  Now you can get all sorts of people from the left and right and they are allowed to make their views public,  Xie told Reuters.  You could interpret that as a signal that the Chinese government is perhaps willing now to consider, if not actually join up to, contingency plans,  Xie said.  My sense is that there must be some in-depth discussion about what could potentially happen if there is a collapse or internal chaos   how Beijing and Washington should respond to this.  During a trip to China in August, Joseph Dunford, Chairman of the U.S. Joint Chiefs of Staff, attended Chinese military drills at China s Northern Theater Command in the city of Shenyang, which covers China s border with North Korea.  Some analysts perceived that as China opening a crack in the door to its own preparations, but neither side are showing their cards to the public. Dunford said in Beijing during that visit that despite Washington s urgings the  conditions aren t set for such a detailed conversation  between the two militaries.  U.S. military officials have privately voiced frustration that previous channels established for direct military communications line are essentially unstaffed on the Chinese side. Dunford said creating a round-the-clock  responsive  communications link that could be used in a crisis was a top priority for military ties.  For a graphic on North Korea's missile and nuclear tests, click: here ",
         "worldnews",
         "September 15, 2017 "
        ],
        [
         "5",
         "1",
         "Flames raced along train at west London station: eye witness",
         "LONDON (Reuters) - Flames engulfed one carriage and raced along a train on a west London route to Parsons Green, forcing passengers to trample others as they rushed for an exit, an eyewitness told Reuters. The man said people were trampled on when they fled the train after hearing a whoosh and seeing flames race towards them. He said he did not hear a bang after police rushed to an incident at the station at Parsons Green.  I just heard a kind of whoosh. I looked up and saw the whole carriage engulfed in flames making its way towards me,  he told Reuters, adding that the train was packed with people. ",
         "worldnews",
         "September 15, 2017 "
        ],
        [
         "6",
         "1",
         "London police advise people to avoid area near station incident",
         "LONDON (Reuters) - British police on Friday advised people to avoid the area near Parsons Green, a west London underground station, after media reports of a blast on a train.  Officers from the Metropolitan Police Service and British Transport Police are in attendance along with the London Fire Brigade and London Ambulance Service,  London s police said in a statement.  We would advise people to avoid the area.   ",
         "worldnews",
         "September 15, 2017 "
        ],
        [
         "7",
         "1",
         "London ambulance service sends hazardous area response team to station incident",
         "LONDON (Reuters) - London s ambulance service said on Friday it had sent its hazardous area response team to an incident at a west London metro station after reports of a blast.  We have sent multiple resources to the scene including single responders in cars, ambulance crews, incident response officers and our hazardous area response team,  the London Ambulance Service said on Twitter.  Our initial priority is to assess the level and nature of injuries.   London s transport authority said it had extended a suspension of the underground line which runs through Parsons Green metro station in west London. ",
         "worldnews",
         "September 15, 2017 "
        ],
        [
         "8",
         "1",
         "Witness says injured in stampede at London station: Reuters reporter",
         "LONDON (Reuters) - A woman at London s Parsons Green underground train station told Reuters on Friday she was injured in a stampede.  Armed police were at the scene, a Reuters photographer said.  A blast on an underground train at Parsons Green left some passengers with facial burns at the station, London s Metro newspaper reported on its website. ",
         "worldnews",
         "September 15, 2017 "
        ],
        [
         "9",
         "1",
         "UK says world will stand together against North Korea after missile launch",
         "LONDON (Reuters) - Britain said on Friday the world would stand together against North Korea after the country fired a missile that flew over Japan into the Pacific Ocean, ratcheting up tensions after Pyongyang s test of a powerful nuclear bomb.  Yet another illegal missile launch by North Korea,  Foreign Secretary Boris Johnson tweeted.  UK and international community will stand together in the face of these provocations.  ",
         "worldnews",
         "September 15, 2017 "
        ],
        [
         "10",
         "1",
         "China urges peaceful, diplomatic resolution to North Korea tensions",
         "BEIJING (Reuters) - China s Foreign Ministry said on Friday that it opposed North Korea s use of ballistic missiles in violation of United Nations Security Council resolutions. The emphasis on curbing North Korea s missile and nuclear capabilities should not come at the expense of pushing for a peaceful and diplomatic resolution, ministry spokeswoman Hua Chunying said after North Korea fired a missile that flew over Japan s northern Hokkaido island far out into the Pacific Ocean. Hua said China had made enormous sacrifices to implement United Nations Security Council resolutions and that its sincerity could not be doubted.  ",
         "worldnews",
         "September 15, 2017 "
        ],
        [
         "11",
         "1",
         "Swedish PM survives vote of no-confidence",
         "STOCKHOLM (Reuters) - Swedish Prime Minister Stefan Lofven easily survived a parliamentary vote of no confidence brought on Friday by the anti-immigration Sweden Democrats over a botched IT outsourcing project that may have led to the leak of sensitive information. Only 43 of the parliament s 349 members supported the motion. Had Lofven lost, the government would have resigned, just a year before a general election. Two ministers have resigned over the potential leak of sensitive data as a result of a deal under which IBM Sweden took over some IT functions of the Swedish Transport Agency. During the last 37 years, only eight votes of no-confidence have been tabled in parliament. None has been successful. ",
         "worldnews",
         "September 15, 2017 "
        ],
        [
         "12",
         "1",
         "Russia's Lavrov and U.S. Tillerson discuss Syria: Russia",
         "MOSCOW (Reuters) - Russian Foreign Minister Sergei Lavrov held a phone call on the Syria crisis with his American counterpart Rex Tillerson, the ministry said in a statement on Friday. Lavrov and Tillerson spoke late on Thursday and discussed cooperation in their attempts to resolve the Syrian crisis with an emphasis on de-escalation zones, the ministry said. ",
         "worldnews",
         "September 15, 2017 "
        ],
        [
         "13",
         "1",
         "Peru's Congress ousts cabinet as political crisis deepens",
         "LIMA (Reuters) - Peru s opposition-controlled Congress ousted center-right President Pedro Pablo Kuczynski s cabinet in a vote of no-confidence early on Friday, pitching the copper-producing Andean country into its worst political crisis in years. In a gamble that will likely force him to scrap his plans to travel abroad later in the day, Kuczynski had dared Congress on Wednesday to revoke its confidence in his cabinet if it insisted on forcing out his second education minister. Under Peru s constitution, if Congress does not deliver a president a vote of confidence for his cabinets twice, the president can summon new legislative elections. But the rightwing populist opposition party Popular Force, led by Kuczynski s defeated electoral rival, Keiko Fujimori, answered Prime Minister Fernando Zavala s request on Thursday to back his cabinet with a resounding  no.  Peru s single-chamber Congress, where Popular Force has an absolute majority, voted 77-22 to dismiss Zavala s cabinet. Kuczynski now has 72 hours to swear in a new cabinet. While he cannot name Zavala as prime minister again, Kuczynski can reappoint other ministers in his cabinet. Going forward, Kuczynski might have a freer hand to govern in the remaining four years of his term if the opposition steers clear of a fresh confrontation out of fear of losing its majority. But several opposition lawmakers said they would welcome taking the battle to the ballot box.  If they close Congress, we re not afraid,  said Hector Becerril, a hard-line Popular Force lawmaker.  We re willing to seek the people s support again. And it won t be 13 seats we win, or 73. There ll be 100 of us!  The vote came on the eve of Kuczynski s 8-day trip abroad, which includes plans for dinner with U.S. President Donald Trump on Monday, a speech before the U.N. General Assembly on Tuesday and a meeting with Pope Francis in the Vatican. Kuczynski, a 78-year-old former Wall Street banker who has vowed to modernize Peru and revive economic growth, took office a year ago with one of the weakest mandates of any president, having beat Fujimori by a razor-thin margin while his party only secured a small portion of seats in Congress. In a plenary debate that stretched on for more than seven hours, opposition lawmakers portrayed Kuczynski as an out-of-touch lobbyist who lacks authority and poses a danger to Peru. Congress has forced Kuczynski s former education and finance ministers to resign amid allegations of ethical breaches, while a third minister quit to avoid being censured. Popular Force announced this week that it planned to propose censuring Education Minister Marilu Martens over her handling of a teachers  2-month strike, which her supporters alleged was fueled by an alliance between Popular Force and extremists.  We can t deliver the head of a minister as a trophy,  Zavala told lawmakers after walking to Congress with the rest of the cabinet in a show of union.  It s clear to us that the country can t make progress like this.  ",
         "worldnews",
         "September 15, 2017 "
        ],
        [
         "14",
         "1",
         "Taiwan jails mainland Chinese man on national security charge",
         "TAIPEI (Reuters) - A Taiwan court on Friday jailed a mainland Chinese man for 14 months for breaching national security laws, following months of strained relations over China s detention of a national from the self-ruled island. China, which sees Taiwan as a wayward province to be taken back by force, if necessary, severed official communications last year to pressure President Tsai Ing-wen, whose party traditionally favors independence, to concede its position.  Zhou Hongxu, formerly a student in Taiwan, was charged for seeking to arrange meetings between a Taiwan government official and a Chinese Communist party official outside Taiwan, in return for payment to the Taiwan official, a court document showed. Zhou  intentionally  jeopardized national security, though the attempt was unsuccessful, the court said in the document released after the verdict.    Zhou, who had met the Chinese official at a 2014 event in  Shanghai in 2014, did not plead guilty, his lawyer said, despite a confession during the trial that he later described as having  been made in improper circumstances.  He appeared in court on Friday in a calm mood and dressed in dark colors.  The court reduced his sentence, taking into account his confession, and the failure of the bid to breach national security, it said in its statement. On Monday, a Taiwanese activist, Li Ming-che, confessed in a Chinese court to attempting to subvert the Beijing government,  videos of his hearing released by Chinese authorities showed, although his wife refused to recognize the court s authority. Li, a community college teacher known for his pro-democracy and rights activism, had gone missing on a trip to mainland China in March. ",
         "worldnews",
         "September 15, 2017 "
        ],
        [
         "15",
         "1",
         "Philippines orders retraining, reassignment of 1,200 police after alleged abuses",
         "MANILA (Reuters) - The Philippine capital s police chief ordered that the entire 1,200-member police force in one of Manila s biggest areas be relieved of duty and retrained on Friday in response to a series of controversies, including the killing of two teenagers. Metro Manila s top officer Oscar Albayalde said all police personnel in the Caloocan area of the capital would undergo retraining and reorientation before being reassigned to other police units, not necessarily in Manila.  We will start with the city s police precincts 2 and 7,  Albayalde said. All personnel in Caloocan s headquarters and seven precincts would be temporarily replaced by the regional public safety battalion, a combat-trained unit.  This will be done in batches,  he said. Albayalde did not say how long the retraining would last and how long it would take for the entire police force in Caloocan to be replaced. It is the first time an entire city police unit has been relieved of its duties since President Rodrigo Duterte unleashed his bloody crackdown against illegal drugs 15 months ago, a campaign that has killed thousands of Filipinos. The move comes amid intense scrutiny of police activities in Caloocan in the wake of the killing of 17-year old Kian Loyd Delos Santos last month in what police said was an anti-drugs operation. His lawyers and family say he was murdered in cold blood. Three officers involved in his killing say he fired at them and they acted in self-defense. Duterte, known for his frequent speeches that call for drug dealers to be killed, ordered a thorough investigation into the Delos Santos killing and warned police he would not tolerate abuses. Another teenager, Carl Arnaiz, suffered a similar fate, accused of trying to rob a taxi driver and shooting at police who tried to arrest him. The taxi driver told reporters on Sunday he saw him alive in custody. About two dozen Caloocan residents, holding placards saying  Stop the Killings , held a noisy protest outside the precinct s police headquarters. Dozens of police trainees stood in front and watched the protest. Friday s order came only a day after Philippine media reported members of the Caloocan precinct 4 raided an elderly woman s home and reportedly stole money in an incident captured on closed circuit television cameras. Reuters could not confirm the report independently. Activists accuse police of executing suspected users and dealers systematically during anti-drugs operations and say official reports that say victims violently resisted arrest are implausible, and contrary to witness accounts. Police reject those allegations and Duterte has been furious at critics and political opponents who say he has a  kill policy . The video of the alleged robbery was uploaded on social media sites and went viral, which angered senior police generals. Albayalde immediately issued the orders to relieve the Caloocan precincts.  From what we have seen this has been done or will continue to be done by others so it is best to implement this preemptive measure to avoid similar incidents,  Albayalde told reporters. He warned other districts in Manila could face similar sanctions if they did not shape up. ",
         "worldnews",
         "September 15, 2017 "
        ],
        [
         "16",
         "1",
         "South Korea's Moon says North Korea provocations will result in more isolation",
         "SEOUL (Reuters) - South Korean President Moon Jae-in said on Friday North Korea s latest launch of a missile over Japan will only result in further diplomatic and economic isolation for the North, and officials said Moon had also warned of possible new threats.  President Moon ordered officials to closely analyze and prepare for new possible North Korean threats like EMP (electro-magnetic pulse) and biochemical attacks,  Moon s spokesman Park Su-hyun told a briefing. North Korea said earlier this month it was developing a hydrogen bomb that can carry out an EMP attack. Experts disagree on whether the North would have the capability to mount such an attack, which would involve setting off a bomb in the atmosphere that could cause major damage to power grids and other infrastructure. ",
         "worldnews",
         "September 15, 2017 "
        ],
        [
         "17",
         "1",
         "Cambodia PM calls on U.S. to withdraw Peace Corps volunteers",
         "PHNOM PENH (Reuters) - Cambodian Prime Minister Hun Sen called on the United States on Friday to withdraw Peace Corps volunteers in an escalating row over accusations that U.S. agents conspired with an opposition leader to plot treason. Hun Sen was responding after the U.S. embassy in Phnom Penh issued a travel warning that urged citizens to show caution amid  anti-American rhetoric by officials .  Are you scaring Cambodians?  Hun Sen said of the United States in an address to garment workers at factories which export much of their production to the United States.  Are you prepared to invade Cambodia and that s why you told Americans to be careful? It s good if you pull out the Peace Corps,  Hun Sen said. The U.S. embassy declined to comment. It has previously dismissed the accusations of collusion with opposition leader Kem Sokha and called for his release. On Friday, the embassy was swearing in 71 new volunteers from the Peace Corps, which sends Americans abroad to help with local projects with the stated goal of promoting mutual understanding. Hun Sen said on Friday that he had ordered an investigation into whether any Americans were involved with Kem Sokha. Opponents of Hun Sen accuse him of arresting Cambodia National Rescue Party (CNRP) leader Kem Sokha and cracking down on independent media and other critics ahead of a general election next year. The evidence presented against Kem Sokha is a video recorded in 2013 in which he discusses a strategy to win power with the help of unspecified Americans. Hun Sen, a close ally of China, has taken a series of measures against U.S. interests this year from ending joint military exercises to expelling a naval aid unit to forcing a U.S.-funded pro-democracy group to leave. On Thursday, Hun Sen said he was suspending cooperation with Washington to find the remains of Americans killed in the Vietnam War. According to the U.S Embassy, more than 500 Peace Corps volunteers have served and worked in Cambodia since 2006, providing English teaching and teacher training as well as community health education.  U.S. President John F. Kennedy established the Peace Corps in 1961 to promote world peace and friendship. ",
         "worldnews",
         "September 15, 2017 "
        ],
        [
         "18",
         "1",
         "Australia to move 200 asylum seekers to new PNG detention center",
         "SYDNEY (Reuters) - Approximately two hundred men held in a remote Australian-run detention center will be moved to a new facility within weeks, the country s immigration minister said. Peter Dutton, Australia s immigration minister, said those men who have their refugee applications denied, ruling them ineligible for resettlement to the United States, and who are from countries such as Iran which precludes forced deportations, will be transferred to a new detention facility within Papua New Guinea (PNG) after Oct. 31.  Those people, who total about 200, who have been found not to be refugees are to be moved into an alternative place of detention away from the regional processing center,  Dutton told Australia s parliament. Dutton s comments mark the first insight into how Australia plans to manage the end of its policy of detaining asylum seekers in PNG, where 800 men are held, many of whom for four years. Canberra s hardline immigration policy requires asylum seekers intercepted at sea trying to reach Australia to be sent for processing at camps on PNG s Manus Island and on Nauru. They are told they will never be settled in Australia. Question marks remain, however, about the fate of the remaining men on Manus as a refugee swap deal with the United States stalls. Former U.S. President Barack Obama late last year agreed to resettle up to 1,250 asylum seekers held in Australian immigration centers in PNG and Nauru. In exchange, Australia agreed to take Central American refugees. Australia had hoped the men would have been resettled by Oct. 31 but with the swap deal stalling under President Trump after the U.S. hit it annual intake cap, Canberra is left seeking a solution. Australia s security contract with Spanish company Ferrovial SA will expire on Oct. 31, forcing the closure of the camp that has been subject to violence from locals.  PNG officials have sought to transfer the men to a transit center nearby but nearly all, citing fears of violence, have refused despite threats that it may rule them out of U.S. resettlement.  We are not willing to move from the center unless we are leaving for a country that is safe,  said one, who declined to be identified because of the fear it would jeopardize his application for U.S. resettlement. ",
         "worldnews",
         "September 15, 2017 "
        ],
        [
         "19",
         "1",
         "Japan PM says U.N. sanctions on North Korea must be firmly imposed",
         "TOKYO (Reuters) - Japanese Prime Minister Shinzo Abe said on Friday that United Nations sanctions on North Korea needed to be firmly imposed. Abe, speaking to reporters, said that the international community must send a clear message to North Korea over its provocative actions. North Korea fired a missile on Friday that flew over Japan s northern Hokkaido far out into the Pacific Ocean, South Korean and Japanese officials said, further ratcheting up tensions after Pyongyang s recent test of a powerful nuclear bomb. ",
         "worldnews",
         "September 15, 2017 "
        ],
        [
         "20",
         "1",
         "Brazil's Temer faces new graft charges over JBS testimony",
         "BRASILIA (Reuters) - Brazilian President Michel Temer was charged with obstruction of justice and racketeering on Thursday, according to a statement posted on the prosecutor general s office website, threatening to delay the government s economic reform agenda in Congress.    It is the second set of criminal charges filed against the president based on the plea-bargain testimony of the owners of the world s largest meatpacker, JBS SA. They accused Temer of taking bribes in return for political favors and of conspiring to buy the silence of a witness who could implicate the leader.  In a statement on Thursday, Temer strongly rejected all allegations of wrongdoing.  Temer s earlier corruption charge, that he took bribes from JBS officials, was blocked in August by Temer s allies in the lower house of Congress, which has the power to decide whether a president should stand trial by the Supreme Court. Despite the lower house s move to block the charges, they remain valid and can be pursued by prosecutors once Temer leaves office. His term ends on Jan. 1, 2019. Brazil s top public prosecutor Rodrigo Janot has also filed charges against Joesley Batista, the billionaire former chairman of JBS who implicated Temer. Batista was arrested on Sunday for concealing other crimes in his plea bargain deal. Batista s lawyer Antonio Carlos Kakay rejected the charges brought by Janot, arguing in a statement that the prosecutor had violated the rules of plea bargains by using his client s testimony to incriminate him. On Wednesday, Batista s brother Wesley, the chief executive officer of JBS SA, was also arrested for alleged insider trading to avoid hefty losses related to the May plea deal. Late on Thursday, Supreme Court Justice Edson Fachin converted Joesley and executive Ricardo Saud s temporary detentions into preventative detention and gave them 10 days to respond before ruling on Janot s request to withdraw their plea deal.   The arrests of the Batista brothers have improved Temer s prospects of surviving the new charges and serving out his term through 2018. Temer and his allies expect the new charges to be voted in the lower house next month with wider support than he obtained in the 263-227 vote last month blocking a trial. Fachin heeded a request from Temer s defense not to deliver the accusation to the lower house until after a supreme court plenary vote on the matter. The vote should be held before Wednesday. The allegations are part of Brazil s sprawling corruption probes that have resulted in ex-President Luiz Inacio Lula da Silva s conviction and four pending trials; investigations and charges implicating three former presidents and dozens of members of Congress; and guilty verdicts against well over 100 powerful business and political figures.      Most of the schemes involve political kickbacks in return for contracts at government-run enterprises or cheap loans from Brazil s state development bank.     The racketeering charge against Temer was based on the plea bargain testimony of L cio Funaro, a businessman who accused the president and his closest aides in the ruling PMDB party of operating a criminal organization to collect bribes in exchange for political influence.     The obstruction of justice charge was based on testimony by Joesley Batista that Temer endorsed payments of hush money to try to keep Funaro from talking.     A short legislative agenda ahead of an election year, the absence of public pressure to oust Temer and the lack of any convincing replacement for him are also likely to weigh in the president s favor.      Given the short timetable, the general public apathy and lack of a viable alternative, it is quite possible that Brasilia will continue to punt this down the road,  said Matthew Taylor, a professor at the American University in Washington. ",
         "worldnews",
         "September 14, 2017 "
        ],
        [
         "21",
         "1",
         "U.N. Security Council to meet on North Korea missile test on Friday",
         "UNITED NATIONS (Reuters) - The United Nations Security Council will meet at 3 p.m. EDT (1900 GMT) on Friday on the latest North Korea missile test, diplomats said, at the request of the United States and Japan.  North Korea fired a missile that flew over Japan s northern Hokkaido far out into the Pacific Ocean on Friday, South Korean and Japanese officials said, further ratcheting up tensions after Pyongyang s recent test of its most powerful nuclear bomb. The 15-member Security Council unanimously stepped up sanctions against North Korea on Monday over its Sept. 3 nuclear test, imposing a ban on the country s textile exports and capping imports of crude oil. It was the ninth U.N. sanctions resolution adopted on North Korea since 2006. ",
         "worldnews",
         "September 15, 2017 "
        ],
        [
         "22",
         "1",
         "Saviors or profiteers? Bangladesh fishermen rescue Rohingya, for a price",
         "SHAMLAPUR, Bangladesh (Reuters) - For tens of thousands of Rohingya Muslims, an informal fleet of small wooden fishing boats has meant deliverance from what they say is an indiscriminate assault on their villages by the Myanmar army. Deliverance, however, comes at a price. Some refugees told Reuters they paid as much as 10,000 taka ($122) per adult to boatmen to make the five-hour crossing from Myanmar s coast to ports in southern Bangladesh. While the fishermen say they have a moral obligation to help desperate fellow Muslims escaping persecution, Bangladeshi officials accuse them of profiteering. Ordered to stamp out what they call human trafficking, they have made arrests and even set fire to fishing boats.  Of course we want to keep going back to rescue more people. Our Muslim brothers and sisters are in a bad situation, so I have to go and bring them,  said Mohammed Alom, 25, a fisherman in the Bangladeshi village of Shamlapur. Around 400,000 Rohingya have arrived in Bangladesh in less than three weeks and people are still coming, by land as well as by sea, after attacks by Rohingya militants sparked a fierce counteroffensive by Myanmar s army. Senior United Nations officials have described the violence as  ethnic cleansing . The influx is placing huge strain on authorities in southern Bangladesh, one of the poorest parts of a poor country.  Don t say rescuers. The rescuers should be going and they should rescue people, not in terms of money,  said Lieutenant Colonel Ariful Islam, Border Guards Bangladesh commander in Teknaf on the country s southern tip, referring to the fishermen bringing refugees ashore.  These people are very poor, it s just extorting from them whatever they have. We are helping those who arrived, but we re trying to insist that no human trafficking should take place.  Reuters interviewed three Rohingya fishermen and two Bangladeshi boat owner-operators, all of whom had made at least two visits to Myanmar in recent weeks. The men didn t believe the profits they made detracted from what they saw as a rescue mission. Shaif Ullah, 34, a Bangladeshi, who co-owns a fishing boat, said he made 100,000 taka ($1,220) rescuing the family of a Rohingya in Malaysia who paid him via BKash, a popular mobile money service, after he returned to Bangladeshi shores.  People from Malaysia and Saudi Arabia call me and tell me to go there to get their family,  he said.  They are crying for my help. I take money from them, yes, but it s also a humanitarian act.   Two refugees have told Reuters their family members were detained by fishermen or brokers in Bangladesh when they could not pay for the journey. Several also complained they had to hand over gold and other jewelry to boat operators.  We had no chance to negotiate with the boatmen,  said Ali Johar, 75, an elder from his village in southern Maungdaw, just across the Naf river that forms the border between Myanmar and Bangladesh, now staying in Shamlapur. He handed over his wife s gold necklace and a gold ring, in addition to 7,000 taka for the rescue of him and about 30 members of his extended family, including young children, he said.  But we are grateful to the fishermen for bringing us here,  he said.  There were so many people trying to get here. If they didn t bring us, we would be stuck.  Pronay Chakma says it was a  stroke of fate  that thrust him into a key role in Bangladesh s response to the crisis. The 31-year-old administrator arrived in Teknaf to start a new job as sub-district assistant commissioner for land on Aug. 23, two days before northwestern Myanmar exploded into violence.  The thing is that, yes, the fishermen can go there, no problem, but if they demand money from the pain of stricken people, is it humanitarian? No,  he said. Chakma - a Buddhist member of the Chakma tribe who live scattered throughout South Asia - is an executive magistrate, which means he can hand down jail terms in simple criminal cases. He interrupted an interview with Reuters to sentence a man to three months for possession of five methamphetamine tablets. Chakma and another local official have sentenced at least 100 people to terms of up to six months for continuing to charge Rohingya refugees for ferrying them to safety.  Each and every time we are warning them,  he said.  Yes, you can do that, but not in exchange of money.  He pointed to the deaths of women and children who, unable to swim, have died after their boats capsized near Bangladeshi shores. Fishermen and local residents told Reuters that authorities have also broadcast messages in their villages by loudspeaker ordering them not to pick up Rohingyas. At least five boats caught bringing refugees in exchange for money have been set on fire on the beach by officials. The boatmen Reuters spoke to said they were cautious about operating in bad weather and rejected allegations of coercion or detaining refugees. Tens of thousands of people may still be waiting to cross the mouth of the Naf river, according to estimates by refugees, fishermen and rights groups.  I would like to go back to bring these people, because Muslims are suffering,  said Bangladeshi boat owner Moni Ullah, 38.  For me, it s hard to sit here and not go there, because I have seen so many people crying on the beach.  ($1 = 81.9300 taka) ",
         "worldnews",
         "September 15, 2017 "
        ],
        [
         "23",
         "1",
         "U.S. nuclear commander says assuming North Korea tested hydrogen bomb",
         "OFFUTT AIR FORCE BASE, Neb. (Reuters) - The U.S. general who oversees America s nuclear forces said on Thursday he was making the assumption that North Korea did in fact test a hydrogen bomb on Sept. 3, crossing a key threshold in its weapons development efforts.  Although Pyongyang immediately claimed it successfully tested a hydrogen bomb, the United States had previously declined to characterize it.  Air Force General John Hyten, head of the U.S. military s Strategic Command, however, said he had a responsibility, as a military officer responsible for responding to the test, to assume that it was a hydrogen bomb, based on the size of the blast.  I m assuming it was a hydrogen bomb. I have to make that assumption as a military officer,  Hyten told a small group of reporters who were accompanying Defense Secretary Jim Mattie on a trip to Hyten s headquarters in Nebraska.  I m not a nuclear scientist, so I can t tell you this is how it worked, this is what the bomb was. ... But I can tell you the size that we observed and saw tends to me to indicate that it was a hydrogen bomb and I have to figure out what the right response is with our allies as to that kind of event.  The North Korean nuclear test, its sixth and by far most powerful, prompted the U.N. Security Council to step up sanctions. It followed a series of North Korean missile tests, including one that flew over Japan and another that the U.S. assessed to be an inter-continental ballistic missile (ICBM). South Korea s military said shortly after Hyten s remarks that North Korea fired an unidentified missile eastward from the Sunan district in its capital, Pyongyang. A hydrogen bomb usually uses a primary atomic bomb to trigger a secondary, much larger explosion. Such a weapon, with the first stage based on nuclear fission - splitting atoms - and the second on nuclear fusion, produces a blast that is much more power than traditional atomic bombs, or  pure fission  devices.  The sheer destruction and damage that you can create with a weapon that size is significantly of a concern,  Hyten said. Hyten said that despite the nuclear and missile tests, North Korea still had not demonstrated that it had a reliable ICBM that could deliver a nuclear warhead.  But he noted it was only a matter of time before its scientists achieved that, given the pace of testing.  It s just a matter of when, not if,  he said, adding it could be months or years. Experts doubt that President Donald Trump, like his predecessors, will be able to force North Korea to abandon its nuclear program through economic or diplomatic pressure. Current and former U.S. officials have declined to comment on operational planning but acknowledge that no existing plan for a preemptive strike could promise to prevent a brutal counterattack by North Korea, which has thousands of artillery pieces and rockets trained on Seoul. That raises the question of whether the United States might be able to live with a nuclear-armed threat from North Korea. A senior Trump administration official, speaking to reporters last week on condition of anonymity, said it was unclear whether the Cold War-era deterrence model that Washington used with the Soviet Union could be applied to a rogue state like North Korea, adding:  I don t think the president wants to take that chance.  Hyten, who would command U.S. forces in a nuclear war, expressed confidence in the U.S. nuclear deterrent.  Do we have the ability to deter North Korea from developing capabilities that could potentially threaten us? That s a different question,  he said.  But do I, U.S. Strategic Command, have the ability for the United States to deter an adversary from attacking the United States with nuclear weapons? Yes. Because they know the response is going to be the destruction of their entire nation.  ",
         "worldnews",
         "September 14, 2017 "
        ],
        [
         "24",
         "1",
         "China, Russia must take direct action against North Korea: Tillerson",
         "WASHINGTON (Reuters) - U.S. Secretary of State Rex Tillerson on Thursday urged China and Russia to take direct action against North Korea in response to its latest missile launch.  China and Russia must indicate their intolerance for these reckless missile launches by taking direct actions of their own,  Tillerson said in a statement. He said China supplies North Korea with most of its oil and  Russia is the largest employer of North Korean forced labor.  ",
         "worldnews",
         "September 15, 2017 "
        ],
        [
         "25",
         "1",
         "South Korea condemns North Korea missile launch, says will boost response ability",
         "SEOUL (Reuters) - South Korea s foreign ministry on Friday strongly condemned North Korea s missile launch earlier in the day, calling it a serious act of defiance that threatens international peace and security. The ministry said in a statement that South Korea is fully prepared to respond against any North Korean threat and that it would boost its response ability against Pyongyang s provocations. It did not provide further details. ",
         "worldnews",
         "September 15, 2017 "
        ],
        [
         "26",
         "1",
         "U.N. seeks 'massive' help for Rohingya fleeing Myanmar 'ethnic cleansing'",
         "DHAKA/YANGON (Reuters) - The United Nations appealed on Thursday for massive help for nearly 400,000 Muslims from Myanmar who have fled to Bangladesh, with concern growing that the number could keep rising, unless Myanmar ends what critics denounce as  ethnic cleansing . The Rohingya are fleeing from a Myanmar military offensive in the western state of Rakhine that began after a series of guerrilla attacks on Aug. 25 on security posts and an army camp in which about a dozen people were killed.  We urge the international community to step up humanitarian support and come up with help,  Mohammed Abdiker, director of operations and emergencies for the International Organisation for Migration, told a news conference in the Bangladeshi capital. The need was  massive , he added. The violence in Rakhine and the exodus of refugees is the most pressing problem Nobel Peace laureate Aung San Suu Kyi has faced since becoming national leader last year. U.N. Secretary-General Antonio Guterres and the U.N. Security Council on Wednesday urged Myanmar to end the violence, which he said was best described as ethnic cleansing.       The government of Buddhist-majority Myanmar rejects such accusations, saying it is targeting  terrorists . Numerous Rohingya villages in the north of Rakhine have been torched but authorities have denied that security forces or Buddhist civilians set the fires. They blame the insurgents, and say 30,000 non-Muslim villagers were also displaced. Smoke was rising from at least five places on the Myanmar side of the border on Thursday, a Reuters reporter in Bangladesh said. It was not clear what was burning or who set the fires.  Ethnic cleansing  is not recognized as an independent crime under international law, the U.N. Office on Genocide Prevention says, but it has been used in U.N. resolutions and acknowledged in judgments and indictments of the International Criminal Tribunal for the former Yugoslavia. A U.N. panel of experts defined it as  rendering an area ethnically homogeneous by using force or intimidation to remove persons of given groups .       The crisis has raised questions about Suu Kyi s commitment to human rights, and could strain relations with Western backers supporting her leadership of Myanmar s transition from decades of strict military rule and economic isolation. Critics have called for her to be stripped of her Nobel prize for failing to do more to halt the strife, though national security remains firmly in the hands of the military. Suu Kyi is due to address the nation on Tuesday. U.S. Senate Majority Leader Mitch McConnell said on Thursday he had spoken with Suu Kyi and that she said she was working to get aid to areas affected by violence. U.S. Deputy Assistant Secretary of State Patrick Murphy had what one U.S. official called a  tough conversation  with Myanmar s ambassador to the United States on Wednesday ahead of Murphy s trip to Yangon this weekend. Murphy will be meeting with Myanmar government officials next week to voice concern about the state of the Rohingya people and to press for greater access for humanitarian workers and reporters, the State Department said. China, which competes with the United States for influence in Myanmar, endorses the offensive against the insurgents and deemed it an  internal affair , Myanmar state media said.  The counterattacks of Myanmar security forces against extremist terrorists and the government s undertakings to provide assistance to the people are strongly welcomed,  the Global New Light of Myanmar newspaper quoted China s ambassador, Hong Liang, as telling government officials. But at the United Nations in New York, China set a different tone, joining a Security Council expression of concern about reports of violence and urging steps to end it. The council met on Wednesday to discuss the crisis and later  expressed concern about reports of excessive violence ... and called for immediate steps to end the violence in Rakhine, de-escalate the situation, re-establish law and order, ensure the protection of civilians ... and resolve the refugee problem . This week, the Trump administration called for protection of civilians. Bangladesh says the refugees will have to go home and has called for safe zones in Myanmar. Myanmar says safe zones are unacceptable. The IOM s Abdiker declined to say how many refugees he thought might end up in Bangladesh.  The number may rise to 600,000, 700,000, even one million if the situation in Myanmar does not improve,  he said. The most important thing was that the refugees be able to go home safely, said George William Okoth-Obbo, assistant high commissioner for operations at the U.N. refugee agency.  The international community has to support to ensure their return ... peacefully and with safety,  he told the news conference. On Wednesday, the Myanmar government said 45 places had been burned. It did not provide details, but a spokesman said out of 471 villages in the north of Rakhine, 176 had been deserted and at least some people had left 34 more. The spokesman, Zaw Htay, said the people going to Bangladesh were either linked to the insurgents, or women and children fleeing conflict. Government figures show 432 people have been killed, most of them insurgents, since Aug. 25. ",
         "worldnews",
         "September 14, 2017 "
        ],
        [
         "27",
         "1",
         "Hurricane Max downgraded to tropical storm, moves inland over Mexico",
         "MEXICO CITY (Reuters) - Hurricane Max was downgraded to a tropical storm on Thursday evening, bearing down on a region with the popular tourist resorts of Acapulco, Zihuatanejo and Ixtapa.  Max s maximum sustained winds decreased to 70 miles per hour (113 km per hour) on Thursday evening, and the storm was about 80 miles (129 km) east of Acapulco, the National Hurricane Center in Florida said. The storm is expected to continue weakening dramatically as it moves inland over Southern Mexico, and it will likely be downgraded to a tropical depression on Thursday evening.  Nevertheless, the center warned of heavy rains and flooding in the coastal states of Guerrero and Oaxaca.  In the state of Guerrero, home to some of Mexico s major tourist resorts, Max could dump as much as 20 inches (51 cm) of rain in coastal areas, the NHC said, potentially triggering flash floods and mudslides.  The storm is bad news for Acapulco as tourists prepare to travel to the city to celebrate Mexico s Independence Day this weekend.  Meanwhile, tropical storm Norma formed in the Pacific on Thursday, according to the NHC. The storm, which is currently 360 miles (579 km) south of Cabo San Lucas, on the southern tip of the Baja California peninsula, could become a hurricane by late Friday.  Max arrives a week after a powerful 8.1-magnitude quake shook southern Mexico, destroying thousands of buildings in the state of Oaxaca and killing at least 98 people nationwide. ",
         "worldnews",
         "September 14, 2017 "
        ],
        [
         "28",
         "1",
         "North Korea launch put millions in Japan into 'duck and cover': Mattis",
         "OMAHA, Neb. (Reuters) - U.S. Defense Secretary Jim Mattis said on Thursday that North Korea s missile launch over Japan  put millions of Japanese into duck and cover  before it landed in the Pacific Ocean, and added that top U.S. officials had fully coordinated after the test-launch.  We have just got done with the calls we always make to coordinate among ourselves. Steady as she goes,  Mattis told reporters traveling with him during a visit to the U.S. Strategic Command, which oversees U.S. nuclear forces. ",
         "worldnews",
         "September 15, 2017 "
        ],
        [
         "29",
         "1",
         "Western powers press Iraq Kurd leaders to shelve 'very risky' independence vote",
         "ERBIL/KIRKUK, Iraq (Reuters) - The United States and Western allies pressed Iraqi Kurdish leaders to ditch a  very risky  independence vote on Thursday, presenting an alternative plan in an attempt to avoid conflict between the oil rich region and central government in Baghdad. The referendum, slated for Sept. 25, has become a potential flashpoint in the region, with Western powers concerned it could ignite conflict with Baghdad and divert attention from the war against Islamic State militants.  Heading into a referendum for Sept. 25, there is no prospect for international legitimacy,  Brett McGurk, a U.S. special envoy, told reporters after a delegation also including the U.N. and Britain met Kurdish President Massoud Barzani.  This is a very risky process.  McGurk said he was encouraged that Kurdish leaders could embrace an alternative plan focusing on dialogue between the Kurdistan region and Baghdad and a delay in the referendum. He refused to give details.  The Kurdish presidency said the autonomous region s political leaders would study the proposal, without giving details. But Barzani himself was later quoted by local media as telling a pro-independence rally the vote would go ahead on Sept. 25 as planned. The move came after Iraq s parliament voted to remove the governor of Kirkuk, a staunch supporter of Kurdish independence. Kirkuk Governor Najmaddin Kareem said he had no intention of following Baghdad s dismissal order, issued at the behest of Prime Minister Haider al-Abadi.  I will stay in office,  he told Reuters.  The referendum will go on as planned...The prime minister does not have the power to ask parliament to remove me.  Iraqi lawmakers authorized Abadi this week to  take all measures  to preserve national unity before the independence referendum.   Baghdad and Iraq s neighbors are opposed to the vote.      Iraqi lawmakers say it will consolidate Kurdish control over several disputed areas, including oil-rich Kirkuk. Turkey has the region s largest Kurdish population and fears a  Yes  vote could fuel separatism in its southeast where Kurdish militants have waged an insurgency for three decades in which more than 40,000 people have been killed. Iran and Syria also oppose the vote, fearing it could fan separatism among their own Kurdish populations. Iraqi lawmakers say the referendum will consolidate Kurdish control over several disputed areas, including oil-rich Kirkuk. Kirkuk province is claimed by both the central government in Baghdad and Barzani s semi-autonomous Kurdish region in northern Iraq. Kareem is a vocal supporter of the referendum and campaigned for the vote also to be held in Kirkuk. Kurds have long claimed Kirkuk and its huge oil reserves. They regard the city, just outside their Kurdistan region in northern Iraq, as their historical capital.  But the ethnically mixed city also has Arab and Turkmen populations. Kareem has long riled the federal government. Last spring, Kirkuk s governorate voted to raise the Kurdish flag over state buildings, despite Baghdad s insistence that only Iraq s national flag should fly in the multi-ethnic city.    He (Kareem) is an elected governor of the council of Kirkuk,  said Hoshyar Zebari, a close adviser to President Barzani.  That is the only body that can remove him.   The escalating tactics this week by the Iraqis are causing a large public backlash, and will strengthen the Kurdish referendum enormously,  Zebari said.  Kurdish MPs in Iraq s parliament boycotted Thursday s vote, which produced a majority for the governor s removal, lawmaker Husham al-Suhail told Reuters. Asked whether parliament had the right to dismiss Kareem, Suhail referred to an article of Iraq s provincial law, which  parliament used as the legal basis for the vote and which stipulates the prime minister s authority to remove a regional governor. Suhail gave no details about what Kareem was accused of and Kareem himself said he had not been informed.  This is unlawful ... I have the support of the government council, I have the support of the people, we are here and we will continue,  he said. ",
         "worldnews",
         "September 14, 2017 "
        ],
        [
         "30",
         "1",
         "Japan foreign minister thinks North Korea missile was ICBM: NHK",
         "TOKYO (Reuters) - Japanese Foreign Minister Taro Kono said he thinks the missile that North Korea fired on Friday was an intercontinental ballistic missile (ICBM), given its firing range, public broadcaster NHK reported. North Korea fired a missile on Friday that flew over Japan s northern Hokkaido far out into the Pacific Ocean, South Korean and Japanese officials said, further ratcheting up tensions after Pyongyang s recent test of a powerful nuclear bomb. ",
         "worldnews",
         "September 14, 2017 "
        ],
        [
         "31",
         "1",
         "Catalan independence campaign kicks off as Barcelona gives backing",
         "TARRAGONA, Spain (Reuters) - The Catalonian government on Thursday launched its official campaign for an independence referendum, which Madrid has declared illegal, buoyed by the support of the capital  Barcelona. Crowds filled a bull ring in the northeastern city of Tarragona, applauding and shouting  We will vote!  as regional president Carles Puigdemont arrived to rally support for the Oct. 1 vote. In a boost for the credibility of the referendum, the mayor of Barcelona said earlier on Thursday that the vote would go ahead in the city, having previously expressed concern that civil servants involved may lose their jobs. A town hall spokesman was unable to comment further or explain how civil servants could be protected.      Puigdemont himself is facing criminal charges of misuse of public money, disobedience and abuse of office for organizing the referendum, and prosecutors have summoned hundreds of the region s mayors for questioning.    Police raided a newspaper office and a printing press last week, looking for signs of preparation, and the regional court has ordered Civil Guard agents to shut down web pages providing information about the referendum.  Regional home affairs councillor Joaquim Forn said there was a bigger than usual presence of national police in Catalonia.  They are moving throughout the region. They must be looking for ballot boxes,  he told RAC1 radio. A majority of Catalonia s 5.5 million voters want to have their say on the northeastern region s relationship with Spain, but the independence cause has lost support in recent years and surveys indicate less than 50 percent of the population would choose full self-rule. ",
         "worldnews",
         "September 14, 2017 "
        ],
        [
         "32",
         "1",
         "Japan's Suga: government strongly protests latest N Korea missile launch",
         "TOKYO (Reuters) - North Korea fired a ballistic missile over Japan on Friday morning, Japan s government said, strongly protesting against what it called Pyongyang s latest intolerable provocation. The missile was launched at 6:57 a.m. Japan time (2157 GMT), flew over Hokkaido and splashed down at 7:16 a.m. (2216 GMT) some 2,000 kilometres east of the northern island s Cape Erimo, said Chief Cabinet Secretary Yoshihide Suga. Japan protests the latest launch in the strongest terms and will take appropriate and timely action at the United Nations and elsewhere, staying in close contact with the United States and South Korea, Suga told reporters. (In paragraph two, corrects time that missile splashed down.) ",
         "worldnews",
         "September 14, 2017 "
        ],
        [
         "33",
         "1",
         "Brazil's Temer says new graft charges part of 'irresponsible campaign'",
         "BRASILIA (Reuters) - Brazilian President Michel Temer, shortly after being hit with fresh graft charges on Thursday, said in a written statement that the nation s top prosecutor is on an  irresponsible campaign  of making allegations to cover his own failures.  Temer was charged by Prosecutor General Rodrigo Janot with obstruction of justice and racketeering based on the plea-bargain testimony of the owners of the world s largest meatpacker, JBS SA. They accused Temer of taking bribes in return for political favors and of conspiring to buy the silence of a witness who could implicate the president. ",
         "worldnews",
         "September 14, 2017 "
        ],
        [
         "34",
         "1",
         "North Korea threatens to 'sink' Japan, reduce U.S. to 'ashes and darkness'",
         "SEOUL/TOKYO (Reuters) - A North Korean state agency threatened on Thursday to use nuclear weapons to  sink  Japan and reduce the United States to  ashes and darkness  for supporting a U.N. Security Council resolution and sanctions over its latest nuclear test. The Korea Asia-Pacific Peace Committee, which handles the North s external ties and propaganda, also called for the breakup of the Security Council, which it called  a tool of evil  made up of  money-bribed  countries that move at the order of the United States.  The four islands of the archipelago should be sunken into the sea by the nuclear bomb of Juche. Japan is no longer needed to exist near us,  the committee said in a statement carried by the North s official KCNA news agency.   Juche is the North s ruling ideology that mixes Marxism and an extreme form of go-it-alone nationalism preached by state founder Kim Il Sung, the grandfather of the current leader, Kim Jong Un. Regional tension has risen markedly since the reclusive North conducted its sixth, and by far its most powerful, nuclear test on Sept. 3, following a series of missile tests, including one that flew over Japan. The 15-member Security Council voted unanimously on a U.S.-drafted resolution and a new round of sanctions on Monday in response, banning North Korea s textile exports that are the second largest only to coal and mineral, and capping fuel supplies. The North reacted to the latest action by the Security Council, which had the backing of veto-holding China and Russia, by reiterating threats to destroy the United States, Japan and South Korea.  Let s reduce the U.S. mainland into ashes and darkness. Let s vent our spite with mobilization of all retaliation means which have been prepared till now,  the statement said. Japan s Nikkei stock index and dollar/yen currency pared gains, although traders said that was more because of several Chinese economic indicators released on Thursday rather than a reaction to the North s latest statement. South Korea s won also edged down around the same time over domestic financial concerns. Despite the North s threats, South Korean President Moon Jae-in said he was against having nuclear weapons in his country, either by developing its own arsenal or bringing back U.S. tactical nuclear weapons that were withdrawn in the early 1990s.  To respond to North Korea by having our own nuclear weapons will not maintain peace on the Korean peninsula and could lead to a nuclear arms race in northeast Asia,  Moon said in an interview with CNN. South Korea s Unification Ministry also said it planned to provide $8 million through the U.N. World Food Programme and UNICEF to help infants and pregnant women in the North. The move marks Seoul s first humanitarian assistance for the North since its fourth nuclear test in January 2016 and is based on a longstanding policy of separating humanitarian aid from politics, the ministry said. The North s latest threats also singled out Japan for  dancing to the tune  of the United States, saying it should never be pardoned for not offering a sincere apology for its  never-to-be-condoned crimes against our people , an apparent reference to Japan s wartime aggression. It also referred to South Korea as  traitors and dogs  of the United States. Japan criticized the North s statement harshly.  This announcement is extremely provocative and egregious. It is something that markedly heightens regional tension and is absolutely unacceptable,  Japanese Chief Cabinet Secretary Yoshihide Suga told reporters. Japanese Prime Minister Shinzo Abe, visiting India, called for strict enforcement of the U.N. resolution, saying the world must force a change. The 15-member Security Council voted unanimously on a U.S.-drafted resolution and a new round of sanctions against North Korea on Monday in response to its latest and most powerful test, banning North Korea s textile exports that are the second largest only to coal and mineral, and capping fuel supplies. North Korea had already rejected the Security Council resolution, vowing to press ahead with its nuclear and missile programs. A tougher initial U.S. draft of Monday s resolution was weakened to win the support of China, the North s lone major ally, and Russia. Significantly, it stopped short of imposing a full embargo on oil exports to North Korea, most of which come from China. The latest sanctions also make it illegal for foreign firms to form commercial joint ventures with North Korean entities. U.S. President Donald Trump has vowed that North Korea will never be allowed to threaten the United States with a nuclear-tipped missile, but has also asked China to do more to rein in its neighbor. China in turn favors an international response to the problem. Chinese Foreign Ministry spokeswoman Hua Chunying said the international community had reached a  high consensus  on trying to realize a peaceful solution.  We urge the relevant directly involved parties to seize the opportunity and have the political nerve to make the correct political choice as soon as possible,  Hua told a regular press briefing. The North accuses the United States, which has 28,500 troops in South Korea, of planning to invade and regularly threatens to destroy it and its Asian allies. The United States and South Korea are technically still at war with North Korea because the 1950-53 Korean conflict ended with a truce and not a peace treaty. (For a graphic on North Korea's missile and nuclear tests, click tmsnrt.rs/2vXbj0S) ",
         "worldnews",
         "September 14, 2017 "
        ],
        [
         "35",
         "1",
         "Mexico accepts Israeli offer to help develop Central America",
         "MEXICO CITY (Reuters) - Mexico President Enrique Pena Nieto said on Thursday that his country had accepted Israel s offer to help it and the United States develop Central America, as Israel and Mexico seek to deepen business ties. Speaking at a news conference with Israeli Prime Minister Benjamin Netanyahu, Pena Nieto added that the two nations had agreed to update their free trade agreement, which was signed in 2000.  We have agreed to establish and begin the ... negotiations to look over this agreement so that the commercial relationship between both nations intensifies and grows,  he said. Netanyahu was joined by a business delegation including representatives from communications firm AudioCodes Ltd, cyber security firm Verint Systems Inc and Mer Group, which specializes in telecommunications and cyber security. In Central America, Pena Nieto said Israel s assistance could bolster the United States and Mexico s efforts in the region, particularly in Guatemala, El Salvador and Honduras. He noted that Israel brings experience from carrying out development projects in Africa. The United States and Mexico have been seeking to encourage investment in infrastructure improvements in Central America s so-called Northern Triangle in an effort to stem migration to the United States. Netanyahu s trip marked the first visit to Mexico by a sitting Israeli prime minister, Pena Nieto said. At the close of the news conference, Netanyahu invited Pena Nieto to Jerusalem. The relationship between the nations was strained earlier this year by a tweet in which Netanyahu appeared to praise U.S. President Donald Trump s plans to build a wall on the Mexican border. Israeli President Reuven Rivlin later issued a statement apologizing for any misunderstanding. ",
         "worldnews",
         "September 14, 2017 "
        ],
        [
         "36",
         "1",
         "U.S. extends some Iran sanctions relief under nuclear deal",
         "WASHINGTON (Reuters) - The United States on Thursday extended some sanctions relief for Iran under the 2015 nuclear deal but said it has yet to decide whether to preserve the deal itself, the State Department said. President Donald Trump, who must make a decision by mid-October that could undermine the agreement, said Iran is violating  the spirit  of the 2015 deal under which Iran got sanctions relief in return for curbing its nuclear program. In a sign of Trump s desire to put pressure on Iran, which denies violating the deal, the U.S. Treasury announced new cyber-related and other sanctions on seven Iranian individuals, two Iranian entities and two Ukraine-based entities.  We are not going to stand for what they are doing,  Trump told reporters on Air Force One. But he stopped short of saying whether he will refuse to recertify the agreement. Trump must decide in October whether to certify that Iran is complying with the agreement, known as the Joint Comprehensive Plan of Action (JCPOA). If he does not, Congress has 60 days to decide whether to reimpose sanctions waived under the deal. The prospect of Washington reneging on the agreement has worried some of the key U.S. allies that helped negotiate the deal, especially as the world grapples with another nuclear crisis, North Korea s nuclear and ballistic missile development. Republican Senator Bob Corker, who chairs the Senate Foreign Relations Committee and wrote the law giving Congress the right to review the Iran deal, said he and the White House were preparing in case of a change in policy. He also said he recognized the need to work with allies.  I think it s important that ... we take steps that, to the extent we can, we keep all of our allies together,  Corker told Reuters.  What you don t want to do is self-create a crisis for no reason. You want to make sure that you have an outcome here that is a good outcome for the United States and our interest.  Asked if it made sense to abandon the Iran nuclear deal given concerns about North Korea, Corker said,  I don t think you should prejudge what they re (the administration) going to do.  Separately, U.S. Secretary of State Rex Tillerson argued that the United States must consider the full threat it says Iran poses to the Middle East when formulating its new policy toward Tehran, saying Iran had breached the spirit of the deal.  We have to consider the totality of Iran s activities and not let our view be defined solely by the nuclear agreement,  he told a news conference in London. Citing the preface to the 2015 agreement, Tillerson said  in our view, Iran is clearly in default of these expectations.  He cited Iranian support for Syrian President Bashar al-Assad, its development of ballistic missiles and  cyber activities.  The deal s preface does not oblige Iran to promote global peace. Rather, it says the nations involved  anticipate that full implementation of this JCPOA will positively contribute to regional and international peace and security.  State Department spokeswoman Heather Nauert told reporters the administration had approved waivers of some sanctions on Iran to  maintain some flexibility  as it develops its Iran policy. She did not specify which sanctions were waived. Earlier, sources said the United States will renew a waiver of the most punitive sanctions on Iran. Tucked into Section 1245 of the 2012 National Defense Authorization Act, Washington threatened to sanction the banks of Iran s main oil customers if they did not significantly cut their purchases of Iranian crude. Under the law, these sanctions can be waived for a maximum of 120 days, forcing the U.S. government to revisit the issue every four months. Even as the administration waived the oil-related sanctions, the Treasury Department announced it had sanctioned 11 entities and individuals for  engaging in support of designated Iranian actors or malicious cyber-enabled activity.  Of the 11, seven were Iranian individuals, two were Iranian entities and two were entities based in Ukraine. The Treasury alleged they either supported Iran s ballistic missile program or its Quds Force, or engaged in cyber attacks against the U.S. financial system. The action freezes any assets they may hold in the United States and generally prohibits U.S. individuals from doing business with them. ",
         "worldnews",
         "September 14, 2017 "
        ],
        [
         "37",
         "1",
         "Brazil prosecutors seek to extend Batista detention, source says",
         "SAO PAULO (Reuters) - The Office of Brazil s Prosecutor-General Rodrigo Janot asked the Federal Supreme Court on Thursday to convert the temporary detention of billionaire beef tycoon Joesley Batista into preventative detention, a person with knowledge of the situation said. ",
         "worldnews",
         "September 14, 2017 "
        ],
        [
         "38",
         "1",
         "Myanmar faces 'defining moment', must stop the violence: U.S.",
         "LONDON (Reuters) - Myanmar is facing a  defining moment  and must stop the violence against its ethnic minority Rohingya population, U.S. Secretary of State Rex Tillerson said on Thursday. Attacks by Rohingya militants on security posts last month triggered an army operation that has killed more than 400 people, destroyed over 6,800 houses and sent nearly 400,000 Rohingya Muslims fleeing to Bangladesh. On a visit to London where he met British Prime Minister Theresa May and foreign minister, Boris Johnson, he told a news conference:  I think it is a defining moment in many ways for this new, emerging democracy.  He said he understood that Myanmar s Aung San Suu Kyi, a Nobel prize laureate and de facto head of the government in Myanmar, was in a power-sharing agreement with the military and the  complex situation  in which she found herself.  I think it is important that the global community speak out in support of what we all know the expectation is for the treatment of people regardless of their ethnicity,  he added.  This violence must stop, this persecution must stop.  ",
         "worldnews",
         "September 14, 2017 "
        ],
        [
         "39",
         "1",
         "U.S. citizen fighting for Islamic State surrenders in Syria: Pentagon",
         "WASHINGTON (Reuters) - An American citizen fighting for Islamic State in Syria surrendered to U.S-backed fighters earlier this week and has been handed over to U.S. forces, the Pentagon said on Thursday. The American surrendered to the Syrian Democratic Forces (SDF), a U.S.-backed alliance of mostly Arab and Kurdish fighters, on or around Sept. 12.  The US citizen is being legally detained by Department of Defense personnel as a known enemy combatant,  Pentagon spokesman Major Adrian Rankine-Galloway said in a statement. It is not the first time an American citizen fighting for the group has been detained by U.S. allies. In June, a Virginia man who traveled to Syria to become a suicide bomber for Islamic State was convicted of providing material support to the militant group. Mohamad Jamal Khweis, 27, spent about 2-1/2 months in early 2016 traveling with Islamic State fighters in Syria and Iraq and participating in the group s religious training. He was detained by Kurdish peshmerga forces in northern Iraq in March 2016 and turned over to U.S. authorities. ",
         "worldnews",
         "September 14, 2017 "
        ],
        [
         "40",
         "1",
         "U.S. calls on China to use 'powerful tool' of oil to sway North Korea",
         "LONDON (Reuters) - U.S. Secretary of State Rex Tillerson said on Thursday he was hopeful that China would come to its own decision to decide to use the  powerful tool  of oil supplies to persuade North Korea to reconsider its  current path . On a visit to London where he met British Prime Minister Theresa May and foreign minister, Boris Johnson, Tillerson said the United States had wanted to see a much stronger resolution from the United Nations which agreed a new round of sanctions on Monday.  It s clear that with respect to oil, and a complete embargo on oil from the U.N. Security Council, that s going to be very difficult,  he said.  In effect, that is directed at China alone because China supplies essentially all of North Korea s oil,  he told a joint news conference with Johnson.  I am hopeful that China, as a great country, a world power, will decide on their own, will take it upon themselves to use that very powerful tool of oil supply to persuade North Korea to reconsider its current path toward weapons development, reconsider its approach to dialogue and negotiations in the future.  ",
         "worldnews",
         "September 14, 2017 "
        ],
        [
         "41",
         "1",
         "Irma creates bittersweet travel bonus for luckier Caribbean islands",
         "(Reuters) - On Friday, a cruise ship carrying around 3,000 passengers will dock at St. John s harbor in the Caribbean island of Antigua. It will not be where the passengers expected to land when they booked, however. The Carnival Plc ship was meant to dock in Saint Martin, 100 miles (160 km) to the northwest. However, Hurricane Irma devastated the island, wrecking its port and infrastructure, and leaving it out of bounds for tourists. Antiguan officials now expect the Carnival Fascination to visit every Friday, and have gotten about 25 calls from major cruise lines such as Royal Caribbean Cruises Ltd and Norwegian Cruise Lines looking to make stops through the end of the year. For Asot Michael, Antigua and Barbuda s minister for tourism, the unexpected arrival of thousands of tourists is a bittersweet bonus.  We are going to be benefiting. I don t want to benefit from others  misfortune after such a disaster,  Michael said.  But because the port is so damaged in Saint Martin, so damaged in Tortola in the British Virgin Islands, we re getting some of those cancellations. Those cruise lines now are making ports of call into Antigua.      Hurricane Irma left behind a stark divide in the Caribbean ahead of the winter tourism season that is the region s economic lifeblood. As travel to the region picks up again, cruise lines, hotels, airlines and other companies are directing customers to places that are able to host them, and away from the worst-hit areas.  Popular winter vacation spots such as Saint Martin, the British Virgin Islands and Saint Barthelemy that were devastated by the storm could be sidelined for weeks or months.  In 2016, 29.3 million tourists visited the Caribbean and spent $35.5 billion, both new records, according to the Caribbean Tourism Organization.   For Saint Martin and Saint Bart, the holiday season looks very compromised,  said Jean-Pierre Mas, chairman of French travel agency federation SNAV.  My sentiment is that the winter season is lost. Decisions to book for the winter season are taken right now.   Busy tourist destinations in the western Caribbean, such as Barbados and Trinidad, were well away from the path of the storm. Cozumel, on Mexico s Gulf Coast, got four additional visits this week as ships were rerouted to avoid the storm s impact, although Cozumel tourism officials said three cruises were canceled.  Florida, which was anticipating another record year for its $100 billion a year tourism industry, is expected to rebound in time for the peak winter travel months, Moody s Analytics said earlier this week. Walt Disney Co reopened its Orlando Disney World theme park on Sept. 12. The Florida Keys, however, wrestled with more severe storm damage. [nL2N1LR0N1] [nF9N1L0029] [nL2N1LS1HW] Some travel companies said they are still assessing the situation and had not made firm decisions about rerouting ships. Tour operator Virgin Holidays said that it was beginning to return to regular operations in Antigua, despite damage to some properties on the island.  Antigua wasn t as badly damaged as we feared, and we have reopened tourism there, although three resorts are currently not on sale because of the damage,  a spokesman for Virgin Atlantic said.  Barbados, Trinidad and Tobago, St. Lucia are three big tourist examples that were not impacted.  However, the small island of Saint Martin, which France shares with the Netherlands, could miss out on much of its tourism season. French President Emmanuel Macron on Wednesday vowed to swiftly rebuild the islands of the French Caribbean, including Saint Martin, and a French public reinsurance body estimated a cost of at least 1.2 billion euros ($1.4 billion) from the damage there and in Saint Barthelemy. [nL2N1LT1SF] [nL5N1LQ09G] Hurricane Irma badly damaged many hotels on the island, such as AccorHotels Mercure hotel. A spokeswoman for Accor said that while nobody had been hurt, the hotel would be closed until Jan. 8 at least.  While 70 hotel rooms remain operational, they are being used to house military forces and other staff that are supporting the relief effort. AccorHotels is offering cancellation and reimbursement for those who had booked stays at the hotel. ",
         "worldnews",
         "September 14, 2017 "
        ],
        [
         "42",
         "1",
         "Irma shakes Havana's deadly crumbling buildings",
         "HAVANA (Reuters) - Roydis Vald s  dilapidated home on Animas Street in the densely packed center of Old Havana had been declared uninhabitable by Cuba s Communist authorities years ago, his neighbors said. After Hurricane Irma shook the Cuban capital - a crumbling architectural jewel of the Caribbean - Vald s and his brother  were found under a collapsed wall, just two of the seven people killed by falling buildings on the island. Havana s historic center, where baroque Spanish colonial-era palaces butt shoulders with sleek Art Deco apartment buildings, was already crumbling before it took a lashing from Irma - a visible reminder of the hardship caused by a 57-year U.S. trade embargo.  Residents fear the violent storm - the worst to hit the Cuban mainland since 1932 - will accelerate the city s decline. While the eye of the hurricane did not reach the capital, tropical-storm force winds and heavy rains of its outer bands, as well as a storm surge, wrought havoc on its decrepit buildings. Salty water from Irma s heavy rains that has seeped into the brick and mortar of the capital s buildings will worsen corrosion and likely cause a raft of new collapses, residents and architects warn.  Now when the sun comes out, that s when things will really start to fall apart in Havana,  said Berta Rodriguez, a 71-year-old pensioner who lives on Animas Street and knew Vald s and his brother well.  We spent years asking the state to remove them from there,  she said, crying.  The state has to answer for this.      Irma has shone an unwelcome spotlight on the Caribbean nation s housing problems at a tricky time for the government. Already dealing with a cash crunch in the wake of a steep decline in aid from its key ally, Venezuela, Cuba also faces a political transition as President Raul Castro steps down next year, symbolizing the passing of the baton from the generation that led the 1959 Revolution. Rodriguez, who evacuated to her son s sturdier home during the hurricane, says she has been asking the Communist authorities for a new home for more than 20 years, echoing the frustrations of many Havana residents. After the Revolution led by Raul Castro s elder brother Fidel, the Cuban state confiscated many of Havana s grand historic buildings and distributed them to poor and middle-class families who over the years have divided them into ever-smaller units. Maintaining those buildings in a punishing tropical climate, however, fell by the wayside as the Communist government prioritized universal healthcare and education, as well as building infrastructure in the impoverished countryside. With state salaries averaging $30 per month and credit hard to get, Cubans say they do not have the money to fix up buildings themselves.  A builder told me I need to repair the walls that are full of holes, but I couldn t find the cash,  said Rodriguez, who suffers from chronic bronchitis made worse by her badly leaking ceiling. About 4,400 cases of damage to housing were reported in the capital due to Irma, state-run media said on Thursday. Of those, authorities confirmed nearly 1,200 buildings were entirely or partially destroyed. The city is working on restoring damaged roofs and preparing two shelters for families left homeless, the newspaper Granma added. But this will solve only part of a far greater problem. The housing deficit in the nation of 11 million people rose last year by 30,000 to nearly 900,000 units, the government told parliament in July.  In Havana, it estimated a shortage of more than 200,000 homes. The state had built 316,595 homes between 1990 and 2013, an effort that the president of the Construction Commission Santiago Lajes Choy told parliament was still  insufficient.  Litza Penalver, whose sister s family lives in the building on Animas street partially destroyed by Irma, said authorities want to get residents out now.   They want to demolish it, to cover up their errors,  she said.  They want to oblige us to stay in a large shelter and wait (for a new house) but the wait can last 30 years - Cuba doesn t have the resources.  Many Havana residents say they would prefer to stay in their decrepit homes, no matter how dangerous, rather than move to large shelters that offer no privacy. Still, with the rainy season ongoing, many worry that more hurricanes could hit before it ends in November.  While Irma has exacerbated frustration with Cuba s housing problems, even dissidents say it is unlikely to fuel outright opposition to the government.  There might be more spontaneous, isolated expressions of discontent,  said Jose Daniel Ferrer, leader of the Patriotic Union of Cuba (UNPACU), one of the island s largest dissident groups.  But not organized protests with clear political aims given the high level of repression at the moment.  Rodriguez, Penalver and others on Animas Street said theirs was not a political problem and noted they were strong supporters of the Revolution that toppled right-wing dictator Fulgencio Batista in 1959 and subsequently provided free healthcare and education to ordinary Cubans.  I love my country,  said Penalver, adding she had a Spanish passport but chose to live in Cuba.  I m not looking for political problems. I m looking for solution to the housing issue.  ",
         "worldnews",
         "September 14, 2017 "
        ],
        [
         "43",
         "1",
         "Hostile same-sex marriage vote spurs Australia to amend anti-hate law",
         " (In this Sept. 13 story, corrects definition of intersex in paragraph 5.) SYDNEY (Reuters) - The alarming volume of hate-speech during Australia s ballot over whether to legalize same-sex marriage spurred parliament  to pass emergency legislation on Wednesday to outlaw opponents spewing their vitriol while the vote was in progress. Australia began a non-compulsory postal vote on Tuesday that will determine whether it becomes the 25th country to legalize same-sex marriage. But with an emotionally charged campaign raising concerns about the welfare of vulnerable Australians, the government moved to strengthen laws preventing hate-speech. The opposition Labor Party supported the amendment, though it had rejected the need for a ballot on the issue. Until voting ends on November 7, anyone found guilty of intimidation, or threats to cause harm on the basis of the sexual orientation, gender identity, intersex status - people who are born with genetic, hormonal or physical sex characteristics that are not typically male or female - or the religious convictions of someone will be liable to fines of A$12,500 (over $10,000) and a court injunction.  This bill cannot stop all of the hurt, all of the prejudice that is being expressed, all of the lack of acceptance that is being communicated to LGBTI Australians, to same-sex couple families. But it provides limited protections,  said Penny Wong, leader of the opposition in the senate. ",
         "worldnews",
         "September 13, 2017 "
        ],
        [
         "44",
         "1",
         "U.S. must consider broader Iran threats when formulating new strategy:  Tillerson",
         "LONDON (Reuters) - The United States must consider the full threat it says Iran poses to the Middle East when formulating its new policy toward Tehran, U.S. Secretary of State Rex Tillerson said on Thursday, adding that Iran had breached the spirit of a 2015 nuclear deal.  Tillerson, made the comments during a visit to Britain to see Prime Minister Theresa May and foreign minister Boris Johnson. The trip was billed as focusing on the relief effort after Hurricane Irma, how to respond to North Korea s nuclear test, and resolving the political deadlock in Libya. But he was outspoken in his criticism of Iran when asked whether he believed it was meeting the obligations of a 2015 international nuclear agreement designed to curb an Iranian nuclear program in return for lifting most Western sanctions. Tillerson cited the preface of the nuclear deal, which calls on Iran to contribute positively to regional security.   In our view, Iran is clearly in default of these expectations ... through their actions to prop up the Assad regime (in Syria), to engage in malicious activities in the region, including cyber activities, aggressively developing ballistic missiles,  he told a news conference.  We have to consider the totality of Iran s activities and not let our view be defined solely by the nuclear agreement.  He was speaking before the United States announced it had imposed sanctions on seven Iranian individuals and two entities, alleging involvement in either malicious cyber activities or enabling Tehran s ballistic missile program. U.S. President Donald Trump has previously expressed doubts about the nuclear deal, and in April his administration said it would review whether the lifting of sanctions against Iran was in the United States  national security interest. Trump is weighing a strategy that could allow more aggressive U.S. responses to Iran s forces, its Shi ite Muslim proxies in Iraq and Syria, and its support for militant groups. Earlier on Thursday, a North Korean state agency threatened to reduce the United States to  ashes and darkness  for supporting a U.N. Security Council resolution and sanctions over its latest nuclear test. Tillerson said he was hopeful that China would decide to use the  powerful tool  of oil supplies to put pressure on Pyongyang, but conceded that it would be difficult to agree an oil embargo through the United Nations Security Council. North Korea carried out its sixth and largest nuclear test earlier this month.  I am hopeful that China, as a great country, a world power, will decide on their own, will take it upon themselves to use that very powerful tool of oil supply to persuade North Korea to reconsider its current path towards weapons development, reconsider its approach to dialogue and negotiations in the future,  he said. Commenting on violence in Myanmar against the minority Rohingya population, Tillerson said the country faced a defining moment.  I think it is important that the global community speak out in support of what we all know the expectation is for the treatment of people regardless of their ethnicity,  he added.  This violence must stop, this persecution must stop.  He said he understood that Myanmar s Aung San Suu Kyi, a Nobel prize laureate and de facto head of the government in Myanmar, was in a power-sharing agreement with the military and it was a  complex situation  in which she found herself. (Corrects seventh paragraph to say ballistic missile program, not nuclear program.) ",
         "worldnews",
         "September 14, 2017 "
        ],
        [
         "45",
         "1",
         "Yemen's Houthi leader says could target Saudi oil tankers if Hodeidah attacked",
         "DUBAI (Reuters) - Yemen s Houthi leader Abdel-Malek al-Houthi said on Thursday his group could target Saudi oil tankers should Saudi Arabia attack Yemen s main port at Hodeidah.   We could target Saudi oil tankers and we could do anything,  he said.  In a televised speech, the leader also said his group s ballistic missiles were capable of reaching the United Arab Emirates  capital of Abu Dhabi and anywhere inside Saudi Arabia.  It was unclear whether the Houthi group has the capability to carry out its threats. Abdel Malek said the Houthis had successfully fired a missile at Abu Dhabi earlier this month, meaning the United Arab Emirates was no longer safe from attack. He gave no further details and there has been no indication by the UAE of any missiles landing on their territory.  UAE Minister of State for Foreign Affairs Anwar Gargash said on Twitter his country was not intimidated by Houthi threats.  The Houthis  comments threatening the UAE and its capital are tangible proof of the need for the Decisive Storm (operation),  Gargash said, referring to the Saudi-led coalition intervening in Yemen.  Iran s militias have vile objectives and represent a real threat,  he added. Yemen has been devastated by more than two years of civil war in which President Abd Rabu Hadi s government, backed by the coalition, is fighting to drive the Iran-allied Houthis out of cities they seized in 2014 and 2015 in a rapid rise to national power.  Today the port of Hodeidah is being threatened and we cannot turn a blind eye to that,  Abdel-Malek said.   If the Saudi regime and with a green light from the U.S. attack Hodeidah then we have to take steps that we haven t taken before.   The United Nations had proposed that the Red Sea port of Hodeidah, where 80 percent of food imports arrive, should be handed to a neutral party, to smooth the flow of humanitarian relief and prevent the port being engulfed by Yemen s two-year-old war. The government of President Abd-Rabbu Mansour Hadi accuses the Houthis of using the port to smuggle in weapons and of collecting custom duties on goods, which they use to finance the war. The Houthis deny this. ",
         "worldnews",
         "September 14, 2017 "
        ],
        [
         "46",
         "1",
         "Kremlin accuses West of 'whipping up hysteria' over Russian war games",
         "MOSCOW (Reuters) - Russia accused the West on Thursday of  whipping up hysteria  over large-scale military exercises underway in eastern Europe and denied charges that they were being conducted with a lack of transparency. The exercises, codenamed \"Zapad\", or \"West\", started on Thursday and will last until Sept. 20. They are being conducted  on military ranges in Belarus, western Russia, Russia's exclave of Kaliningrad and in the Baltic Sea. (For graphic, click tmsnrt.rs/2iIkjEU)  We reject complaints of these exercises not being transparent,  Kremlin spokesman Dmitry Peskov told a conference call with reporters.  We believe that whipping up hysteria around these exercises is a provocation.   It is a normal practice for any country to hold such exercises. Everything is being held in line with international law,  Peskov said. Russian President Vladimir Putin may visit one of the stages of these drills, he said.     NATO is closely watching the exercises and says they are larger than the 12,700 servicemen Moscow has publicized, actually numbering some 100,000 troops, and involve firing nuclear-capable ballistic missiles. Russia s defense ministry reiterated on Thursday that the exercises are of a purely defensive nature and are not a threat to any third country or group of countries. But NATO officials say the drills will simulate a conflict with the U.S.-led alliance intended to show Russia s ability to mass large numbers of troops at short notice in the event of a conflict. In a statement, the Pentagon said that while Russia and Belarus had taken some steps towards providing transparency, there were concerns about the official estimate of troop numbers.  We urge Russia to share information regarding its exercises and operations in NATO s vicinity to clearly convey its intentions and minimize any misunderstandings,  Lieutenant Colonel Michelle Baldanza, a Pentagon spokeswoman, said in a statement.   In response to this uncertainty, the U.S. has built a joint, persistent rotational presence of air, land, and sea presence in the region to support our Allies,  she added. Amid allegations about Moscow s aggressive ambitions from its post-communist neighbors, Russia s defense ministry has said that it does not intend to use the drills as a springboard to attack Lithuania, Poland or Ukraine. Moscow says it is the West that threatens stability in eastern Europe, because NATO has put a 4,000-strong multinational force in the Baltics and Poland. Russia s defense ministry said the current drills involve some 7,200 troops from Belarus and 5,500 from Russia, up to 70 aircraft and helicopters, up to 680 units of military hardware, including 250 tanks, up to 200 artillery pieces, multiple rocket launchers and mortars, and up to 10 warships.  ",
         "worldnews",
         "September 14, 2017 "
        ],
        [
         "47",
         "1",
         "Head of Russian general staff reassures NATO over war games: RIA",
         "MOSCOW (Reuters) - General Valery Gerasimov, the chief of Russia s general staff, told Curtis Scaparrotti, a U.S general who is NATO Supreme Allied Commander in Europe, that Moscow s latest military exercise was purely defensive, the RIA news agency reported. RIA said that Gerasimov was referring to the exercise, codenamed  Zapad , or  West , which began on Thursday and will last until Sept. 20. It is being conducted on military ranges in Belarus, western Russia, Russia s exclave of Kaliningrad and in the Baltic Sea. NATO is closely watching the exercises and says they are larger than the 12,700 servicemen Moscow has publicized, actually numbering some 100,000 troops, and involve firing nuclear-capable ballistic missiles. ",
         "worldnews",
         "September 14, 2017 "
        ],
        [
         "48",
         "1",
         "Toll of U.S. staff hurt in mysterious Cuba incidents now 21: official",
         "WASHINGTON (Reuters) - U.S. officials are aggressively investigating what caused symptoms ranging from hearing loss to mild brain injury in 21 people linked to the U.S. Embassy in Cuba, a State Department official said on Thursday. Spokeswoman Heather Nauert told a briefing that no new incidents had been reported since late August but testing continued, with 21 people saying they had been injured in what some media accounts have called an  acoustic attack.   We are, at the State Department, very deeply concerned about what has taken place and what has happened to our American personnel who have been serving at our embassy in Cuba,  Nauert said.  This has certainly turned out to be a difficult situation for some of our people.  The incidents, which began in late 2016, were first confirmed by a U.S. official in August. Nauert said at that time 16 people had been injured. Some of those had returned home for testing and treatment, Nauert said, while others had been tested in Cuba, where the embassy has a fulltime medical officer. News media have reported that Americans and Canadians working in Cuba have been diagnosed with hearing loss, nausea, headaches, balance disorders and conditions as serious as mild traumatic brain injury and damage to the central nervous system.  The investigation into all of this is still underway. It is an aggressive investigation that continues and we will continue doing this until we find out who or what is responsible for this,  Nauert said. She said U.S. diplomatic security personnel had been able to look through the rooms of some of those injured and conducted searches but still had not determined the cause of the injuries. Nauert said people were still being tested and it was possible the number of injured personnel would rise. ",
         "worldnews",
         "September 14, 2017 "
        ],
        [
         "49",
         "1",
         "Fearing Russia, Sweden holds biggest war games in 20 years",
         "GOTHENBURG, Sweden (Reuters) - Neutral Sweden has launched its biggest war games in two decades with support from NATO countries, drilling 19,000 troops after years of spending cuts that have left the country fearful of Russia s growing military strength. On the eve of Russia s biggest maneuvers since 2013, which NATO says will be greater than the 13,000 troops Moscow says are involved, Sweden will simulate an attack from the east on the Baltic island of Gotland, near the Swedish mainland.  The security situation has taken a turn for the worse,  Micael Byden, the commander of the Swedish Armed Forces, said during a presentation of the three-week-long exercise.  Sweden, like the Baltics, Poland and much of the West, has been deeply troubled by Russia s 2014 annexation of Ukraine s Black Sea peninsula Crimea and its support for rebels in eastern Ukraine.   Russia is the country that affects security in Europe right now with its actions - the annexation of the Crimea and continued battles in eastern Ukraine - so it is clear that we are watching very closely what Russia is doing,  Byden said.  Around 1,500 troops from the United States, France, Norway and other NATO allies are taking part in the exercise dubbed Aurora. Non-NATO member Sweden has decided to beef up its military after having let spending drop from over 2 percent of economic output in the early 1990s to around 1 percent, and is re-introducing conscription. The armed forces, which at one point could mobilise more than 600,000, stand at just 20,000, with 22,000 more Home Guard volunteers.   NATO generals say the Aurora exercise is not a response to Russian exercises that start on Thursday. But Byden, speaking as U.S. and French forces displayed mobile surface-to-air missile systems to be deployed during the exercise, stressed the importance of NATO for Sweden.   We are a sovereign country that takes care of and is responsible for our safety. We do this together with others, ready to both support and receive help,  he said. The United States shipped vehicles by sea from Germany, while France brought others by train. They are to be moved via a classified route to Sweden s east coast for the exercise where U.S. attack helicopters will play the enemy during Aurora.  The government is determined to stick to the country s formal neutrality. Sweden has not fought a war since it clashed with Norway in 1814. But like its non-NATO neighbor Finland, Sweden has been drawing closer to NATO, allowing closer cooperation with alliance troops, with a view to working together in the event of an armed conflict. ",
         "worldnews",
         "September 13, 2017 "
        ]
       ],
       "shape": {
        "columns": 5,
        "rows": 4956
       }
      },
      "text/html": [
       "<div>\n",
       "<style scoped>\n",
       "    .dataframe tbody tr th:only-of-type {\n",
       "        vertical-align: middle;\n",
       "    }\n",
       "\n",
       "    .dataframe tbody tr th {\n",
       "        vertical-align: top;\n",
       "    }\n",
       "\n",
       "    .dataframe thead th {\n",
       "        text-align: right;\n",
       "    }\n",
       "</style>\n",
       "<table border=\"1\" class=\"dataframe\">\n",
       "  <thead>\n",
       "    <tr style=\"text-align: right;\">\n",
       "      <th></th>\n",
       "      <th>label</th>\n",
       "      <th>title</th>\n",
       "      <th>text</th>\n",
       "      <th>subject</th>\n",
       "      <th>date</th>\n",
       "    </tr>\n",
       "  </thead>\n",
       "  <tbody>\n",
       "    <tr>\n",
       "      <th>0</th>\n",
       "      <td>1</td>\n",
       "      <td>UK's May 'receiving regular updates' on London...</td>\n",
       "      <td>LONDON (Reuters) - British Prime Minister Ther...</td>\n",
       "      <td>worldnews</td>\n",
       "      <td>September 15, 2017</td>\n",
       "    </tr>\n",
       "    <tr>\n",
       "      <th>1</th>\n",
       "      <td>1</td>\n",
       "      <td>UK transport police leading investigation of L...</td>\n",
       "      <td>LONDON (Reuters) - British counter-terrorism p...</td>\n",
       "      <td>worldnews</td>\n",
       "      <td>September 15, 2017</td>\n",
       "    </tr>\n",
       "    <tr>\n",
       "      <th>2</th>\n",
       "      <td>1</td>\n",
       "      <td>Pacific nations crack down on North Korean shi...</td>\n",
       "      <td>WELLINGTON (Reuters) - South Pacific island na...</td>\n",
       "      <td>worldnews</td>\n",
       "      <td>September 15, 2017</td>\n",
       "    </tr>\n",
       "    <tr>\n",
       "      <th>3</th>\n",
       "      <td>1</td>\n",
       "      <td>Three suspected al Qaeda militants killed in Y...</td>\n",
       "      <td>ADEN, Yemen (Reuters) - Three suspected al Qae...</td>\n",
       "      <td>worldnews</td>\n",
       "      <td>September 15, 2017</td>\n",
       "    </tr>\n",
       "    <tr>\n",
       "      <th>4</th>\n",
       "      <td>1</td>\n",
       "      <td>Chinese academics prod Beijing to consider Nor...</td>\n",
       "      <td>BEIJING (Reuters) - Chinese academics are publ...</td>\n",
       "      <td>worldnews</td>\n",
       "      <td>September 15, 2017</td>\n",
       "    </tr>\n",
       "    <tr>\n",
       "      <th>...</th>\n",
       "      <td>...</td>\n",
       "      <td>...</td>\n",
       "      <td>...</td>\n",
       "      <td>...</td>\n",
       "      <td>...</td>\n",
       "    </tr>\n",
       "    <tr>\n",
       "      <th>4951</th>\n",
       "      <td>0</td>\n",
       "      <td>McPain: John McCain Furious That Iran Treated ...</td>\n",
       "      <td>21st Century Wire says As 21WIRE reported earl...</td>\n",
       "      <td>Middle-east</td>\n",
       "      <td>January 16, 2016</td>\n",
       "    </tr>\n",
       "    <tr>\n",
       "      <th>4952</th>\n",
       "      <td>1</td>\n",
       "      <td>JUSTICE? Yahoo Settles E-mail Privacy Class-ac...</td>\n",
       "      <td>21st Century Wire says It s a familiar theme. ...</td>\n",
       "      <td>Middle-east</td>\n",
       "      <td>January 16, 2016</td>\n",
       "    </tr>\n",
       "    <tr>\n",
       "      <th>4953</th>\n",
       "      <td>1</td>\n",
       "      <td>Sunnistan: US and Allied ‘Safe Zone’ Plan to T...</td>\n",
       "      <td>Patrick Henningsen  21st Century WireRemember ...</td>\n",
       "      <td>Middle-east</td>\n",
       "      <td>January 15, 2016</td>\n",
       "    </tr>\n",
       "    <tr>\n",
       "      <th>4954</th>\n",
       "      <td>0</td>\n",
       "      <td>How to Blow $700 Million: Al Jazeera America F...</td>\n",
       "      <td>21st Century Wire says Al Jazeera America will...</td>\n",
       "      <td>Middle-east</td>\n",
       "      <td>January 14, 2016</td>\n",
       "    </tr>\n",
       "    <tr>\n",
       "      <th>4955</th>\n",
       "      <td>1</td>\n",
       "      <td>10 U.S. Navy Sailors Held by Iranian Military ...</td>\n",
       "      <td>21st Century Wire says As 21WIRE predicted in ...</td>\n",
       "      <td>Middle-east</td>\n",
       "      <td>January 12, 2016</td>\n",
       "    </tr>\n",
       "  </tbody>\n",
       "</table>\n",
       "<p>4956 rows × 5 columns</p>\n",
       "</div>"
      ],
      "text/plain": [
       "      label                                              title  \\\n",
       "0         1  UK's May 'receiving regular updates' on London...   \n",
       "1         1  UK transport police leading investigation of L...   \n",
       "2         1  Pacific nations crack down on North Korean shi...   \n",
       "3         1  Three suspected al Qaeda militants killed in Y...   \n",
       "4         1  Chinese academics prod Beijing to consider Nor...   \n",
       "...     ...                                                ...   \n",
       "4951      0  McPain: John McCain Furious That Iran Treated ...   \n",
       "4952      1  JUSTICE? Yahoo Settles E-mail Privacy Class-ac...   \n",
       "4953      1  Sunnistan: US and Allied ‘Safe Zone’ Plan to T...   \n",
       "4954      0  How to Blow $700 Million: Al Jazeera America F...   \n",
       "4955      1  10 U.S. Navy Sailors Held by Iranian Military ...   \n",
       "\n",
       "                                                   text      subject  \\\n",
       "0     LONDON (Reuters) - British Prime Minister Ther...    worldnews   \n",
       "1     LONDON (Reuters) - British counter-terrorism p...    worldnews   \n",
       "2     WELLINGTON (Reuters) - South Pacific island na...    worldnews   \n",
       "3     ADEN, Yemen (Reuters) - Three suspected al Qae...    worldnews   \n",
       "4     BEIJING (Reuters) - Chinese academics are publ...    worldnews   \n",
       "...                                                 ...          ...   \n",
       "4951  21st Century Wire says As 21WIRE reported earl...  Middle-east   \n",
       "4952  21st Century Wire says It s a familiar theme. ...  Middle-east   \n",
       "4953  Patrick Henningsen  21st Century WireRemember ...  Middle-east   \n",
       "4954  21st Century Wire says Al Jazeera America will...  Middle-east   \n",
       "4955  21st Century Wire says As 21WIRE predicted in ...  Middle-east   \n",
       "\n",
       "                     date  \n",
       "0     September 15, 2017   \n",
       "1     September 15, 2017   \n",
       "2     September 15, 2017   \n",
       "3     September 15, 2017   \n",
       "4     September 15, 2017   \n",
       "...                   ...  \n",
       "4951     January 16, 2016  \n",
       "4952     January 16, 2016  \n",
       "4953     January 15, 2016  \n",
       "4954     January 14, 2016  \n",
       "4955     January 12, 2016  \n",
       "\n",
       "[4956 rows x 5 columns]"
      ]
     },
     "execution_count": 23,
     "metadata": {},
     "output_type": "execute_result"
    }
   ],
   "source": [
    "val_data['label'] = predicted_labels\n",
    "val_data"
   ]
  },
  {
   "cell_type": "markdown",
   "metadata": {},
   "source": [
    "# Save the modified validation file"
   ]
  },
  {
   "cell_type": "code",
   "execution_count": 24,
   "metadata": {},
   "outputs": [
    {
     "name": "stdout",
     "output_type": "stream",
     "text": [
      "Predicted labels saved to dataset/predicted_validation_data.csv\n"
     ]
    }
   ],
   "source": [
    "val_data.to_csv(OUTPUT_PATH, index=False)\n",
    "\n",
    "print(f\"Predicted labels saved to {OUTPUT_PATH}\")"
   ]
  }
 ],
 "metadata": {
  "celltoolbar": "Slideshow",
  "kernelspec": {
   "display_name": "base",
   "language": "python",
   "name": "python3"
  },
  "language_info": {
   "codemirror_mode": {
    "name": "ipython",
    "version": 3
   },
   "file_extension": ".py",
   "mimetype": "text/x-python",
   "name": "python",
   "nbconvert_exporter": "python",
   "pygments_lexer": "ipython3",
   "version": "3.12.7"
  }
 },
 "nbformat": 4,
 "nbformat_minor": 2
}
